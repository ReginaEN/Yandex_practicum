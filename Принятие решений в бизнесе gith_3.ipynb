{
 "cells": [
  {
   "cell_type": "markdown",
   "metadata": {},
   "source": [
    "# Проект: Принятие решений в бизнесе"
   ]
  },
  {
   "cell_type": "markdown",
   "metadata": {},
   "source": [
    "+  Описание данных\n",
    "\n",
    "Данные для первой части:\n",
    "\n",
    "\n",
    "Hypothesis — краткое описание гипотезы;\n",
    "\n",
    "Reach — охват пользователей по 10-балльной шкале;\n",
    "\n",
    "Impact — влияние на пользователей по 10-балльной шкале;\n",
    "\n",
    "Confidence — уверенность в гипотезе по 10-балльной шкале;\n",
    "\n",
    "Efforts — затраты ресурсов на проверку гипотезы по 10-балльной шкале. Чем больше значение Efforts, тем дороже проверка гипотезы.\n",
    "\n",
    "Данные для второй части:\n",
    "\n",
    "\n",
    "transactionId — идентификатор заказа;\n",
    "\n",
    "visitorId — идентификатор пользователя, совершившего заказ;\n",
    "\n",
    "date — дата, когда был совершён заказ;\n",
    "\n",
    "revenue — выручка заказа;\n",
    "\n",
    "group — группа A/B-теста, в которую попал заказ.\n",
    "\n",
    "\n",
    "date — дата;\n",
    "\n",
    "group — группа A/B-теста;\n",
    "\n",
    "visitors — количество пользователей в указанную дату в указанной группе A/B-теста"
   ]
  },
  {
   "cell_type": "markdown",
   "metadata": {},
   "source": [
    "-   Описание проекта\n",
    "\n",
    "Крупный интернет магазин подготивил серию гипотез, для увеличения выручки. \n",
    "Следует их приоритезировать, запустить A/B-тест и проанализировать результаты.\n"
   ]
  },
  {
   "cell_type": "markdown",
   "metadata": {},
   "source": [
    "## Приоритизация гипотез"
   ]
  },
  {
   "cell_type": "markdown",
   "metadata": {},
   "source": [
    "* Импортируем библиотеки, запустим датасет, изучим данные"
   ]
  },
  {
   "cell_type": "code",
   "execution_count": 1,
   "metadata": {},
   "outputs": [],
   "source": [
    "\n",
    "import pandas as pd\n",
    "import numpy as np\n",
    "import matplotlib.pyplot as plt\n",
    "from datetime import datetime, timedelta\n",
    "import seaborn as sns\n",
    "from pymystem3 import Mystem\n",
    "from collections import Counter\n",
    "from scipy import stats as st\n",
    "import datetime as dt\n",
    "import warnings"
   ]
  },
  {
   "cell_type": "code",
   "execution_count": 2,
   "metadata": {},
   "outputs": [
    {
     "data": {
      "text/html": [
       "<div>\n",
       "<style scoped>\n",
       "    .dataframe tbody tr th:only-of-type {\n",
       "        vertical-align: middle;\n",
       "    }\n",
       "\n",
       "    .dataframe tbody tr th {\n",
       "        vertical-align: top;\n",
       "    }\n",
       "\n",
       "    .dataframe thead th {\n",
       "        text-align: right;\n",
       "    }\n",
       "</style>\n",
       "<table border=\"1\" class=\"dataframe\">\n",
       "  <thead>\n",
       "    <tr style=\"text-align: right;\">\n",
       "      <th></th>\n",
       "      <th>Hypothesis</th>\n",
       "      <th>Reach</th>\n",
       "      <th>Impact</th>\n",
       "      <th>Confidence</th>\n",
       "      <th>Efforts</th>\n",
       "    </tr>\n",
       "  </thead>\n",
       "  <tbody>\n",
       "    <tr>\n",
       "      <th>0</th>\n",
       "      <td>Добавить два новых канала привлечения трафика, что позволит привлекать на 30% больше пользователей</td>\n",
       "      <td>3</td>\n",
       "      <td>10</td>\n",
       "      <td>8</td>\n",
       "      <td>6</td>\n",
       "    </tr>\n",
       "    <tr>\n",
       "      <th>1</th>\n",
       "      <td>Запустить собственную службу доставки, что сократит срок доставки заказов</td>\n",
       "      <td>2</td>\n",
       "      <td>5</td>\n",
       "      <td>4</td>\n",
       "      <td>10</td>\n",
       "    </tr>\n",
       "    <tr>\n",
       "      <th>2</th>\n",
       "      <td>Добавить блоки рекомендаций товаров на сайт интернет магазина, чтобы повысить конверсию и средни...</td>\n",
       "      <td>8</td>\n",
       "      <td>3</td>\n",
       "      <td>7</td>\n",
       "      <td>3</td>\n",
       "    </tr>\n",
       "    <tr>\n",
       "      <th>3</th>\n",
       "      <td>Изменить структура категорий, что увеличит конверсию, т.к. пользователи быстрее найдут нужный товар</td>\n",
       "      <td>8</td>\n",
       "      <td>3</td>\n",
       "      <td>3</td>\n",
       "      <td>8</td>\n",
       "    </tr>\n",
       "    <tr>\n",
       "      <th>4</th>\n",
       "      <td>Изменить цвет фона главной страницы, чтобы увеличить вовлеченность пользователей</td>\n",
       "      <td>3</td>\n",
       "      <td>1</td>\n",
       "      <td>1</td>\n",
       "      <td>1</td>\n",
       "    </tr>\n",
       "    <tr>\n",
       "      <th>5</th>\n",
       "      <td>Добавить страницу отзывов клиентов о магазине, что позволит увеличить количество заказов</td>\n",
       "      <td>3</td>\n",
       "      <td>2</td>\n",
       "      <td>2</td>\n",
       "      <td>3</td>\n",
       "    </tr>\n",
       "    <tr>\n",
       "      <th>6</th>\n",
       "      <td>Показать на главной странице баннеры с актуальными акциями и распродажами, чтобы увеличить конве...</td>\n",
       "      <td>5</td>\n",
       "      <td>3</td>\n",
       "      <td>8</td>\n",
       "      <td>3</td>\n",
       "    </tr>\n",
       "    <tr>\n",
       "      <th>7</th>\n",
       "      <td>Добавить форму подписки на все основные страницы, чтобы собрать базу клиентов для email-рассылок</td>\n",
       "      <td>10</td>\n",
       "      <td>7</td>\n",
       "      <td>8</td>\n",
       "      <td>5</td>\n",
       "    </tr>\n",
       "    <tr>\n",
       "      <th>8</th>\n",
       "      <td>Запустить акцию, дающую скидку на товар в день рождения</td>\n",
       "      <td>1</td>\n",
       "      <td>9</td>\n",
       "      <td>9</td>\n",
       "      <td>5</td>\n",
       "    </tr>\n",
       "  </tbody>\n",
       "</table>\n",
       "</div>"
      ],
      "text/plain": [
       "                                                                                            Hypothesis  \\\n",
       "0   Добавить два новых канала привлечения трафика, что позволит привлекать на 30% больше пользователей   \n",
       "1                            Запустить собственную службу доставки, что сократит срок доставки заказов   \n",
       "2  Добавить блоки рекомендаций товаров на сайт интернет магазина, чтобы повысить конверсию и средни...   \n",
       "3  Изменить структура категорий, что увеличит конверсию, т.к. пользователи быстрее найдут нужный товар   \n",
       "4                     Изменить цвет фона главной страницы, чтобы увеличить вовлеченность пользователей   \n",
       "5             Добавить страницу отзывов клиентов о магазине, что позволит увеличить количество заказов   \n",
       "6  Показать на главной странице баннеры с актуальными акциями и распродажами, чтобы увеличить конве...   \n",
       "7     Добавить форму подписки на все основные страницы, чтобы собрать базу клиентов для email-рассылок   \n",
       "8                                              Запустить акцию, дающую скидку на товар в день рождения   \n",
       "\n",
       "   Reach  Impact  Confidence  Efforts  \n",
       "0      3      10           8        6  \n",
       "1      2       5           4       10  \n",
       "2      8       3           7        3  \n",
       "3      8       3           3        8  \n",
       "4      3       1           1        1  \n",
       "5      3       2           2        3  \n",
       "6      5       3           8        3  \n",
       "7     10       7           8        5  \n",
       "8      1       9           9        5  "
      ]
     },
     "execution_count": 2,
     "metadata": {},
     "output_type": "execute_result"
    }
   ],
   "source": [
    "pd.options.display.max_colwidth = 100\n",
    "data = pd.read_csv('/datasets/hypothesis.csv')\n",
    "data\n"
   ]
  },
  {
   "cell_type": "code",
   "execution_count": 3,
   "metadata": {},
   "outputs": [
    {
     "data": {
      "text/html": [
       "<div>\n",
       "<style scoped>\n",
       "    .dataframe tbody tr th:only-of-type {\n",
       "        vertical-align: middle;\n",
       "    }\n",
       "\n",
       "    .dataframe tbody tr th {\n",
       "        vertical-align: top;\n",
       "    }\n",
       "\n",
       "    .dataframe thead th {\n",
       "        text-align: right;\n",
       "    }\n",
       "</style>\n",
       "<table border=\"1\" class=\"dataframe\">\n",
       "  <thead>\n",
       "    <tr style=\"text-align: right;\">\n",
       "      <th></th>\n",
       "      <th>Hypothesis</th>\n",
       "      <th>ICE</th>\n",
       "    </tr>\n",
       "  </thead>\n",
       "  <tbody>\n",
       "    <tr>\n",
       "      <th>8</th>\n",
       "      <td>Запустить акцию, дающую скидку на товар в день рождения</td>\n",
       "      <td>16.200000</td>\n",
       "    </tr>\n",
       "    <tr>\n",
       "      <th>0</th>\n",
       "      <td>Добавить два новых канала привлечения трафика, что позволит привлекать на 30% больше пользователей</td>\n",
       "      <td>13.333333</td>\n",
       "    </tr>\n",
       "    <tr>\n",
       "      <th>7</th>\n",
       "      <td>Добавить форму подписки на все основные страницы, чтобы собрать базу клиентов для email-рассылок</td>\n",
       "      <td>11.200000</td>\n",
       "    </tr>\n",
       "    <tr>\n",
       "      <th>6</th>\n",
       "      <td>Показать на главной странице баннеры с актуальными акциями и распродажами, чтобы увеличить конве...</td>\n",
       "      <td>8.000000</td>\n",
       "    </tr>\n",
       "    <tr>\n",
       "      <th>2</th>\n",
       "      <td>Добавить блоки рекомендаций товаров на сайт интернет магазина, чтобы повысить конверсию и средни...</td>\n",
       "      <td>7.000000</td>\n",
       "    </tr>\n",
       "    <tr>\n",
       "      <th>1</th>\n",
       "      <td>Запустить собственную службу доставки, что сократит срок доставки заказов</td>\n",
       "      <td>2.000000</td>\n",
       "    </tr>\n",
       "    <tr>\n",
       "      <th>5</th>\n",
       "      <td>Добавить страницу отзывов клиентов о магазине, что позволит увеличить количество заказов</td>\n",
       "      <td>1.333333</td>\n",
       "    </tr>\n",
       "    <tr>\n",
       "      <th>3</th>\n",
       "      <td>Изменить структура категорий, что увеличит конверсию, т.к. пользователи быстрее найдут нужный товар</td>\n",
       "      <td>1.125000</td>\n",
       "    </tr>\n",
       "    <tr>\n",
       "      <th>4</th>\n",
       "      <td>Изменить цвет фона главной страницы, чтобы увеличить вовлеченность пользователей</td>\n",
       "      <td>1.000000</td>\n",
       "    </tr>\n",
       "  </tbody>\n",
       "</table>\n",
       "</div>"
      ],
      "text/plain": [
       "                                                                                            Hypothesis  \\\n",
       "8                                              Запустить акцию, дающую скидку на товар в день рождения   \n",
       "0   Добавить два новых канала привлечения трафика, что позволит привлекать на 30% больше пользователей   \n",
       "7     Добавить форму подписки на все основные страницы, чтобы собрать базу клиентов для email-рассылок   \n",
       "6  Показать на главной странице баннеры с актуальными акциями и распродажами, чтобы увеличить конве...   \n",
       "2  Добавить блоки рекомендаций товаров на сайт интернет магазина, чтобы повысить конверсию и средни...   \n",
       "1                            Запустить собственную службу доставки, что сократит срок доставки заказов   \n",
       "5             Добавить страницу отзывов клиентов о магазине, что позволит увеличить количество заказов   \n",
       "3  Изменить структура категорий, что увеличит конверсию, т.к. пользователи быстрее найдут нужный товар   \n",
       "4                     Изменить цвет фона главной страницы, чтобы увеличить вовлеченность пользователей   \n",
       "\n",
       "         ICE  \n",
       "8  16.200000  \n",
       "0  13.333333  \n",
       "7  11.200000  \n",
       "6   8.000000  \n",
       "2   7.000000  \n",
       "1   2.000000  \n",
       "5   1.333333  \n",
       "3   1.125000  \n",
       "4   1.000000  "
      ]
     },
     "metadata": {},
     "output_type": "display_data"
    }
   ],
   "source": [
    "data['ICE'] = data['Confidence']*data['Impact']/ data['Efforts'] # проведем приор-цию метом ICE\n",
    "display(data[['Hypothesis', 'ICE']].sort_values(by = 'ICE', ascending = False))"
   ]
  },
  {
   "cell_type": "markdown",
   "metadata": {},
   "source": [
    "После проверки на приоритезацию гипотез методом ICE, мы видим, что приоритетными являются гипотезы: Запустить акцию, дающую скидку на товар в день рождения; Добавить два новых канала привлечения трафика; Добавить форму подписки на все основные страницы."
   ]
  },
  {
   "cell_type": "code",
   "execution_count": 4,
   "metadata": {},
   "outputs": [
    {
     "name": "stdout",
     "output_type": "stream",
     "text": [
      "                                                                                            Hypothesis  \\\n",
      "7     Добавить форму подписки на все основные страницы, чтобы собрать базу клиентов для email-рассылок   \n",
      "2  Добавить блоки рекомендаций товаров на сайт интернет магазина, чтобы повысить конверсию и средни...   \n",
      "0   Добавить два новых канала привлечения трафика, что позволит привлекать на 30% больше пользователей   \n",
      "6  Показать на главной странице баннеры с актуальными акциями и распродажами, чтобы увеличить конве...   \n",
      "8                                              Запустить акцию, дающую скидку на товар в день рождения   \n",
      "3  Изменить структура категорий, что увеличит конверсию, т.к. пользователи быстрее найдут нужный товар   \n",
      "1                            Запустить собственную службу доставки, что сократит срок доставки заказов   \n",
      "5             Добавить страницу отзывов клиентов о магазине, что позволит увеличить количество заказов   \n",
      "4                     Изменить цвет фона главной страницы, чтобы увеличить вовлеченность пользователей   \n",
      "\n",
      "    RICE  \n",
      "7  112.0  \n",
      "2   56.0  \n",
      "0   40.0  \n",
      "6   40.0  \n",
      "8   16.2  \n",
      "3    9.0  \n",
      "1    4.0  \n",
      "5    4.0  \n",
      "4    3.0  \n"
     ]
    }
   ],
   "source": [
    "data['RICE'] = data['Reach'] * data['Impact'] * data['Confidence']/ data['Efforts']\n",
    "print(data[['Hypothesis', 'RICE']].sort_values(by = 'RICE', ascending  = False))"
   ]
  },
  {
   "cell_type": "markdown",
   "metadata": {},
   "source": [
    "После проверки на приоритезацию гипотез методом RICE, мы видим, что приоритетными являются гипотезы: Добавить форму подписки на все основные страницы;Добавить блоки рекомендаций товаров на сайт; Добавить два новых канала привлечения трафика."
   ]
  },
  {
   "cell_type": "markdown",
   "metadata": {},
   "source": [
    "На мой взгляд наиболее предпочтительной является гипотеза - Добавить форму подписки на все основные страницы. Она входит в тройку лидеров при методе приоритезации ICE и при этом у нее существеено выше охват. Так же можно взять гипотезу: Добавить два новых канала для привлечения трафика. Обе эти гипотезы входят в тройку лидеров в обоих случаях."
   ]
  },
  {
   "cell_type": "markdown",
   "metadata": {},
   "source": [
    "* Мы можем обратить внимание на то, что при использовании метода RICE картинка по лидерам меняется, т.к. данный метод учитывает охват пользователей. Это существенный момент для выбора гипотезы.Шансы на успех при большем кол-ве пользователей повышаются.  "
   ]
  },
  {
   "cell_type": "markdown",
   "metadata": {},
   "source": [
    "## Анализ A/B-теста"
   ]
  },
  {
   "cell_type": "markdown",
   "metadata": {},
   "source": [
    "* У нас есть результаты проведенного исследования, нам следует их проанализировать"
   ]
  },
  {
   "cell_type": "code",
   "execution_count": 5,
   "metadata": {},
   "outputs": [],
   "source": [
    "orders = pd.read_csv('/datasets/orders.csv') # познакомимся с таблицами\n",
    "visitors = pd.read_csv('/datasets/visitors.csv')"
   ]
  },
  {
   "cell_type": "code",
   "execution_count": 6,
   "metadata": {},
   "outputs": [
    {
     "data": {
      "text/html": [
       "<div>\n",
       "<style scoped>\n",
       "    .dataframe tbody tr th:only-of-type {\n",
       "        vertical-align: middle;\n",
       "    }\n",
       "\n",
       "    .dataframe tbody tr th {\n",
       "        vertical-align: top;\n",
       "    }\n",
       "\n",
       "    .dataframe thead th {\n",
       "        text-align: right;\n",
       "    }\n",
       "</style>\n",
       "<table border=\"1\" class=\"dataframe\">\n",
       "  <thead>\n",
       "    <tr style=\"text-align: right;\">\n",
       "      <th></th>\n",
       "      <th>transactionId</th>\n",
       "      <th>visitorId</th>\n",
       "      <th>date</th>\n",
       "      <th>revenue</th>\n",
       "      <th>group</th>\n",
       "    </tr>\n",
       "  </thead>\n",
       "  <tbody>\n",
       "    <tr>\n",
       "      <th>0</th>\n",
       "      <td>3667963787</td>\n",
       "      <td>3312258926</td>\n",
       "      <td>2019-08-15</td>\n",
       "      <td>1650</td>\n",
       "      <td>B</td>\n",
       "    </tr>\n",
       "    <tr>\n",
       "      <th>1</th>\n",
       "      <td>2804400009</td>\n",
       "      <td>3642806036</td>\n",
       "      <td>2019-08-15</td>\n",
       "      <td>730</td>\n",
       "      <td>B</td>\n",
       "    </tr>\n",
       "    <tr>\n",
       "      <th>2</th>\n",
       "      <td>2961555356</td>\n",
       "      <td>4069496402</td>\n",
       "      <td>2019-08-15</td>\n",
       "      <td>400</td>\n",
       "      <td>A</td>\n",
       "    </tr>\n",
       "    <tr>\n",
       "      <th>3</th>\n",
       "      <td>3797467345</td>\n",
       "      <td>1196621759</td>\n",
       "      <td>2019-08-15</td>\n",
       "      <td>9759</td>\n",
       "      <td>B</td>\n",
       "    </tr>\n",
       "    <tr>\n",
       "      <th>4</th>\n",
       "      <td>2282983706</td>\n",
       "      <td>2322279887</td>\n",
       "      <td>2019-08-15</td>\n",
       "      <td>2308</td>\n",
       "      <td>B</td>\n",
       "    </tr>\n",
       "    <tr>\n",
       "      <th>...</th>\n",
       "      <td>...</td>\n",
       "      <td>...</td>\n",
       "      <td>...</td>\n",
       "      <td>...</td>\n",
       "      <td>...</td>\n",
       "    </tr>\n",
       "    <tr>\n",
       "      <th>1192</th>\n",
       "      <td>2662137336</td>\n",
       "      <td>3733762160</td>\n",
       "      <td>2019-08-14</td>\n",
       "      <td>6490</td>\n",
       "      <td>B</td>\n",
       "    </tr>\n",
       "    <tr>\n",
       "      <th>1193</th>\n",
       "      <td>2203539145</td>\n",
       "      <td>370388673</td>\n",
       "      <td>2019-08-14</td>\n",
       "      <td>3190</td>\n",
       "      <td>A</td>\n",
       "    </tr>\n",
       "    <tr>\n",
       "      <th>1194</th>\n",
       "      <td>1807773912</td>\n",
       "      <td>573423106</td>\n",
       "      <td>2019-08-14</td>\n",
       "      <td>10550</td>\n",
       "      <td>A</td>\n",
       "    </tr>\n",
       "    <tr>\n",
       "      <th>1195</th>\n",
       "      <td>1947021204</td>\n",
       "      <td>1614305549</td>\n",
       "      <td>2019-08-14</td>\n",
       "      <td>100</td>\n",
       "      <td>A</td>\n",
       "    </tr>\n",
       "    <tr>\n",
       "      <th>1196</th>\n",
       "      <td>3936777065</td>\n",
       "      <td>2108080724</td>\n",
       "      <td>2019-08-15</td>\n",
       "      <td>202740</td>\n",
       "      <td>B</td>\n",
       "    </tr>\n",
       "  </tbody>\n",
       "</table>\n",
       "<p>1197 rows × 5 columns</p>\n",
       "</div>"
      ],
      "text/plain": [
       "      transactionId   visitorId        date  revenue group\n",
       "0        3667963787  3312258926  2019-08-15     1650     B\n",
       "1        2804400009  3642806036  2019-08-15      730     B\n",
       "2        2961555356  4069496402  2019-08-15      400     A\n",
       "3        3797467345  1196621759  2019-08-15     9759     B\n",
       "4        2282983706  2322279887  2019-08-15     2308     B\n",
       "...             ...         ...         ...      ...   ...\n",
       "1192     2662137336  3733762160  2019-08-14     6490     B\n",
       "1193     2203539145   370388673  2019-08-14     3190     A\n",
       "1194     1807773912   573423106  2019-08-14    10550     A\n",
       "1195     1947021204  1614305549  2019-08-14      100     A\n",
       "1196     3936777065  2108080724  2019-08-15   202740     B\n",
       "\n",
       "[1197 rows x 5 columns]"
      ]
     },
     "execution_count": 6,
     "metadata": {},
     "output_type": "execute_result"
    }
   ],
   "source": [
    "orders"
   ]
  },
  {
   "cell_type": "code",
   "execution_count": 7,
   "metadata": {},
   "outputs": [
    {
     "data": {
      "text/plain": [
       "'Явных дупликатов:'"
      ]
     },
     "metadata": {},
     "output_type": "display_data"
    },
    {
     "data": {
      "text/plain": [
       "0"
      ]
     },
     "metadata": {},
     "output_type": "display_data"
    },
    {
     "name": "stdout",
     "output_type": "stream",
     "text": [
      "<class 'pandas.core.frame.DataFrame'>\n",
      "RangeIndex: 1197 entries, 0 to 1196\n",
      "Data columns (total 5 columns):\n",
      " #   Column         Non-Null Count  Dtype \n",
      "---  ------         --------------  ----- \n",
      " 0   transactionId  1197 non-null   int64 \n",
      " 1   visitorId      1197 non-null   int64 \n",
      " 2   date           1197 non-null   object\n",
      " 3   revenue        1197 non-null   int64 \n",
      " 4   group          1197 non-null   object\n",
      "dtypes: int64(3), object(2)\n",
      "memory usage: 46.9+ KB\n"
     ]
    }
   ],
   "source": [
    "display('Явных дупликатов:',orders.duplicated().sum()) # проверим на дупликаты\n",
    "orders.info()"
   ]
  },
  {
   "cell_type": "code",
   "execution_count": 8,
   "metadata": {},
   "outputs": [
    {
     "name": "stdout",
     "output_type": "stream",
     "text": [
      "<class 'pandas.core.frame.DataFrame'>\n",
      "RangeIndex: 1197 entries, 0 to 1196\n",
      "Data columns (total 5 columns):\n",
      " #   Column         Non-Null Count  Dtype         \n",
      "---  ------         --------------  -----         \n",
      " 0   transactionId  1197 non-null   int64         \n",
      " 1   visitorId      1197 non-null   int64         \n",
      " 2   date           1197 non-null   datetime64[ns]\n",
      " 3   revenue        1197 non-null   int64         \n",
      " 4   group          1197 non-null   object        \n",
      "dtypes: datetime64[ns](1), int64(3), object(1)\n",
      "memory usage: 46.9+ KB\n"
     ]
    }
   ],
   "source": [
    "orders['date'] = pd.to_datetime(orders['date'])\n",
    "orders.info()\n"
   ]
  },
  {
   "cell_type": "code",
   "execution_count": 9,
   "metadata": {},
   "outputs": [
    {
     "data": {
      "text/html": [
       "<div>\n",
       "<style scoped>\n",
       "    .dataframe tbody tr th:only-of-type {\n",
       "        vertical-align: middle;\n",
       "    }\n",
       "\n",
       "    .dataframe tbody tr th {\n",
       "        vertical-align: top;\n",
       "    }\n",
       "\n",
       "    .dataframe thead th {\n",
       "        text-align: right;\n",
       "    }\n",
       "</style>\n",
       "<table border=\"1\" class=\"dataframe\">\n",
       "  <thead>\n",
       "    <tr style=\"text-align: right;\">\n",
       "      <th></th>\n",
       "      <th>date</th>\n",
       "      <th>group</th>\n",
       "      <th>visitors</th>\n",
       "    </tr>\n",
       "  </thead>\n",
       "  <tbody>\n",
       "    <tr>\n",
       "      <th>0</th>\n",
       "      <td>2019-08-01</td>\n",
       "      <td>A</td>\n",
       "      <td>719</td>\n",
       "    </tr>\n",
       "    <tr>\n",
       "      <th>1</th>\n",
       "      <td>2019-08-02</td>\n",
       "      <td>A</td>\n",
       "      <td>619</td>\n",
       "    </tr>\n",
       "    <tr>\n",
       "      <th>2</th>\n",
       "      <td>2019-08-03</td>\n",
       "      <td>A</td>\n",
       "      <td>507</td>\n",
       "    </tr>\n",
       "    <tr>\n",
       "      <th>3</th>\n",
       "      <td>2019-08-04</td>\n",
       "      <td>A</td>\n",
       "      <td>717</td>\n",
       "    </tr>\n",
       "    <tr>\n",
       "      <th>4</th>\n",
       "      <td>2019-08-05</td>\n",
       "      <td>A</td>\n",
       "      <td>756</td>\n",
       "    </tr>\n",
       "    <tr>\n",
       "      <th>...</th>\n",
       "      <td>...</td>\n",
       "      <td>...</td>\n",
       "      <td>...</td>\n",
       "    </tr>\n",
       "    <tr>\n",
       "      <th>57</th>\n",
       "      <td>2019-08-27</td>\n",
       "      <td>B</td>\n",
       "      <td>720</td>\n",
       "    </tr>\n",
       "    <tr>\n",
       "      <th>58</th>\n",
       "      <td>2019-08-28</td>\n",
       "      <td>B</td>\n",
       "      <td>654</td>\n",
       "    </tr>\n",
       "    <tr>\n",
       "      <th>59</th>\n",
       "      <td>2019-08-29</td>\n",
       "      <td>B</td>\n",
       "      <td>531</td>\n",
       "    </tr>\n",
       "    <tr>\n",
       "      <th>60</th>\n",
       "      <td>2019-08-30</td>\n",
       "      <td>B</td>\n",
       "      <td>490</td>\n",
       "    </tr>\n",
       "    <tr>\n",
       "      <th>61</th>\n",
       "      <td>2019-08-31</td>\n",
       "      <td>B</td>\n",
       "      <td>718</td>\n",
       "    </tr>\n",
       "  </tbody>\n",
       "</table>\n",
       "<p>62 rows × 3 columns</p>\n",
       "</div>"
      ],
      "text/plain": [
       "          date group  visitors\n",
       "0   2019-08-01     A       719\n",
       "1   2019-08-02     A       619\n",
       "2   2019-08-03     A       507\n",
       "3   2019-08-04     A       717\n",
       "4   2019-08-05     A       756\n",
       "..         ...   ...       ...\n",
       "57  2019-08-27     B       720\n",
       "58  2019-08-28     B       654\n",
       "59  2019-08-29     B       531\n",
       "60  2019-08-30     B       490\n",
       "61  2019-08-31     B       718\n",
       "\n",
       "[62 rows x 3 columns]"
      ]
     },
     "execution_count": 9,
     "metadata": {},
     "output_type": "execute_result"
    }
   ],
   "source": [
    "visitors"
   ]
  },
  {
   "cell_type": "code",
   "execution_count": 10,
   "metadata": {},
   "outputs": [
    {
     "name": "stdout",
     "output_type": "stream",
     "text": [
      "<class 'pandas.core.frame.DataFrame'>\n",
      "RangeIndex: 62 entries, 0 to 61\n",
      "Data columns (total 3 columns):\n",
      " #   Column    Non-Null Count  Dtype \n",
      "---  ------    --------------  ----- \n",
      " 0   date      62 non-null     object\n",
      " 1   group     62 non-null     object\n",
      " 2   visitors  62 non-null     int64 \n",
      "dtypes: int64(1), object(2)\n",
      "memory usage: 1.6+ KB\n"
     ]
    }
   ],
   "source": [
    "visitors.duplicated().sum()\n",
    "visitors.info()"
   ]
  },
  {
   "cell_type": "code",
   "execution_count": 11,
   "metadata": {},
   "outputs": [
    {
     "name": "stdout",
     "output_type": "stream",
     "text": [
      "<class 'pandas.core.frame.DataFrame'>\n",
      "RangeIndex: 62 entries, 0 to 61\n",
      "Data columns (total 3 columns):\n",
      " #   Column    Non-Null Count  Dtype         \n",
      "---  ------    --------------  -----         \n",
      " 0   date      62 non-null     datetime64[ns]\n",
      " 1   group     62 non-null     object        \n",
      " 2   visitors  62 non-null     int64         \n",
      "dtypes: datetime64[ns](1), int64(1), object(1)\n",
      "memory usage: 1.6+ KB\n"
     ]
    }
   ],
   "source": [
    "visitors['date'] = pd.to_datetime(visitors['date'])  # переведом дату в надлежащую форму\n",
    "visitors.info()"
   ]
  },
  {
   "cell_type": "markdown",
   "metadata": {},
   "source": [
    "Проверили таблицы на наличие явных дупликатов, отсутствие каких то данных, проверили тип данных, перевели дату в необходимый для дальнейшей работы формат"
   ]
  },
  {
   "cell_type": "code",
   "execution_count": 12,
   "metadata": {},
   "outputs": [
    {
     "data": {
      "text/html": [
       "<div>\n",
       "<style scoped>\n",
       "    .dataframe tbody tr th:only-of-type {\n",
       "        vertical-align: middle;\n",
       "    }\n",
       "\n",
       "    .dataframe tbody tr th {\n",
       "        vertical-align: top;\n",
       "    }\n",
       "\n",
       "    .dataframe thead th {\n",
       "        text-align: right;\n",
       "    }\n",
       "</style>\n",
       "<table border=\"1\" class=\"dataframe\">\n",
       "  <thead>\n",
       "    <tr style=\"text-align: right;\">\n",
       "      <th></th>\n",
       "      <th>order</th>\n",
       "      <th>user</th>\n",
       "      <th>date</th>\n",
       "      <th>revenue</th>\n",
       "      <th>group</th>\n",
       "    </tr>\n",
       "  </thead>\n",
       "  <tbody>\n",
       "    <tr>\n",
       "      <th>0</th>\n",
       "      <td>3667963787</td>\n",
       "      <td>3312258926</td>\n",
       "      <td>2019-08-15</td>\n",
       "      <td>1650</td>\n",
       "      <td>B</td>\n",
       "    </tr>\n",
       "    <tr>\n",
       "      <th>1</th>\n",
       "      <td>2804400009</td>\n",
       "      <td>3642806036</td>\n",
       "      <td>2019-08-15</td>\n",
       "      <td>730</td>\n",
       "      <td>B</td>\n",
       "    </tr>\n",
       "    <tr>\n",
       "      <th>2</th>\n",
       "      <td>2961555356</td>\n",
       "      <td>4069496402</td>\n",
       "      <td>2019-08-15</td>\n",
       "      <td>400</td>\n",
       "      <td>A</td>\n",
       "    </tr>\n",
       "    <tr>\n",
       "      <th>3</th>\n",
       "      <td>3797467345</td>\n",
       "      <td>1196621759</td>\n",
       "      <td>2019-08-15</td>\n",
       "      <td>9759</td>\n",
       "      <td>B</td>\n",
       "    </tr>\n",
       "    <tr>\n",
       "      <th>4</th>\n",
       "      <td>2282983706</td>\n",
       "      <td>2322279887</td>\n",
       "      <td>2019-08-15</td>\n",
       "      <td>2308</td>\n",
       "      <td>B</td>\n",
       "    </tr>\n",
       "  </tbody>\n",
       "</table>\n",
       "</div>"
      ],
      "text/plain": [
       "        order        user       date  revenue group\n",
       "0  3667963787  3312258926 2019-08-15     1650     B\n",
       "1  2804400009  3642806036 2019-08-15      730     B\n",
       "2  2961555356  4069496402 2019-08-15      400     A\n",
       "3  3797467345  1196621759 2019-08-15     9759     B\n",
       "4  2282983706  2322279887 2019-08-15     2308     B"
      ]
     },
     "execution_count": 12,
     "metadata": {},
     "output_type": "execute_result"
    }
   ],
   "source": [
    "\n",
    "orders = orders.rename(columns = {'transactionId': 'order', 'visitorId':'user'}) \n",
    "\n",
    "orders.head() # для удобства переименуем некоторые столбцы"
   ]
  },
  {
   "cell_type": "markdown",
   "metadata": {},
   "source": [
    "Проверим количество участников в обеих группах"
   ]
  },
  {
   "cell_type": "code",
   "execution_count": 13,
   "metadata": {},
   "outputs": [
    {
     "data": {
      "text/plain": [
       "18736"
      ]
     },
     "metadata": {},
     "output_type": "display_data"
    },
    {
     "data": {
      "text/plain": [
       "18916"
      ]
     },
     "metadata": {},
     "output_type": "display_data"
    },
    {
     "name": "stdout",
     "output_type": "stream",
     "text": [
      "0.961%\n"
     ]
    }
   ],
   "source": [
    "a = visitors[visitors['group'] == 'A']['visitors'].sum()\n",
    "display(a)\n",
    "b = visitors[visitors['group'] == 'B']['visitors'].sum()\n",
    "display(b)\n",
    "print(\"{:.3%}\".format((b-a)/a))"
   ]
  },
  {
   "cell_type": "markdown",
   "metadata": {},
   "source": [
    "Количество незначительно отличается.\n",
    "\n",
    "Сделаем проверку на наличие в таблице  \"подглядывающих\""
   ]
  },
  {
   "cell_type": "code",
   "execution_count": 14,
   "metadata": {},
   "outputs": [
    {
     "name": "stdout",
     "output_type": "stream",
     "text": [
      "<class 'pandas.core.frame.DataFrame'>\n",
      "RangeIndex: 1197 entries, 0 to 1196\n",
      "Data columns (total 5 columns):\n",
      " #   Column   Non-Null Count  Dtype         \n",
      "---  ------   --------------  -----         \n",
      " 0   order    1197 non-null   int64         \n",
      " 1   user     1197 non-null   int64         \n",
      " 2   date     1197 non-null   datetime64[ns]\n",
      " 3   revenue  1197 non-null   int64         \n",
      " 4   group    1197 non-null   object        \n",
      "dtypes: datetime64[ns](1), int64(3), object(1)\n",
      "memory usage: 46.9+ KB\n"
     ]
    }
   ],
   "source": [
    "orders.info()"
   ]
  },
  {
   "cell_type": "code",
   "execution_count": 15,
   "metadata": {},
   "outputs": [
    {
     "data": {
      "text/plain": [
       "58"
      ]
     },
     "execution_count": 15,
     "metadata": {},
     "output_type": "execute_result"
    }
   ],
   "source": [
    "ord_a = orders[orders['group'] == 'A']\n",
    "ord_b = orders[orders['group'] == 'B']\n",
    "ord_c = ord_a.merge(ord_b, on  = 'user')['user'].unique()\n",
    "len(ord_c)"
   ]
  },
  {
   "cell_type": "markdown",
   "metadata": {},
   "source": [
    "Найдены 58 пользователей которые состоят в обех группах. Т.к. данные по ним будут искажать реальную картину мы их удаляем"
   ]
  },
  {
   "cell_type": "code",
   "execution_count": 16,
   "metadata": {},
   "outputs": [
    {
     "name": "stdout",
     "output_type": "stream",
     "text": [
      "<class 'pandas.core.frame.DataFrame'>\n",
      "Int64Index: 1016 entries, 0 to 1196\n",
      "Data columns (total 5 columns):\n",
      " #   Column   Non-Null Count  Dtype         \n",
      "---  ------   --------------  -----         \n",
      " 0   order    1016 non-null   int64         \n",
      " 1   user     1016 non-null   int64         \n",
      " 2   date     1016 non-null   datetime64[ns]\n",
      " 3   revenue  1016 non-null   int64         \n",
      " 4   group    1016 non-null   object        \n",
      "dtypes: datetime64[ns](1), int64(3), object(1)\n",
      "memory usage: 47.6+ KB\n"
     ]
    }
   ],
   "source": [
    "orders = orders[~orders['user'].isin(ord_c)] \n",
    "orders.info() # проверяем после удаления\n"
   ]
  },
  {
   "cell_type": "markdown",
   "metadata": {},
   "source": [
    "Провели небольшую предоработку данных:\n",
    "\n",
    "проверили на дупликаты\n",
    "\n",
    "перевели дату в нужный для работы формат\n",
    "\n",
    "переименовали некоторые столбцы\n",
    "\n",
    "нашли группу пользователей состоящих в двух группах сразу. Удалили их, чтобы они не искажали нам результаты исследования\n",
    "\n",
    "проверили размеры обеих групп (разница незначительная)\n",
    "\n",
    "Приступим к анализу"
   ]
  },
  {
   "cell_type": "markdown",
   "metadata": {},
   "source": [
    "### Построим график кумулятивной выручки по группам."
   ]
  },
  {
   "cell_type": "code",
   "execution_count": 17,
   "metadata": {},
   "outputs": [
    {
     "data": {
      "text/html": [
       "<div>\n",
       "<style scoped>\n",
       "    .dataframe tbody tr th:only-of-type {\n",
       "        vertical-align: middle;\n",
       "    }\n",
       "\n",
       "    .dataframe tbody tr th {\n",
       "        vertical-align: top;\n",
       "    }\n",
       "\n",
       "    .dataframe thead th {\n",
       "        text-align: right;\n",
       "    }\n",
       "</style>\n",
       "<table border=\"1\" class=\"dataframe\">\n",
       "  <thead>\n",
       "    <tr style=\"text-align: right;\">\n",
       "      <th></th>\n",
       "      <th>date</th>\n",
       "      <th>group</th>\n",
       "      <th>order</th>\n",
       "      <th>user</th>\n",
       "      <th>revenue</th>\n",
       "    </tr>\n",
       "  </thead>\n",
       "  <tbody>\n",
       "    <tr>\n",
       "      <th>55</th>\n",
       "      <td>2019-08-01</td>\n",
       "      <td>A</td>\n",
       "      <td>23</td>\n",
       "      <td>19</td>\n",
       "      <td>142779</td>\n",
       "    </tr>\n",
       "    <tr>\n",
       "      <th>66</th>\n",
       "      <td>2019-08-01</td>\n",
       "      <td>B</td>\n",
       "      <td>17</td>\n",
       "      <td>17</td>\n",
       "      <td>59758</td>\n",
       "    </tr>\n",
       "    <tr>\n",
       "      <th>175</th>\n",
       "      <td>2019-08-02</td>\n",
       "      <td>A</td>\n",
       "      <td>42</td>\n",
       "      <td>36</td>\n",
       "      <td>234381</td>\n",
       "    </tr>\n",
       "    <tr>\n",
       "      <th>173</th>\n",
       "      <td>2019-08-02</td>\n",
       "      <td>B</td>\n",
       "      <td>40</td>\n",
       "      <td>39</td>\n",
       "      <td>221801</td>\n",
       "    </tr>\n",
       "    <tr>\n",
       "      <th>291</th>\n",
       "      <td>2019-08-03</td>\n",
       "      <td>A</td>\n",
       "      <td>66</td>\n",
       "      <td>60</td>\n",
       "      <td>346854</td>\n",
       "    </tr>\n",
       "    <tr>\n",
       "      <th>...</th>\n",
       "      <td>...</td>\n",
       "      <td>...</td>\n",
       "      <td>...</td>\n",
       "      <td>...</td>\n",
       "      <td>...</td>\n",
       "    </tr>\n",
       "    <tr>\n",
       "      <th>533</th>\n",
       "      <td>2019-08-29</td>\n",
       "      <td>B</td>\n",
       "      <td>510</td>\n",
       "      <td>490</td>\n",
       "      <td>4746610</td>\n",
       "    </tr>\n",
       "    <tr>\n",
       "      <th>757</th>\n",
       "      <td>2019-08-30</td>\n",
       "      <td>A</td>\n",
       "      <td>460</td>\n",
       "      <td>437</td>\n",
       "      <td>3311413</td>\n",
       "    </tr>\n",
       "    <tr>\n",
       "      <th>690</th>\n",
       "      <td>2019-08-30</td>\n",
       "      <td>B</td>\n",
       "      <td>531</td>\n",
       "      <td>511</td>\n",
       "      <td>4955833</td>\n",
       "    </tr>\n",
       "    <tr>\n",
       "      <th>958</th>\n",
       "      <td>2019-08-31</td>\n",
       "      <td>A</td>\n",
       "      <td>468</td>\n",
       "      <td>445</td>\n",
       "      <td>3364656</td>\n",
       "    </tr>\n",
       "    <tr>\n",
       "      <th>930</th>\n",
       "      <td>2019-08-31</td>\n",
       "      <td>B</td>\n",
       "      <td>548</td>\n",
       "      <td>528</td>\n",
       "      <td>5068972</td>\n",
       "    </tr>\n",
       "  </tbody>\n",
       "</table>\n",
       "<p>62 rows × 5 columns</p>\n",
       "</div>"
      ],
      "text/plain": [
       "          date group  order  user  revenue\n",
       "55  2019-08-01     A     23    19   142779\n",
       "66  2019-08-01     B     17    17    59758\n",
       "175 2019-08-02     A     42    36   234381\n",
       "173 2019-08-02     B     40    39   221801\n",
       "291 2019-08-03     A     66    60   346854\n",
       "..         ...   ...    ...   ...      ...\n",
       "533 2019-08-29     B    510   490  4746610\n",
       "757 2019-08-30     A    460   437  3311413\n",
       "690 2019-08-30     B    531   511  4955833\n",
       "958 2019-08-31     A    468   445  3364656\n",
       "930 2019-08-31     B    548   528  5068972\n",
       "\n",
       "[62 rows x 5 columns]"
      ]
     },
     "execution_count": 17,
     "metadata": {},
     "output_type": "execute_result"
    }
   ],
   "source": [
    "# создадим кумулятивную таблицу заказов\n",
    "ord_agreg = orders.apply(lambda x: orders[np.logical_and(\\\n",
    "                                                         orders['date']<= x['date'],\\\n",
    "                                                         orders['group'] == x['group'])]\\\n",
    "                         .agg({'date': 'max','group': 'max','order': 'nunique',\\\n",
    "                               'user': 'nunique','revenue': 'sum'}),axis = 1)\\\n",
    ".sort_values(by = ['date', 'group']).drop_duplicates()\n",
    "ord_agreg\n"
   ]
  },
  {
   "cell_type": "code",
   "execution_count": 18,
   "metadata": {},
   "outputs": [
    {
     "data": {
      "text/html": [
       "<div>\n",
       "<style scoped>\n",
       "    .dataframe tbody tr th:only-of-type {\n",
       "        vertical-align: middle;\n",
       "    }\n",
       "\n",
       "    .dataframe tbody tr th {\n",
       "        vertical-align: top;\n",
       "    }\n",
       "\n",
       "    .dataframe thead th {\n",
       "        text-align: right;\n",
       "    }\n",
       "</style>\n",
       "<table border=\"1\" class=\"dataframe\">\n",
       "  <thead>\n",
       "    <tr style=\"text-align: right;\">\n",
       "      <th></th>\n",
       "      <th>date</th>\n",
       "      <th>group</th>\n",
       "      <th>visitors</th>\n",
       "    </tr>\n",
       "  </thead>\n",
       "  <tbody>\n",
       "    <tr>\n",
       "      <th>0</th>\n",
       "      <td>2019-08-01</td>\n",
       "      <td>A</td>\n",
       "      <td>719</td>\n",
       "    </tr>\n",
       "    <tr>\n",
       "      <th>1</th>\n",
       "      <td>2019-08-02</td>\n",
       "      <td>A</td>\n",
       "      <td>619</td>\n",
       "    </tr>\n",
       "    <tr>\n",
       "      <th>2</th>\n",
       "      <td>2019-08-03</td>\n",
       "      <td>A</td>\n",
       "      <td>507</td>\n",
       "    </tr>\n",
       "    <tr>\n",
       "      <th>3</th>\n",
       "      <td>2019-08-04</td>\n",
       "      <td>A</td>\n",
       "      <td>717</td>\n",
       "    </tr>\n",
       "    <tr>\n",
       "      <th>4</th>\n",
       "      <td>2019-08-05</td>\n",
       "      <td>A</td>\n",
       "      <td>756</td>\n",
       "    </tr>\n",
       "  </tbody>\n",
       "</table>\n",
       "</div>"
      ],
      "text/plain": [
       "        date group  visitors\n",
       "0 2019-08-01     A       719\n",
       "1 2019-08-02     A       619\n",
       "2 2019-08-03     A       507\n",
       "3 2019-08-04     A       717\n",
       "4 2019-08-05     A       756"
      ]
     },
     "execution_count": 18,
     "metadata": {},
     "output_type": "execute_result"
    }
   ],
   "source": [
    "visitors.head()"
   ]
  },
  {
   "cell_type": "code",
   "execution_count": 19,
   "metadata": {},
   "outputs": [
    {
     "data": {
      "text/html": [
       "<div>\n",
       "<style scoped>\n",
       "    .dataframe tbody tr th:only-of-type {\n",
       "        vertical-align: middle;\n",
       "    }\n",
       "\n",
       "    .dataframe tbody tr th {\n",
       "        vertical-align: top;\n",
       "    }\n",
       "\n",
       "    .dataframe thead th {\n",
       "        text-align: right;\n",
       "    }\n",
       "</style>\n",
       "<table border=\"1\" class=\"dataframe\">\n",
       "  <thead>\n",
       "    <tr style=\"text-align: right;\">\n",
       "      <th></th>\n",
       "      <th>date</th>\n",
       "      <th>group</th>\n",
       "      <th>visitors</th>\n",
       "    </tr>\n",
       "  </thead>\n",
       "  <tbody>\n",
       "    <tr>\n",
       "      <th>0</th>\n",
       "      <td>2019-08-01</td>\n",
       "      <td>A</td>\n",
       "      <td>719</td>\n",
       "    </tr>\n",
       "    <tr>\n",
       "      <th>31</th>\n",
       "      <td>2019-08-01</td>\n",
       "      <td>B</td>\n",
       "      <td>713</td>\n",
       "    </tr>\n",
       "    <tr>\n",
       "      <th>1</th>\n",
       "      <td>2019-08-02</td>\n",
       "      <td>A</td>\n",
       "      <td>1338</td>\n",
       "    </tr>\n",
       "    <tr>\n",
       "      <th>32</th>\n",
       "      <td>2019-08-02</td>\n",
       "      <td>B</td>\n",
       "      <td>1294</td>\n",
       "    </tr>\n",
       "    <tr>\n",
       "      <th>2</th>\n",
       "      <td>2019-08-03</td>\n",
       "      <td>A</td>\n",
       "      <td>1845</td>\n",
       "    </tr>\n",
       "    <tr>\n",
       "      <th>...</th>\n",
       "      <td>...</td>\n",
       "      <td>...</td>\n",
       "      <td>...</td>\n",
       "    </tr>\n",
       "    <tr>\n",
       "      <th>59</th>\n",
       "      <td>2019-08-29</td>\n",
       "      <td>B</td>\n",
       "      <td>17708</td>\n",
       "    </tr>\n",
       "    <tr>\n",
       "      <th>29</th>\n",
       "      <td>2019-08-30</td>\n",
       "      <td>A</td>\n",
       "      <td>18037</td>\n",
       "    </tr>\n",
       "    <tr>\n",
       "      <th>60</th>\n",
       "      <td>2019-08-30</td>\n",
       "      <td>B</td>\n",
       "      <td>18198</td>\n",
       "    </tr>\n",
       "    <tr>\n",
       "      <th>30</th>\n",
       "      <td>2019-08-31</td>\n",
       "      <td>A</td>\n",
       "      <td>18736</td>\n",
       "    </tr>\n",
       "    <tr>\n",
       "      <th>61</th>\n",
       "      <td>2019-08-31</td>\n",
       "      <td>B</td>\n",
       "      <td>18916</td>\n",
       "    </tr>\n",
       "  </tbody>\n",
       "</table>\n",
       "<p>62 rows × 3 columns</p>\n",
       "</div>"
      ],
      "text/plain": [
       "         date group  visitors\n",
       "0  2019-08-01     A       719\n",
       "31 2019-08-01     B       713\n",
       "1  2019-08-02     A      1338\n",
       "32 2019-08-02     B      1294\n",
       "2  2019-08-03     A      1845\n",
       "..        ...   ...       ...\n",
       "59 2019-08-29     B     17708\n",
       "29 2019-08-30     A     18037\n",
       "60 2019-08-30     B     18198\n",
       "30 2019-08-31     A     18736\n",
       "61 2019-08-31     B     18916\n",
       "\n",
       "[62 rows x 3 columns]"
      ]
     },
     "execution_count": 19,
     "metadata": {},
     "output_type": "execute_result"
    }
   ],
   "source": [
    "# кумулятивный датафрейм по визитам\n",
    "visit_agreg = visitors.apply(lambda x: visitors[np.logical_and(\\\n",
    "                                                         visitors['date']<= x['date'],\\\n",
    "                                                         visitors['group'] == x['group'])]\\\n",
    "                         .agg({'date': 'max','group': 'max','visitors': 'sum'}),axis = 1)\\\n",
    ".sort_values(by = ['date', 'group'])\n",
    "visit_agreg"
   ]
  },
  {
   "cell_type": "code",
   "execution_count": 20,
   "metadata": {},
   "outputs": [
    {
     "data": {
      "text/html": [
       "<div>\n",
       "<style scoped>\n",
       "    .dataframe tbody tr th:only-of-type {\n",
       "        vertical-align: middle;\n",
       "    }\n",
       "\n",
       "    .dataframe tbody tr th {\n",
       "        vertical-align: top;\n",
       "    }\n",
       "\n",
       "    .dataframe thead th {\n",
       "        text-align: right;\n",
       "    }\n",
       "</style>\n",
       "<table border=\"1\" class=\"dataframe\">\n",
       "  <thead>\n",
       "    <tr style=\"text-align: right;\">\n",
       "      <th></th>\n",
       "      <th>date</th>\n",
       "      <th>group</th>\n",
       "      <th>order</th>\n",
       "      <th>user</th>\n",
       "      <th>revenue</th>\n",
       "      <th>visitors</th>\n",
       "    </tr>\n",
       "  </thead>\n",
       "  <tbody>\n",
       "    <tr>\n",
       "      <th>0</th>\n",
       "      <td>2019-08-01</td>\n",
       "      <td>A</td>\n",
       "      <td>23</td>\n",
       "      <td>19</td>\n",
       "      <td>142779</td>\n",
       "      <td>719</td>\n",
       "    </tr>\n",
       "    <tr>\n",
       "      <th>1</th>\n",
       "      <td>2019-08-01</td>\n",
       "      <td>B</td>\n",
       "      <td>17</td>\n",
       "      <td>17</td>\n",
       "      <td>59758</td>\n",
       "      <td>713</td>\n",
       "    </tr>\n",
       "    <tr>\n",
       "      <th>2</th>\n",
       "      <td>2019-08-02</td>\n",
       "      <td>A</td>\n",
       "      <td>42</td>\n",
       "      <td>36</td>\n",
       "      <td>234381</td>\n",
       "      <td>1338</td>\n",
       "    </tr>\n",
       "    <tr>\n",
       "      <th>3</th>\n",
       "      <td>2019-08-02</td>\n",
       "      <td>B</td>\n",
       "      <td>40</td>\n",
       "      <td>39</td>\n",
       "      <td>221801</td>\n",
       "      <td>1294</td>\n",
       "    </tr>\n",
       "    <tr>\n",
       "      <th>4</th>\n",
       "      <td>2019-08-03</td>\n",
       "      <td>A</td>\n",
       "      <td>66</td>\n",
       "      <td>60</td>\n",
       "      <td>346854</td>\n",
       "      <td>1845</td>\n",
       "    </tr>\n",
       "    <tr>\n",
       "      <th>...</th>\n",
       "      <td>...</td>\n",
       "      <td>...</td>\n",
       "      <td>...</td>\n",
       "      <td>...</td>\n",
       "      <td>...</td>\n",
       "      <td>...</td>\n",
       "    </tr>\n",
       "    <tr>\n",
       "      <th>57</th>\n",
       "      <td>2019-08-29</td>\n",
       "      <td>B</td>\n",
       "      <td>510</td>\n",
       "      <td>490</td>\n",
       "      <td>4746610</td>\n",
       "      <td>17708</td>\n",
       "    </tr>\n",
       "    <tr>\n",
       "      <th>58</th>\n",
       "      <td>2019-08-30</td>\n",
       "      <td>A</td>\n",
       "      <td>460</td>\n",
       "      <td>437</td>\n",
       "      <td>3311413</td>\n",
       "      <td>18037</td>\n",
       "    </tr>\n",
       "    <tr>\n",
       "      <th>59</th>\n",
       "      <td>2019-08-30</td>\n",
       "      <td>B</td>\n",
       "      <td>531</td>\n",
       "      <td>511</td>\n",
       "      <td>4955833</td>\n",
       "      <td>18198</td>\n",
       "    </tr>\n",
       "    <tr>\n",
       "      <th>60</th>\n",
       "      <td>2019-08-31</td>\n",
       "      <td>A</td>\n",
       "      <td>468</td>\n",
       "      <td>445</td>\n",
       "      <td>3364656</td>\n",
       "      <td>18736</td>\n",
       "    </tr>\n",
       "    <tr>\n",
       "      <th>61</th>\n",
       "      <td>2019-08-31</td>\n",
       "      <td>B</td>\n",
       "      <td>548</td>\n",
       "      <td>528</td>\n",
       "      <td>5068972</td>\n",
       "      <td>18916</td>\n",
       "    </tr>\n",
       "  </tbody>\n",
       "</table>\n",
       "<p>62 rows × 6 columns</p>\n",
       "</div>"
      ],
      "text/plain": [
       "         date group  order  user  revenue  visitors\n",
       "0  2019-08-01     A     23    19   142779       719\n",
       "1  2019-08-01     B     17    17    59758       713\n",
       "2  2019-08-02     A     42    36   234381      1338\n",
       "3  2019-08-02     B     40    39   221801      1294\n",
       "4  2019-08-03     A     66    60   346854      1845\n",
       "..        ...   ...    ...   ...      ...       ...\n",
       "57 2019-08-29     B    510   490  4746610     17708\n",
       "58 2019-08-30     A    460   437  3311413     18037\n",
       "59 2019-08-30     B    531   511  4955833     18198\n",
       "60 2019-08-31     A    468   445  3364656     18736\n",
       "61 2019-08-31     B    548   528  5068972     18916\n",
       "\n",
       "[62 rows x 6 columns]"
      ]
     },
     "execution_count": 20,
     "metadata": {},
     "output_type": "execute_result"
    }
   ],
   "source": [
    "cum_data = ord_agreg.merge(visit_agreg, left_on = ['date', 'group']\\\n",
    "                           , right_on = ['date', 'group']) # объединяем обе таблицы\n",
    "cum_data"
   ]
  },
  {
   "cell_type": "code",
   "execution_count": 21,
   "metadata": {},
   "outputs": [],
   "source": [
    "# кум-ые выручки в гр.А и гр. В\n",
    "cum_rev_a = cum_data[cum_data['group'] == 'A'][['date', 'revenue', 'order']] \n",
    "cum_rev_b = cum_data[cum_data['group'] == 'B'][['date', 'revenue', 'order']]"
   ]
  },
  {
   "cell_type": "code",
   "execution_count": 22,
   "metadata": {},
   "outputs": [
    {
     "data": {
      "text/plain": [
       "''"
      ]
     },
     "execution_count": 22,
     "metadata": {},
     "output_type": "execute_result"
    },
    {
     "data": {
      "image/png": "[encoded data removed]",
      "text/plain": [
       "<Figure size 936x360 with 1 Axes>"
      ]
     },
     "metadata": {
      "needs_background": "light"
     },
     "output_type": "display_data"
    }
   ],
   "source": [
    "# строим график\n",
    "plt.figure(figsize=(13,5))\n",
    "plt.plot(cum_rev_a['date'], cum_rev_a['revenue'], label = 'A')\n",
    "plt.plot(cum_rev_b['date'], cum_rev_b['revenue'], label = 'B')\n",
    "plt.xticks(rotation = 45)\n",
    "\n",
    "plt.title('График кумулятивной выручки по группам')\n",
    "plt.xlabel('Дата')\n",
    "plt.ylabel('Выручка')\n",
    "plt.grid()\n",
    "plt.legend()\n",
    ";\n"
   ]
  },
  {
   "cell_type": "markdown",
   "metadata": {},
   "source": [
    "Выручка увеличивается во время проведения теста в обеих группах. Примерно через две недели сегмент В вырывается вперед по показателям кумулятивной выручки по группам и продолжает лидировать до конца проведения теста. Сегмент А распределен достаточно равномерно, а вот в сегменте В наблюдаются некоторые перепады."
   ]
  },
  {
   "cell_type": "markdown",
   "metadata": {},
   "source": [
    "### Построим график кумулятивного среднего чека по группам."
   ]
  },
  {
   "cell_type": "code",
   "execution_count": 23,
   "metadata": {},
   "outputs": [
    {
     "data": {
      "image/png": "[encoded data removed]",
      "text/plain": [
       "<Figure size 936x360 with 1 Axes>"
      ]
     },
     "metadata": {
      "needs_background": "light"
     },
     "output_type": "display_data"
    }
   ],
   "source": [
    "plt.figure(figsize=(13,5))\n",
    "plt.plot(cum_rev_a['date'], cum_rev_a['revenue']/cum_rev_a['order'], label = 'A')\n",
    "plt.plot(cum_rev_b['date'], cum_rev_b['revenue']/cum_rev_b['order'], label = 'B')\n",
    "plt.xticks(rotation = 45)\n",
    "plt.grid()\n",
    "plt.title('График кумулятивного среднего чека по группам')\n",
    "plt.xlabel('Дата')\n",
    "plt.ylabel('Сумма среднего чека')\n",
    "plt.legend();"
   ]
  },
  {
   "cell_type": "markdown",
   "metadata": {},
   "source": [
    "Средний чек кумулятивной выручки в группе В выше чем у группы А и он резко поднимается примерно в середине теста,\n",
    "затем наблюдается некоторый спад. При этом он остается на более высоком уровне чем у второй группы. Всплески сигнализирует  возможно о резком скачке количества заказов, либо о высокой цене заказа. Тем ни менее рост среднего чека у гр. А стабилзировался, а у гр. В наблюдается небольшое понижение."
   ]
  },
  {
   "cell_type": "markdown",
   "metadata": {},
   "source": [
    "###  Построим график относительного изменения кумулятивного среднего чека группы B к группе A"
   ]
  },
  {
   "cell_type": "code",
   "execution_count": 24,
   "metadata": {},
   "outputs": [
    {
     "data": {
      "text/html": [
       "<div>\n",
       "<style scoped>\n",
       "    .dataframe tbody tr th:only-of-type {\n",
       "        vertical-align: middle;\n",
       "    }\n",
       "\n",
       "    .dataframe tbody tr th {\n",
       "        vertical-align: top;\n",
       "    }\n",
       "\n",
       "    .dataframe thead th {\n",
       "        text-align: right;\n",
       "    }\n",
       "</style>\n",
       "<table border=\"1\" class=\"dataframe\">\n",
       "  <thead>\n",
       "    <tr style=\"text-align: right;\">\n",
       "      <th></th>\n",
       "      <th>date</th>\n",
       "      <th>revenueA</th>\n",
       "      <th>orderA</th>\n",
       "      <th>revenueB</th>\n",
       "      <th>orderB</th>\n",
       "    </tr>\n",
       "  </thead>\n",
       "  <tbody>\n",
       "    <tr>\n",
       "      <th>0</th>\n",
       "      <td>2019-08-01</td>\n",
       "      <td>142779</td>\n",
       "      <td>23</td>\n",
       "      <td>59758</td>\n",
       "      <td>17</td>\n",
       "    </tr>\n",
       "    <tr>\n",
       "      <th>1</th>\n",
       "      <td>2019-08-02</td>\n",
       "      <td>234381</td>\n",
       "      <td>42</td>\n",
       "      <td>221801</td>\n",
       "      <td>40</td>\n",
       "    </tr>\n",
       "    <tr>\n",
       "      <th>2</th>\n",
       "      <td>2019-08-03</td>\n",
       "      <td>346854</td>\n",
       "      <td>66</td>\n",
       "      <td>288850</td>\n",
       "      <td>54</td>\n",
       "    </tr>\n",
       "    <tr>\n",
       "      <th>3</th>\n",
       "      <td>2019-08-04</td>\n",
       "      <td>388030</td>\n",
       "      <td>77</td>\n",
       "      <td>385740</td>\n",
       "      <td>68</td>\n",
       "    </tr>\n",
       "    <tr>\n",
       "      <th>4</th>\n",
       "      <td>2019-08-05</td>\n",
       "      <td>474413</td>\n",
       "      <td>99</td>\n",
       "      <td>475648</td>\n",
       "      <td>89</td>\n",
       "    </tr>\n",
       "  </tbody>\n",
       "</table>\n",
       "</div>"
      ],
      "text/plain": [
       "        date  revenueA  orderA  revenueB  orderB\n",
       "0 2019-08-01    142779      23     59758      17\n",
       "1 2019-08-02    234381      42    221801      40\n",
       "2 2019-08-03    346854      66    288850      54\n",
       "3 2019-08-04    388030      77    385740      68\n",
       "4 2019-08-05    474413      99    475648      89"
      ]
     },
     "execution_count": 24,
     "metadata": {},
     "output_type": "execute_result"
    }
   ],
   "source": [
    "merge_cum_rev = cum_rev_a.merge(cum_rev_b, left_on = 'date', right_on = 'date', how = 'left',\\\n",
    "                               suffixes = ['A', 'B'])\n",
    "merge_cum_rev.head() # объединяем кум-ные таблицы"
   ]
  },
  {
   "cell_type": "code",
   "execution_count": 25,
   "metadata": {},
   "outputs": [
    {
     "data": {
      "image/png": "[encoded data removed]",
      "text/plain": [
       "<Figure size 936x360 with 1 Axes>"
      ]
     },
     "metadata": {
      "needs_background": "light"
     },
     "output_type": "display_data"
    }
   ],
   "source": [
    "plt.figure(figsize=(13,5))\n",
    "plt.plot(merge_cum_rev['date'], (merge_cum_rev['revenueB']/merge_cum_rev['orderB'])/\\\n",
    "         (merge_cum_rev['revenueA']/merge_cum_rev['orderA'])-1)\n",
    "plt.grid()\n",
    "plt.xticks(rotation = 45)\n",
    "plt.axhline(y = 0, color = 'black', linestyle = '--')\n",
    "plt.title('График относительного изменения кумулятивного среднего чека группы B к группе A ')\n",
    "plt.xlabel('Дата')\n",
    "plt.ylabel('Изменение среденего чека');\n"
   ]
  },
  {
   "cell_type": "markdown",
   "metadata": {},
   "source": [
    "На графике вновь наблюдаются скачки. Средний чек группы В относительно группы А подвержен частым и резким изменениям. Вначале теста группа В проигрывала по показателям, а затем средний чек вырос относительно группы А. В районе даты 13-08-2019 наблюдается падение и затем вновь подъем. Следует задуматься  о проверке на выбросы"
   ]
  },
  {
   "cell_type": "markdown",
   "metadata": {},
   "source": [
    "### Построим график кумулятивного среднего количества заказов на посетителя по группам."
   ]
  },
  {
   "cell_type": "code",
   "execution_count": 26,
   "metadata": {},
   "outputs": [
    {
     "data": {
      "text/html": [
       "<div>\n",
       "<style scoped>\n",
       "    .dataframe tbody tr th:only-of-type {\n",
       "        vertical-align: middle;\n",
       "    }\n",
       "\n",
       "    .dataframe tbody tr th {\n",
       "        vertical-align: top;\n",
       "    }\n",
       "\n",
       "    .dataframe thead th {\n",
       "        text-align: right;\n",
       "    }\n",
       "</style>\n",
       "<table border=\"1\" class=\"dataframe\">\n",
       "  <thead>\n",
       "    <tr style=\"text-align: right;\">\n",
       "      <th></th>\n",
       "      <th>date</th>\n",
       "      <th>group</th>\n",
       "      <th>order</th>\n",
       "      <th>user</th>\n",
       "      <th>revenue</th>\n",
       "      <th>visitors</th>\n",
       "      <th>conversion</th>\n",
       "    </tr>\n",
       "  </thead>\n",
       "  <tbody>\n",
       "    <tr>\n",
       "      <th>0</th>\n",
       "      <td>2019-08-01</td>\n",
       "      <td>A</td>\n",
       "      <td>23</td>\n",
       "      <td>19</td>\n",
       "      <td>142779</td>\n",
       "      <td>719</td>\n",
       "      <td>0.031989</td>\n",
       "    </tr>\n",
       "    <tr>\n",
       "      <th>1</th>\n",
       "      <td>2019-08-01</td>\n",
       "      <td>B</td>\n",
       "      <td>17</td>\n",
       "      <td>17</td>\n",
       "      <td>59758</td>\n",
       "      <td>713</td>\n",
       "      <td>0.023843</td>\n",
       "    </tr>\n",
       "    <tr>\n",
       "      <th>2</th>\n",
       "      <td>2019-08-02</td>\n",
       "      <td>A</td>\n",
       "      <td>42</td>\n",
       "      <td>36</td>\n",
       "      <td>234381</td>\n",
       "      <td>1338</td>\n",
       "      <td>0.031390</td>\n",
       "    </tr>\n",
       "    <tr>\n",
       "      <th>3</th>\n",
       "      <td>2019-08-02</td>\n",
       "      <td>B</td>\n",
       "      <td>40</td>\n",
       "      <td>39</td>\n",
       "      <td>221801</td>\n",
       "      <td>1294</td>\n",
       "      <td>0.030912</td>\n",
       "    </tr>\n",
       "    <tr>\n",
       "      <th>4</th>\n",
       "      <td>2019-08-03</td>\n",
       "      <td>A</td>\n",
       "      <td>66</td>\n",
       "      <td>60</td>\n",
       "      <td>346854</td>\n",
       "      <td>1845</td>\n",
       "      <td>0.035772</td>\n",
       "    </tr>\n",
       "  </tbody>\n",
       "</table>\n",
       "</div>"
      ],
      "text/plain": [
       "        date group  order  user  revenue  visitors  conversion\n",
       "0 2019-08-01     A     23    19   142779       719    0.031989\n",
       "1 2019-08-01     B     17    17    59758       713    0.023843\n",
       "2 2019-08-02     A     42    36   234381      1338    0.031390\n",
       "3 2019-08-02     B     40    39   221801      1294    0.030912\n",
       "4 2019-08-03     A     66    60   346854      1845    0.035772"
      ]
     },
     "execution_count": 26,
     "metadata": {},
     "output_type": "execute_result"
    }
   ],
   "source": [
    "cum_data['conversion'] = cum_data['order']/ cum_data['visitors'] \n",
    "cum_data.head() # добавляем столбец с показателем конверсии"
   ]
  },
  {
   "cell_type": "code",
   "execution_count": 27,
   "metadata": {},
   "outputs": [
    {
     "data": {
      "text/plain": [
       "Timestamp('2019-08-31 00:00:00')"
      ]
     },
     "metadata": {},
     "output_type": "display_data"
    },
    {
     "data": {
      "text/plain": [
       "Timestamp('2019-08-01 00:00:00')"
      ]
     },
     "execution_count": 27,
     "metadata": {},
     "output_type": "execute_result"
    }
   ],
   "source": [
    "cum_data_a = cum_data[cum_data['group'] == 'A']\n",
    "cum_data_b = cum_data[cum_data['group'] == 'B']\n",
    "\n",
    "display(cum_data['date'].max()) # определяем пограничные даты теста\n",
    "cum_data['date'].min()\n"
   ]
  },
  {
   "cell_type": "code",
   "execution_count": 28,
   "metadata": {},
   "outputs": [
    {
     "data": {
      "image/png": "[encoded data removed]",
      "text/plain": [
       "<Figure size 936x360 with 1 Axes>"
      ]
     },
     "metadata": {
      "needs_background": "light"
     },
     "output_type": "display_data"
    }
   ],
   "source": [
    "plt.figure(figsize=(13,5))\n",
    "plt.plot(cum_data_a['date'], cum_data_a['conversion'], label = 'A')\n",
    "plt.plot(cum_data_b['date'], cum_data_b['conversion'], label = 'B')\n",
    "plt.legend()\n",
    "plt.grid()\n",
    "plt.xticks(rotation = 45)\n",
    "plt.title('График кумулятивной конверсии по группам')\n",
    "plt.xlabel('Дата')\n",
    "plt.ylabel('Конверсия')\n",
    "plt.axis([dt.datetime(2019, 8, 1), dt.datetime(2019, 9, 1), 0, 0.05]);"
   ]
  },
  {
   "cell_type": "markdown",
   "metadata": {},
   "source": [
    "Графики колебались в начале проведения теста, но затем конверсия группы В стала выше при этом конверсия в  обеих группах распределена достаточно равномерно относительно друг друга. К концу проведения теста конверсия на графиках почти стабилизировалась."
   ]
  },
  {
   "cell_type": "markdown",
   "metadata": {},
   "source": [
    "### Построим график относительного изменения кумулятивного среднего количества заказов на посетителя группы B к группе A."
   ]
  },
  {
   "cell_type": "code",
   "execution_count": 29,
   "metadata": {},
   "outputs": [
    {
     "data": {
      "text/html": [
       "<div>\n",
       "<style scoped>\n",
       "    .dataframe tbody tr th:only-of-type {\n",
       "        vertical-align: middle;\n",
       "    }\n",
       "\n",
       "    .dataframe tbody tr th {\n",
       "        vertical-align: top;\n",
       "    }\n",
       "\n",
       "    .dataframe thead th {\n",
       "        text-align: right;\n",
       "    }\n",
       "</style>\n",
       "<table border=\"1\" class=\"dataframe\">\n",
       "  <thead>\n",
       "    <tr style=\"text-align: right;\">\n",
       "      <th></th>\n",
       "      <th>date</th>\n",
       "      <th>conversionA</th>\n",
       "      <th>conversionB</th>\n",
       "    </tr>\n",
       "  </thead>\n",
       "  <tbody>\n",
       "    <tr>\n",
       "      <th>0</th>\n",
       "      <td>2019-08-01</td>\n",
       "      <td>0.031989</td>\n",
       "      <td>0.023843</td>\n",
       "    </tr>\n",
       "    <tr>\n",
       "      <th>1</th>\n",
       "      <td>2019-08-02</td>\n",
       "      <td>0.031390</td>\n",
       "      <td>0.030912</td>\n",
       "    </tr>\n",
       "    <tr>\n",
       "      <th>2</th>\n",
       "      <td>2019-08-03</td>\n",
       "      <td>0.035772</td>\n",
       "      <td>0.029950</td>\n",
       "    </tr>\n",
       "    <tr>\n",
       "      <th>3</th>\n",
       "      <td>2019-08-04</td>\n",
       "      <td>0.030055</td>\n",
       "      <td>0.026428</td>\n",
       "    </tr>\n",
       "    <tr>\n",
       "      <th>4</th>\n",
       "      <td>2019-08-05</td>\n",
       "      <td>0.029837</td>\n",
       "      <td>0.027134</td>\n",
       "    </tr>\n",
       "  </tbody>\n",
       "</table>\n",
       "</div>"
      ],
      "text/plain": [
       "        date  conversionA  conversionB\n",
       "0 2019-08-01     0.031989     0.023843\n",
       "1 2019-08-02     0.031390     0.030912\n",
       "2 2019-08-03     0.035772     0.029950\n",
       "3 2019-08-04     0.030055     0.026428\n",
       "4 2019-08-05     0.029837     0.027134"
      ]
     },
     "execution_count": 29,
     "metadata": {},
     "output_type": "execute_result"
    }
   ],
   "source": [
    "merge_cum_conv = cum_data_a[['date', 'conversion']]\\\n",
    ".merge(cum_data_b[['date', 'conversion']], left_on = 'date', right_on = 'date'\\\n",
    "                                  , how = 'left', suffixes = ['A', 'B'])\n",
    "merge_cum_conv.head()"
   ]
  },
  {
   "cell_type": "code",
   "execution_count": 30,
   "metadata": {},
   "outputs": [
    {
     "data": {
      "image/png": "[encoded data removed]",
      "text/plain": [
       "<Figure size 936x360 with 1 Axes>"
      ]
     },
     "metadata": {
      "needs_background": "light"
     },
     "output_type": "display_data"
    }
   ],
   "source": [
    "plt.figure(figsize=(13,5))\n",
    "plt.plot(merge_cum_conv['date'], merge_cum_conv['conversionB']/\\\n",
    "         merge_cum_conv['conversionA']-1)\n",
    "plt.xticks(rotation = 45)\n",
    "plt.grid()\n",
    "plt.axhline(y = 0, color = 'black', linestyle = '--')\n",
    "plt.axhline(y = 0.2, color = 'grey', linestyle = '--')\n",
    "plt.title('График относительного изменения кумулятивной конверсии группы B к группе A')\n",
    "plt.xlabel('Дата')\n",
    "plt.ylabel('Относительне изменение конверсии')\n",
    "plt.axis([dt.datetime(2019, 8, 1), dt.datetime(2019, 9, 1), -0.15, 0.25]);"
   ]
  },
  {
   "cell_type": "markdown",
   "metadata": {},
   "source": [
    "В начале теста группа B значительно проигрывала группе A, затем вырвалась вперёд. \n",
    "В целом отношение конверсии гр.В к гр.А достаточно неплохое, но сейчас делать какие-либо выводы по тесту нельзя. Стоит проанализировать аномалии, возможно, они изменят картину. Снова обращаем внимание на скачок в районе 13-08-2019"
   ]
  },
  {
   "cell_type": "markdown",
   "metadata": {},
   "source": [
    "### Построим точечный график количества заказов по пользователям. "
   ]
  },
  {
   "cell_type": "code",
   "execution_count": 31,
   "metadata": {},
   "outputs": [
    {
     "data": {
      "text/html": [
       "<div>\n",
       "<style scoped>\n",
       "    .dataframe tbody tr th:only-of-type {\n",
       "        vertical-align: middle;\n",
       "    }\n",
       "\n",
       "    .dataframe tbody tr th {\n",
       "        vertical-align: top;\n",
       "    }\n",
       "\n",
       "    .dataframe thead th {\n",
       "        text-align: right;\n",
       "    }\n",
       "</style>\n",
       "<table border=\"1\" class=\"dataframe\">\n",
       "  <thead>\n",
       "    <tr style=\"text-align: right;\">\n",
       "      <th></th>\n",
       "      <th>user</th>\n",
       "      <th>order</th>\n",
       "    </tr>\n",
       "  </thead>\n",
       "  <tbody>\n",
       "    <tr>\n",
       "      <th>0</th>\n",
       "      <td>5114589</td>\n",
       "      <td>1</td>\n",
       "    </tr>\n",
       "    <tr>\n",
       "      <th>1</th>\n",
       "      <td>6958315</td>\n",
       "      <td>1</td>\n",
       "    </tr>\n",
       "    <tr>\n",
       "      <th>2</th>\n",
       "      <td>11685486</td>\n",
       "      <td>1</td>\n",
       "    </tr>\n",
       "    <tr>\n",
       "      <th>3</th>\n",
       "      <td>39475350</td>\n",
       "      <td>1</td>\n",
       "    </tr>\n",
       "    <tr>\n",
       "      <th>4</th>\n",
       "      <td>47206413</td>\n",
       "      <td>1</td>\n",
       "    </tr>\n",
       "  </tbody>\n",
       "</table>\n",
       "</div>"
      ],
      "text/plain": [
       "       user  order\n",
       "0   5114589      1\n",
       "1   6958315      1\n",
       "2  11685486      1\n",
       "3  39475350      1\n",
       "4  47206413      1"
      ]
     },
     "execution_count": 31,
     "metadata": {},
     "output_type": "execute_result"
    }
   ],
   "source": [
    "ord_us = orders.groupby('user', as_index = False).agg({'order':'nunique'})\n",
    "ord_us.head()"
   ]
  },
  {
   "cell_type": "code",
   "execution_count": 32,
   "metadata": {},
   "outputs": [
    {
     "data": {
      "image/png": "[encoded data removed]",
      "text/plain": [
       "<Figure size 936x360 with 1 Axes>"
      ]
     },
     "metadata": {
      "needs_background": "light"
     },
     "output_type": "display_data"
    }
   ],
   "source": [
    "x_values = pd.Series(range(0, len(ord_us['order'])))\n",
    "plt.figure(figsize=(13,5))\n",
    "plt.scatter(x_values, ord_us['order'])\n",
    "plt.grid()\n",
    "plt.title('График количества заказов по пользователям')\n",
    "plt.xlabel('Кол-во пользователей')\n",
    "plt.ylabel('Кол-во заказов');"
   ]
  },
  {
   "cell_type": "markdown",
   "metadata": {},
   "source": [
    "Пользователей сделавших заказ больше 2 раз мало. Надо посчитать перцентили, чтобы сделать окончательные выводы по аномалиям."
   ]
  },
  {
   "cell_type": "code",
   "execution_count": 33,
   "metadata": {},
   "outputs": [
    {
     "data": {
      "text/plain": [
       "array([1., 2.])"
      ]
     },
     "execution_count": 33,
     "metadata": {},
     "output_type": "execute_result"
    }
   ],
   "source": [
    "np.percentile(ord_us['order'], [95, 99])"
   ]
  },
  {
   "cell_type": "markdown",
   "metadata": {},
   "source": [
    "5% пользователей сделали больше 1 заказа и только 1% сделали больше 2 заказов "
   ]
  },
  {
   "cell_type": "markdown",
   "metadata": {},
   "source": [
    "### Построим точечный график стоимости заказов"
   ]
  },
  {
   "cell_type": "code",
   "execution_count": 34,
   "metadata": {},
   "outputs": [
    {
     "data": {
      "image/png": "[encoded data removed]",
      "text/plain": [
       "<Figure size 936x360 with 1 Axes>"
      ]
     },
     "metadata": {
      "needs_background": "light"
     },
     "output_type": "display_data"
    }
   ],
   "source": [
    "x_values = pd.Series(range(0, len(orders)))\n",
    "plt.figure(figsize=(13,5))\n",
    "plt.scatter(x_values, orders['revenue'])\n",
    "plt.grid()\n",
    "plt.title('График стоимостей заказов')\n",
    "plt.xlabel('Кол-во пользователей')\n",
    "plt.ylabel('Стоимость заказа');"
   ]
  },
  {
   "cell_type": "markdown",
   "metadata": {},
   "source": [
    "Мы видим, что основная масса заказов не превышает 100 000 при этом есть заказ выше 1,2 млн. Что может кардинально менять картину теста. Посмотрим поближе"
   ]
  },
  {
   "cell_type": "code",
   "execution_count": 35,
   "metadata": {},
   "outputs": [
    {
     "data": {
      "text/plain": [
       "count    1.016000e+03\n",
       "mean     8.300815e+03\n",
       "std      4.212199e+04\n",
       "min      5.000000e+01\n",
       "25%      1.190000e+03\n",
       "50%      2.955000e+03\n",
       "75%      8.134250e+03\n",
       "max      1.294500e+06\n",
       "Name: revenue, dtype: float64"
      ]
     },
     "execution_count": 35,
     "metadata": {},
     "output_type": "execute_result"
    }
   ],
   "source": [
    "orders['revenue'].describe()"
   ]
  },
  {
   "cell_type": "code",
   "execution_count": 36,
   "metadata": {},
   "outputs": [
    {
     "data": {
      "image/png": "[encoded data removed]",
      "text/plain": [
       "<Figure size 936x360 with 1 Axes>"
      ]
     },
     "metadata": {
      "needs_background": "light"
     },
     "output_type": "display_data"
    }
   ],
   "source": [
    "usual_ord = orders[orders['revenue'] < 100000]\n",
    "x_values = pd.Series(range(0, len(usual_ord)))\n",
    "plt.figure(figsize=(13,5))\n",
    "plt.scatter(x_values, usual_ord['revenue'])\n",
    "plt.grid()\n",
    "plt.title('График стоимостей заказов')\n",
    "plt.xlabel('Кол-во пользователей')\n",
    "plt.ylabel('Стоимость заказа');"
   ]
  },
  {
   "cell_type": "markdown",
   "metadata": {},
   "source": [
    "На этом графике наглядно видно, что основная масса заказов до 20 000"
   ]
  },
  {
   "cell_type": "markdown",
   "metadata": {},
   "source": [
    "Посчитаем перцентили, чтобы сделать окончательные выводы по выбросам."
   ]
  },
  {
   "cell_type": "code",
   "execution_count": 37,
   "metadata": {},
   "outputs": [
    {
     "data": {
      "text/plain": [
       "array([26785., 53904.])"
      ]
     },
     "execution_count": 37,
     "metadata": {},
     "output_type": "execute_result"
    }
   ],
   "source": [
    "np.percentile(orders['revenue'], [95, 99])"
   ]
  },
  {
   "cell_type": "markdown",
   "metadata": {},
   "source": [
    "Только 5% пользователей делают заказы на сумму выше 26785 и только 1% на сумму выше 53 904"
   ]
  },
  {
   "cell_type": "markdown",
   "metadata": {},
   "source": [
    "### Посчитаем статистическую значимость различий в среднем количестве заказов на посетителя между группами по «сырым» данным"
   ]
  },
  {
   "cell_type": "markdown",
   "metadata": {},
   "source": [
    "В первую очередь соберем таблицу с всеми данными по визитам и заказам вместе с кумулятивными показателями."
   ]
  },
  {
   "cell_type": "code",
   "execution_count": 38,
   "metadata": {},
   "outputs": [
    {
     "data": {
      "text/html": [
       "<div>\n",
       "<style scoped>\n",
       "    .dataframe tbody tr th:only-of-type {\n",
       "        vertical-align: middle;\n",
       "    }\n",
       "\n",
       "    .dataframe tbody tr th {\n",
       "        vertical-align: top;\n",
       "    }\n",
       "\n",
       "    .dataframe thead th {\n",
       "        text-align: right;\n",
       "    }\n",
       "</style>\n",
       "<table border=\"1\" class=\"dataframe\">\n",
       "  <thead>\n",
       "    <tr style=\"text-align: right;\">\n",
       "      <th></th>\n",
       "      <th>date</th>\n",
       "      <th>group</th>\n",
       "      <th>visitors</th>\n",
       "    </tr>\n",
       "  </thead>\n",
       "  <tbody>\n",
       "    <tr>\n",
       "      <th>0</th>\n",
       "      <td>2019-08-01</td>\n",
       "      <td>A</td>\n",
       "      <td>719</td>\n",
       "    </tr>\n",
       "    <tr>\n",
       "      <th>1</th>\n",
       "      <td>2019-08-02</td>\n",
       "      <td>A</td>\n",
       "      <td>619</td>\n",
       "    </tr>\n",
       "    <tr>\n",
       "      <th>2</th>\n",
       "      <td>2019-08-03</td>\n",
       "      <td>A</td>\n",
       "      <td>507</td>\n",
       "    </tr>\n",
       "    <tr>\n",
       "      <th>3</th>\n",
       "      <td>2019-08-04</td>\n",
       "      <td>A</td>\n",
       "      <td>717</td>\n",
       "    </tr>\n",
       "    <tr>\n",
       "      <th>4</th>\n",
       "      <td>2019-08-05</td>\n",
       "      <td>A</td>\n",
       "      <td>756</td>\n",
       "    </tr>\n",
       "  </tbody>\n",
       "</table>\n",
       "</div>"
      ],
      "text/plain": [
       "        date group  visitors\n",
       "0 2019-08-01     A       719\n",
       "1 2019-08-02     A       619\n",
       "2 2019-08-03     A       507\n",
       "3 2019-08-04     A       717\n",
       "4 2019-08-05     A       756"
      ]
     },
     "execution_count": 38,
     "metadata": {},
     "output_type": "execute_result"
    }
   ],
   "source": [
    "visitors.head()"
   ]
  },
  {
   "cell_type": "code",
   "execution_count": 39,
   "metadata": {},
   "outputs": [
    {
     "data": {
      "text/html": [
       "<div>\n",
       "<style scoped>\n",
       "    .dataframe tbody tr th:only-of-type {\n",
       "        vertical-align: middle;\n",
       "    }\n",
       "\n",
       "    .dataframe tbody tr th {\n",
       "        vertical-align: top;\n",
       "    }\n",
       "\n",
       "    .dataframe thead th {\n",
       "        text-align: right;\n",
       "    }\n",
       "</style>\n",
       "<table border=\"1\" class=\"dataframe\">\n",
       "  <thead>\n",
       "    <tr style=\"text-align: right;\">\n",
       "      <th></th>\n",
       "      <th>order</th>\n",
       "      <th>user</th>\n",
       "      <th>date</th>\n",
       "      <th>revenue</th>\n",
       "      <th>group</th>\n",
       "    </tr>\n",
       "  </thead>\n",
       "  <tbody>\n",
       "    <tr>\n",
       "      <th>0</th>\n",
       "      <td>3667963787</td>\n",
       "      <td>3312258926</td>\n",
       "      <td>2019-08-15</td>\n",
       "      <td>1650</td>\n",
       "      <td>B</td>\n",
       "    </tr>\n",
       "    <tr>\n",
       "      <th>1</th>\n",
       "      <td>2804400009</td>\n",
       "      <td>3642806036</td>\n",
       "      <td>2019-08-15</td>\n",
       "      <td>730</td>\n",
       "      <td>B</td>\n",
       "    </tr>\n",
       "    <tr>\n",
       "      <th>3</th>\n",
       "      <td>3797467345</td>\n",
       "      <td>1196621759</td>\n",
       "      <td>2019-08-15</td>\n",
       "      <td>9759</td>\n",
       "      <td>B</td>\n",
       "    </tr>\n",
       "    <tr>\n",
       "      <th>4</th>\n",
       "      <td>2282983706</td>\n",
       "      <td>2322279887</td>\n",
       "      <td>2019-08-15</td>\n",
       "      <td>2308</td>\n",
       "      <td>B</td>\n",
       "    </tr>\n",
       "    <tr>\n",
       "      <th>5</th>\n",
       "      <td>182168103</td>\n",
       "      <td>935554773</td>\n",
       "      <td>2019-08-15</td>\n",
       "      <td>2210</td>\n",
       "      <td>B</td>\n",
       "    </tr>\n",
       "  </tbody>\n",
       "</table>\n",
       "</div>"
      ],
      "text/plain": [
       "        order        user       date  revenue group\n",
       "0  3667963787  3312258926 2019-08-15     1650     B\n",
       "1  2804400009  3642806036 2019-08-15      730     B\n",
       "3  3797467345  1196621759 2019-08-15     9759     B\n",
       "4  2282983706  2322279887 2019-08-15     2308     B\n",
       "5   182168103   935554773 2019-08-15     2210     B"
      ]
     },
     "execution_count": 39,
     "metadata": {},
     "output_type": "execute_result"
    }
   ],
   "source": [
    "orders.head()"
   ]
  },
  {
   "cell_type": "markdown",
   "metadata": {},
   "source": [
    "#### Сформулируем гипотезы.\n",
    "\n",
    "Н0: различий в среднем количестве заказов между группами нет. \n",
    "\n",
    "Н1 (Альтернативная): различия в среднем количестве заказов между группами есть."
   ]
  },
  {
   "cell_type": "code",
   "execution_count": 40,
   "metadata": {},
   "outputs": [
    {
     "data": {
      "text/html": [
       "<div>\n",
       "<style scoped>\n",
       "    .dataframe tbody tr th:only-of-type {\n",
       "        vertical-align: middle;\n",
       "    }\n",
       "\n",
       "    .dataframe tbody tr th {\n",
       "        vertical-align: top;\n",
       "    }\n",
       "\n",
       "    .dataframe thead th {\n",
       "        text-align: right;\n",
       "    }\n",
       "</style>\n",
       "<table border=\"1\" class=\"dataframe\">\n",
       "  <thead>\n",
       "    <tr style=\"text-align: right;\">\n",
       "      <th></th>\n",
       "      <th>user</th>\n",
       "      <th>order</th>\n",
       "    </tr>\n",
       "  </thead>\n",
       "  <tbody>\n",
       "    <tr>\n",
       "      <th>0</th>\n",
       "      <td>11685486</td>\n",
       "      <td>1</td>\n",
       "    </tr>\n",
       "    <tr>\n",
       "      <th>1</th>\n",
       "      <td>54447517</td>\n",
       "      <td>1</td>\n",
       "    </tr>\n",
       "    <tr>\n",
       "      <th>2</th>\n",
       "      <td>66685450</td>\n",
       "      <td>1</td>\n",
       "    </tr>\n",
       "    <tr>\n",
       "      <th>3</th>\n",
       "      <td>78758296</td>\n",
       "      <td>1</td>\n",
       "    </tr>\n",
       "    <tr>\n",
       "      <th>4</th>\n",
       "      <td>85103373</td>\n",
       "      <td>1</td>\n",
       "    </tr>\n",
       "  </tbody>\n",
       "</table>\n",
       "</div>"
      ],
      "text/plain": [
       "       user  order\n",
       "0  11685486      1\n",
       "1  54447517      1\n",
       "2  66685450      1\n",
       "3  78758296      1\n",
       "4  85103373      1"
      ]
     },
     "execution_count": 40,
     "metadata": {},
     "output_type": "execute_result"
    }
   ],
   "source": [
    "ord_us_a = orders[orders['group'] == 'A'].groupby('user', as_index = False)\\\n",
    ".agg({'order':'nunique'}) # собирем заказы по пользователям в группах\n",
    "ord_us_a.head()"
   ]
  },
  {
   "cell_type": "code",
   "execution_count": 41,
   "metadata": {},
   "outputs": [
    {
     "data": {
      "text/html": [
       "<div>\n",
       "<style scoped>\n",
       "    .dataframe tbody tr th:only-of-type {\n",
       "        vertical-align: middle;\n",
       "    }\n",
       "\n",
       "    .dataframe tbody tr th {\n",
       "        vertical-align: top;\n",
       "    }\n",
       "\n",
       "    .dataframe thead th {\n",
       "        text-align: right;\n",
       "    }\n",
       "</style>\n",
       "<table border=\"1\" class=\"dataframe\">\n",
       "  <thead>\n",
       "    <tr style=\"text-align: right;\">\n",
       "      <th></th>\n",
       "      <th>user</th>\n",
       "      <th>order</th>\n",
       "    </tr>\n",
       "  </thead>\n",
       "  <tbody>\n",
       "    <tr>\n",
       "      <th>0</th>\n",
       "      <td>5114589</td>\n",
       "      <td>1</td>\n",
       "    </tr>\n",
       "    <tr>\n",
       "      <th>1</th>\n",
       "      <td>6958315</td>\n",
       "      <td>1</td>\n",
       "    </tr>\n",
       "    <tr>\n",
       "      <th>2</th>\n",
       "      <td>39475350</td>\n",
       "      <td>1</td>\n",
       "    </tr>\n",
       "    <tr>\n",
       "      <th>3</th>\n",
       "      <td>47206413</td>\n",
       "      <td>1</td>\n",
       "    </tr>\n",
       "    <tr>\n",
       "      <th>4</th>\n",
       "      <td>48147722</td>\n",
       "      <td>1</td>\n",
       "    </tr>\n",
       "  </tbody>\n",
       "</table>\n",
       "</div>"
      ],
      "text/plain": [
       "       user  order\n",
       "0   5114589      1\n",
       "1   6958315      1\n",
       "2  39475350      1\n",
       "3  47206413      1\n",
       "4  48147722      1"
      ]
     },
     "execution_count": 41,
     "metadata": {},
     "output_type": "execute_result"
    }
   ],
   "source": [
    "ord_us_b = orders[orders['group'] == 'B'].groupby('user', as_index = False)\\\n",
    ".agg({'order':'nunique'})\n",
    "ord_us_b.head()"
   ]
  },
  {
   "cell_type": "markdown",
   "metadata": {},
   "source": [
    "Объявим переменные sampleA и sampleB, в которых пользователям из разных групп будет соответствовать количество заказов. Тем, кто ничего не заказал, будут соответствовать нули. Это нужно, чтобы подготовить выборки к проверке критерием Манна-Уитни."
   ]
  },
  {
   "cell_type": "code",
   "execution_count": 42,
   "metadata": {},
   "outputs": [],
   "source": [
    "length_a = pd.Series(0, index=np.arange(visitors[visitors['group'] =='A']['visitors']\\\n",
    "                             .sum() - len(ord_us_a['order'])), name='orders')\n",
    "length_b = pd.Series(0, index=np.arange(visitors[visitors['group'] =='B']['visitors']\\\n",
    "                             .sum() - len(ord_us_a['order'])), name='orders')"
   ]
  },
  {
   "cell_type": "code",
   "execution_count": 43,
   "metadata": {},
   "outputs": [],
   "source": [
    "#pd.Series(0, index=np.arange(df['visitors_a'].sum() - len(ord_us_a['order'])), name='orders')\n",
    "  "
   ]
  },
  {
   "cell_type": "code",
   "execution_count": 44,
   "metadata": {},
   "outputs": [],
   "source": [
    "sampleA = pd.concat([ord_us_a['order'], length_a],axis=0)\n",
    "sampleB = pd.concat([ord_us_b['order'], length_b],axis=0)\n"
   ]
  },
  {
   "cell_type": "code",
   "execution_count": 45,
   "metadata": {},
   "outputs": [
    {
     "data": {
      "text/plain": [
       "'p_value:\"0.013\"'"
      ]
     },
     "metadata": {},
     "output_type": "display_data"
    },
    {
     "data": {
      "text/plain": [
       "'Статистическая значимость различий в среднем количестве заказов на посетителя между группами по «сырым» данным:0.155'"
      ]
     },
     "metadata": {},
     "output_type": "display_data"
    }
   ],
   "source": [
    "display('p_value:\"{0:.3f}\"'.format(st.mannwhitneyu(sampleA, sampleB)[1]))\n",
    "display('Статистическая значимость различий в среднем количестве заказов на посетителя между группами \\\n",
    "по «сырым» данным:'\"{0:.3f}\".format(sampleB.mean()/ sampleA.mean()-1))\n"
   ]
  },
  {
   "cell_type": "markdown",
   "metadata": {},
   "source": [
    "p_value меньше 0.05 соответственно различие в данных группах в приросте заказа на посетителя есть .\n",
    "\n",
    "Более того группа В выигрывает на 16%"
   ]
  },
  {
   "cell_type": "markdown",
   "metadata": {},
   "source": [
    "#### Посчитаем статистическую значимость различий в среднем чеке заказа между группами по «сырым» данным. "
   ]
  },
  {
   "cell_type": "markdown",
   "metadata": {},
   "source": [
    "Сформулируем гипотезы \n",
    "\n",
    "Н0:  статистически значимых различий в среднем чеке между группами нет.\n",
    "\n",
    "Н1(альтернативная): статистически значимые различия есть.\n",
    "\n"
   ]
  },
  {
   "cell_type": "code",
   "execution_count": 46,
   "metadata": {},
   "outputs": [
    {
     "name": "stdout",
     "output_type": "stream",
     "text": [
      "p_value:0.829\n",
      "Статистическая значимость различий в среднем чеке заказа между группами по «сырым» данным:0.287\n"
     ]
    }
   ],
   "source": [
    "print('p_value:'\"{0:.3f}\".format(st.mannwhitneyu(orders[orders['group'] =='A']['revenue'],\\\n",
    "                                          orders[orders['group'] == 'B']['revenue'])[1]))\n",
    "print('Статистическая значимость различий в среднем чеке заказа между группами по «сырым» данным:'\\\n",
    "\"{0:.3f}\".format(orders[orders['group'] =='B']['revenue'].mean()/\\\n",
    "                       orders[orders['group'] == 'A']['revenue'].mean()-1))"
   ]
  },
  {
   "cell_type": "markdown",
   "metadata": {},
   "source": [
    "p_value , больше 0.05 соответственно существенных различий в среднем чеке нет, при этом прирост среднего чека в группе В выше чем в группе А почти на 29%"
   ]
  },
  {
   "cell_type": "markdown",
   "metadata": {},
   "source": [
    "#### Посчитаем статистическую значимость различий в среднем количестве заказов на посетителя между группами по «очищенным» данным."
   ]
  },
  {
   "cell_type": "markdown",
   "metadata": {},
   "source": [
    "Выше мы выяснили, что пользователей совершивших больше 2 заказов меньше одного процента , а также, что стоимость заказа  выше 53904 так же только у 1%. Создадим таблицу содержащую эти заказы."
   ]
  },
  {
   "cell_type": "code",
   "execution_count": 47,
   "metadata": {},
   "outputs": [],
   "source": [
    "orders_perc = np.percentile(ord_us['order'], [99]).item()\n"
   ]
  },
  {
   "cell_type": "code",
   "execution_count": 48,
   "metadata": {},
   "outputs": [
    {
     "data": {
      "text/plain": [
       "58      611059232\n",
       "211    2108163459\n",
       "310    2988190573\n",
       "409    3908431265\n",
       "416    3967698036\n",
       "33      249864742\n",
       "347    2742574263\n",
       "Name: user, dtype: int64"
      ]
     },
     "execution_count": 48,
     "metadata": {},
     "output_type": "execute_result"
    }
   ],
   "source": [
    "orders_to_much = pd.concat([ord_us_a[ord_us_a['order']> orders_perc]\\\n",
    "                            , ord_us_b[ord_us_b['order']> orders_perc]], axis = 0)['user']                            \n",
    "orders_to_much"
   ]
  },
  {
   "cell_type": "code",
   "execution_count": 49,
   "metadata": {},
   "outputs": [],
   "source": [
    "revenue_perc= np.percentile(orders['revenue'], [99]).item()"
   ]
  },
  {
   "cell_type": "code",
   "execution_count": 50,
   "metadata": {},
   "outputs": [
    {
     "data": {
      "text/plain": [
       "425     1920142716\n",
       "743     4133034833\n",
       "744      888512513\n",
       "940     4003628586\n",
       "949      887908475\n",
       "1099     148427295\n",
       "1103    1164614297\n",
       "1136    1307669133\n",
       "1196    2108080724\n",
       "425     1920142716\n",
       "743     4133034833\n",
       "744      888512513\n",
       "940     4003628586\n",
       "949      887908475\n",
       "1099     148427295\n",
       "1103    1164614297\n",
       "1136    1307669133\n",
       "1196    2108080724\n",
       "Name: user, dtype: int64"
      ]
     },
     "execution_count": 50,
     "metadata": {},
     "output_type": "execute_result"
    }
   ],
   "source": [
    "sum_to_much = pd.concat([orders[orders['revenue']> revenue_perc ],\\\n",
    "                         orders[orders['revenue']> revenue_perc]]\\\n",
    "                        , axis = 0)['user']\n",
    "                                        \n",
    "sum_to_much"
   ]
  },
  {
   "cell_type": "code",
   "execution_count": 51,
   "metadata": {},
   "outputs": [
    {
     "data": {
      "text/plain": [
       "1099     148427295\n",
       "33       249864742\n",
       "58       611059232\n",
       "949      887908475\n",
       "744      888512513\n",
       "1103    1164614297\n",
       "1136    1307669133\n",
       "425     1920142716\n",
       "1196    2108080724\n",
       "211     2108163459\n",
       "347     2742574263\n",
       "310     2988190573\n",
       "409     3908431265\n",
       "416     3967698036\n",
       "940     4003628586\n",
       "743     4133034833\n",
       "Name: user, dtype: int64"
      ]
     },
     "metadata": {},
     "output_type": "display_data"
    },
    {
     "data": {
      "text/plain": [
       "16"
      ]
     },
     "execution_count": 51,
     "metadata": {},
     "output_type": "execute_result"
    }
   ],
   "source": [
    "abnormal = pd.concat([orders_to_much, sum_to_much], axis = 0).drop_duplicates().sort_values()\n",
    "display(abnormal)\n",
    "abnormal.shape[0] # собираем таблицу с данными которые искажают результаты"
   ]
  },
  {
   "cell_type": "markdown",
   "metadata": {},
   "source": [
    "Выяснили что аномальных  пользователей всего 16. Можем приступать к изучению статистической значимости по \"очищенным \" данным исключив данную группу из исследования"
   ]
  },
  {
   "cell_type": "markdown",
   "metadata": {},
   "source": [
    "#### Посчитаем статистическую значимость различий в среднем количестве заказов на посетителя между группами по «очищенным» данным."
   ]
  },
  {
   "cell_type": "markdown",
   "metadata": {},
   "source": [
    "Сформулируем гипотезы \n",
    "\n",
    "Н0:  статистически значимых различий в кол-ве заказов на посетителя по \"очищенным\" данным между группами нет.\n",
    "\n",
    "Н1(альтернативная): статистически значимые различия есть. "
   ]
  },
  {
   "cell_type": "code",
   "execution_count": 52,
   "metadata": {},
   "outputs": [],
   "source": [
    "orders_a_filt = ord_us_a[~ord_us_a['user'].isin(abnormal)]\n",
    "orders_b_filt = ord_us_b[~ord_us_b['user'].isin(abnormal)] # исключаем из данных аномалии\n"
   ]
  },
  {
   "cell_type": "code",
   "execution_count": 53,
   "metadata": {},
   "outputs": [],
   "source": [
    "sampleA_filt = pd.concat([orders_a_filt['order'],pd.Series(0, index=np.arange\\\n",
    "                (visitors[visitors['group'] =='A']['visitors'].sum()- len(orders_a_filt['order'])), name='orders')],axis=0)\n",
    "sampleB_filt = pd.concat([orders_b_filt['order'],pd.Series(0, index=np.arange\\\n",
    "                (visitors[visitors['group'] =='B']['visitors'].sum()- len(orders_b_filt['order'])), name='orders')],axis=0)"
   ]
  },
  {
   "cell_type": "code",
   "execution_count": 54,
   "metadata": {},
   "outputs": [
    {
     "name": "stdout",
     "output_type": "stream",
     "text": [
      "p_value:0.007\n",
      "Cтатистическую значимость различий в среднем количестве заказов на посетителя между группами по «очищенным» данным:0.189\n"
     ]
    }
   ],
   "source": [
    "print('p_value:'\"{0:.3f}\".format(st.mannwhitneyu(sampleA_filt, sampleB_filt)[1]))\n",
    "print('Cтатистическую значимость различий в среднем количестве заказов на посетителя \\\n",
    "между группами по «очищенным» данным:' \"{0:.3f}\".format(sampleB_filt.mean()/\\\n",
    "                                                        sampleA_filt.mean()-1))"
   ]
  },
  {
   "cell_type": "markdown",
   "metadata": {},
   "source": [
    "Так же как и по \"сырым\" данным различия есть, p_value < 0.05. И выигрыш группы В составляет 19%"
   ]
  },
  {
   "cell_type": "markdown",
   "metadata": {},
   "source": [
    "#### Посчитаем статистическую значимость различий в среднем чеке заказа между группами по «очищенным» данным. "
   ]
  },
  {
   "cell_type": "markdown",
   "metadata": {},
   "source": [
    "Сформулируем гипотезы \n",
    "\n",
    "Н0:  статистически значимых различий в среднем чеке между группами по \"очищенным\" данным нет.\n",
    "\n",
    "Н1(альтернативная): статистически значимые различия есть."
   ]
  },
  {
   "cell_type": "code",
   "execution_count": 55,
   "metadata": {},
   "outputs": [],
   "source": [
    "orders_filt = orders[~orders['user'].isin(abnormal)] # исключаем abnormal  из исследования"
   ]
  },
  {
   "cell_type": "code",
   "execution_count": 56,
   "metadata": {},
   "outputs": [
    {
     "name": "stdout",
     "output_type": "stream",
     "text": [
      "p_value:0.788\n",
      "Статистическая значимость различий в среднем чеке заказа между группами по «очищенным» данным:-0.032\n"
     ]
    }
   ],
   "source": [
    "print('p_value:'\"{0:.3f}\".format(st.mannwhitneyu(orders_filt[orders_filt['group'] =='A']['revenue'],\\\n",
    "                                          orders_filt[orders_filt['group'] == 'B']['revenue'])[1]))\n",
    "print('Статистическая значимость различий в среднем чеке заказа между группами по «очищенным» данным:'\\\n",
    "      \"{0:.3f}\".format(orders_filt[orders_filt['group'] =='B']['revenue'].mean()/\\\n",
    "                       orders_filt[orders_filt['group'] == 'A']['revenue'].mean()-1))"
   ]
  },
  {
   "cell_type": "markdown",
   "metadata": {},
   "source": [
    "Результаты по статистической значимости среднего чека  по группам по «очищенным» данным говорят о том, что различий нет p_value > 0.05. Интересная картина с ростом среднего чека. В данном исследовании у группы В чек ниже на 3% чем у группы А. Это значительное искажение которое нам дали аномалии при первоначальных расчетах "
   ]
  },
  {
   "cell_type": "markdown",
   "metadata": {},
   "source": [
    "# Вывод"
   ]
  },
  {
   "cell_type": "markdown",
   "metadata": {},
   "source": [
    "В результате проведенного исследования рекомендуется присвоить победу группе В и тест остановить . Все показатели данной группы выше относительно группы А. И хоть и заметны колебания показателей по графикам в начале проведения тестирования к концу исследования все стабилизируется.  "
   ]
  },
  {
   "cell_type": "markdown",
   "metadata": {},
   "source": [
    "\n",
    "\n",
    " \n",
    " - Статистическая значимость различий в среднем количестве заказов на посетителя между группами по «сырым» данным у группы В 16% относительно группы А\n",
    "    \n",
    " - Статистическая значимость различий в среднем чеке заказа между группами по «сырым» данным выше на 29% \n",
    "  \n",
    " - Cтатистическую значимость различий в среднем количестве заказов на посетителя между группами по «очищенным» выше на 19%\n",
    "    \n",
    " - И только статистическая значимость различий в среднем чеке заказа между группами по «очищенным» данным ниже на 3 % чем у группы А\n",
    "  \n",
    " - В обеих группах идет рост показателей, но показатели группы В выше чем у группы А\n",
    "    \n",
    " - Рекомендую все же тест остановить и присвоить победу группе В\n",
    "\n"
   ]
  },
  {
   "cell_type": "code",
   "execution_count": null,
   "metadata": {},
   "outputs": [],
   "source": []
  }
 ],
 "metadata": {
  "ExecuteTimeLog": [
   {
    "duration": 458,
    "start_time": "2022-12-22T04:33:02.435Z"
   },
   {
    "duration": 8,
    "start_time": "2022-12-22T04:34:40.240Z"
   },
   {
    "duration": 9,
    "start_time": "2022-12-22T04:36:09.129Z"
   },
   {
    "duration": 7,
    "start_time": "2022-12-22T04:40:41.877Z"
   },
   {
    "duration": 426,
    "start_time": "2022-12-22T05:07:56.621Z"
   },
   {
    "duration": 140,
    "start_time": "2022-12-22T05:11:32.304Z"
   },
   {
    "duration": 70,
    "start_time": "2022-12-22T05:11:35.177Z"
   },
   {
    "duration": 17,
    "start_time": "2022-12-22T05:11:42.320Z"
   },
   {
    "duration": 13,
    "start_time": "2022-12-22T05:12:06.353Z"
   },
   {
    "duration": 11,
    "start_time": "2022-12-22T05:12:35.104Z"
   },
   {
    "duration": 7,
    "start_time": "2022-12-22T05:12:59.932Z"
   },
   {
    "duration": 5,
    "start_time": "2022-12-22T05:13:28.152Z"
   },
   {
    "duration": 14,
    "start_time": "2022-12-22T05:13:53.971Z"
   },
   {
    "duration": 12,
    "start_time": "2022-12-22T05:14:13.572Z"
   },
   {
    "duration": 82,
    "start_time": "2022-12-22T05:14:57.178Z"
   },
   {
    "duration": 4,
    "start_time": "2022-12-22T05:15:04.987Z"
   },
   {
    "duration": 12,
    "start_time": "2022-12-22T05:15:20.153Z"
   },
   {
    "duration": 22,
    "start_time": "2022-12-22T05:15:34.082Z"
   },
   {
    "duration": 13,
    "start_time": "2022-12-22T05:16:00.435Z"
   },
   {
    "duration": 10,
    "start_time": "2022-12-22T05:16:26.097Z"
   },
   {
    "duration": 10,
    "start_time": "2022-12-22T05:16:50.204Z"
   },
   {
    "duration": 10,
    "start_time": "2022-12-22T05:17:33.715Z"
   },
   {
    "duration": 11,
    "start_time": "2022-12-22T05:17:45.722Z"
   },
   {
    "duration": 4,
    "start_time": "2022-12-22T05:21:14.791Z"
   },
   {
    "duration": 12,
    "start_time": "2022-12-22T05:21:23.353Z"
   },
   {
    "duration": 11,
    "start_time": "2022-12-22T05:22:10.283Z"
   },
   {
    "duration": 5,
    "start_time": "2022-12-22T05:22:16.083Z"
   },
   {
    "duration": 5,
    "start_time": "2022-12-22T05:24:29.934Z"
   },
   {
    "duration": 13,
    "start_time": "2022-12-22T05:24:41.455Z"
   },
   {
    "duration": 4,
    "start_time": "2022-12-22T05:25:07.563Z"
   },
   {
    "duration": 10,
    "start_time": "2022-12-22T05:25:57.583Z"
   },
   {
    "duration": 4,
    "start_time": "2022-12-22T05:26:09.506Z"
   },
   {
    "duration": 8,
    "start_time": "2022-12-22T05:26:28.179Z"
   },
   {
    "duration": 4,
    "start_time": "2022-12-22T05:27:36.972Z"
   },
   {
    "duration": 10,
    "start_time": "2022-12-22T05:58:49.055Z"
   },
   {
    "duration": 9,
    "start_time": "2022-12-22T06:01:01.563Z"
   },
   {
    "duration": 8,
    "start_time": "2022-12-22T06:01:09.524Z"
   },
   {
    "duration": 14,
    "start_time": "2022-12-22T06:03:30.553Z"
   },
   {
    "duration": 4,
    "start_time": "2022-12-22T06:04:31.122Z"
   },
   {
    "duration": 9,
    "start_time": "2022-12-22T06:04:45.715Z"
   },
   {
    "duration": 10,
    "start_time": "2022-12-22T06:04:55.264Z"
   },
   {
    "duration": 43,
    "start_time": "2022-12-22T06:13:23.453Z"
   },
   {
    "duration": 46,
    "start_time": "2022-12-22T06:13:34.732Z"
   },
   {
    "duration": 63,
    "start_time": "2022-12-22T06:14:00.193Z"
   },
   {
    "duration": 63,
    "start_time": "2022-12-22T06:14:37.473Z"
   },
   {
    "duration": 2682,
    "start_time": "2022-12-22T06:14:54.431Z"
   },
   {
    "duration": 2821,
    "start_time": "2022-12-22T06:16:39.911Z"
   },
   {
    "duration": 2786,
    "start_time": "2022-12-22T06:17:32.651Z"
   },
   {
    "duration": 2858,
    "start_time": "2022-12-22T06:17:46.200Z"
   },
   {
    "duration": 2720,
    "start_time": "2022-12-22T06:20:07.472Z"
   },
   {
    "duration": 9,
    "start_time": "2022-12-22T06:20:16.748Z"
   },
   {
    "duration": 142,
    "start_time": "2022-12-22T06:21:25.107Z"
   },
   {
    "duration": 2751,
    "start_time": "2022-12-22T06:21:46.792Z"
   },
   {
    "duration": 2691,
    "start_time": "2022-12-22T06:21:57.573Z"
   },
   {
    "duration": 16,
    "start_time": "2022-12-22T06:27:16.715Z"
   },
   {
    "duration": 3061,
    "start_time": "2022-12-22T06:28:51.560Z"
   },
   {
    "duration": 7,
    "start_time": "2022-12-22T06:29:06.392Z"
   },
   {
    "duration": 144,
    "start_time": "2022-12-22T06:29:07.792Z"
   },
   {
    "duration": 19,
    "start_time": "2022-12-22T06:29:09.975Z"
   },
   {
    "duration": 3032,
    "start_time": "2022-12-22T06:30:25.129Z"
   },
   {
    "duration": 17,
    "start_time": "2022-12-22T06:34:43.226Z"
   },
   {
    "duration": 6,
    "start_time": "2022-12-22T06:35:42.175Z"
   },
   {
    "duration": 9,
    "start_time": "2022-12-22T06:36:27.891Z"
   },
   {
    "duration": 381,
    "start_time": "2022-12-22T06:37:14.602Z"
   },
   {
    "duration": 123,
    "start_time": "2022-12-22T06:37:20.335Z"
   },
   {
    "duration": 772,
    "start_time": "2022-12-22T06:38:23.859Z"
   },
   {
    "duration": 7,
    "start_time": "2022-12-22T06:39:12.565Z"
   },
   {
    "duration": 151,
    "start_time": "2022-12-22T06:39:37.566Z"
   },
   {
    "duration": 7,
    "start_time": "2022-12-22T06:39:51.476Z"
   },
   {
    "duration": 202,
    "start_time": "2022-12-22T06:39:52.407Z"
   },
   {
    "duration": 161,
    "start_time": "2022-12-22T06:40:25.900Z"
   },
   {
    "duration": 159,
    "start_time": "2022-12-22T06:40:29.586Z"
   },
   {
    "duration": 6,
    "start_time": "2022-12-22T06:46:02.045Z"
   },
   {
    "duration": 167,
    "start_time": "2022-12-22T06:47:10.259Z"
   },
   {
    "duration": 45,
    "start_time": "2022-12-22T06:50:54.851Z"
   },
   {
    "duration": 60,
    "start_time": "2022-12-22T07:02:20.955Z"
   },
   {
    "duration": 57,
    "start_time": "2022-12-22T07:02:41.218Z"
   },
   {
    "duration": 7,
    "start_time": "2022-12-22T07:02:50.557Z"
   },
   {
    "duration": 12,
    "start_time": "2022-12-22T07:03:09.082Z"
   },
   {
    "duration": 48,
    "start_time": "2022-12-22T07:05:45.284Z"
   },
   {
    "duration": 54,
    "start_time": "2022-12-22T07:05:57.859Z"
   },
   {
    "duration": 154,
    "start_time": "2022-12-22T07:06:18.954Z"
   },
   {
    "duration": 138,
    "start_time": "2022-12-22T07:06:38.393Z"
   },
   {
    "duration": 137,
    "start_time": "2022-12-22T07:06:46.641Z"
   },
   {
    "duration": 150,
    "start_time": "2022-12-22T07:08:06.580Z"
   },
   {
    "duration": 160,
    "start_time": "2022-12-22T07:08:16.405Z"
   },
   {
    "duration": 157,
    "start_time": "2022-12-22T07:08:36.236Z"
   },
   {
    "duration": 299,
    "start_time": "2022-12-22T07:08:56.168Z"
   },
   {
    "duration": 257,
    "start_time": "2022-12-22T07:08:59.519Z"
   },
   {
    "duration": 325,
    "start_time": "2022-12-22T07:09:14.872Z"
   },
   {
    "duration": 144,
    "start_time": "2022-12-22T07:09:35.476Z"
   },
   {
    "duration": 143,
    "start_time": "2022-12-22T07:09:45.577Z"
   },
   {
    "duration": 236,
    "start_time": "2022-12-22T07:14:52.748Z"
   },
   {
    "duration": 12,
    "start_time": "2022-12-22T07:27:12.665Z"
   },
   {
    "duration": 15,
    "start_time": "2022-12-22T07:29:00.228Z"
   },
   {
    "duration": 9,
    "start_time": "2022-12-22T07:29:16.251Z"
   },
   {
    "duration": 5,
    "start_time": "2022-12-22T07:30:06.923Z"
   },
   {
    "duration": 12,
    "start_time": "2022-12-22T07:30:14.139Z"
   },
   {
    "duration": 5,
    "start_time": "2022-12-22T07:30:32.149Z"
   },
   {
    "duration": 6,
    "start_time": "2022-12-22T07:31:18.765Z"
   },
   {
    "duration": 7,
    "start_time": "2022-12-22T07:31:40.948Z"
   },
   {
    "duration": 10,
    "start_time": "2022-12-22T07:32:10.975Z"
   },
   {
    "duration": 8,
    "start_time": "2022-12-22T07:32:25.511Z"
   },
   {
    "duration": 164,
    "start_time": "2022-12-22T07:35:32.194Z"
   },
   {
    "duration": 165,
    "start_time": "2022-12-22T07:37:11.624Z"
   },
   {
    "duration": 168,
    "start_time": "2022-12-22T07:37:19.163Z"
   },
   {
    "duration": 162,
    "start_time": "2022-12-22T07:37:28.170Z"
   },
   {
    "duration": 178,
    "start_time": "2022-12-22T07:37:55.370Z"
   },
   {
    "duration": 154,
    "start_time": "2022-12-22T07:38:12.057Z"
   },
   {
    "duration": 151,
    "start_time": "2022-12-22T07:38:18.749Z"
   },
   {
    "duration": 6,
    "start_time": "2022-12-22T07:47:23.038Z"
   },
   {
    "duration": 21,
    "start_time": "2022-12-22T07:47:31.996Z"
   },
   {
    "duration": 15,
    "start_time": "2022-12-22T07:48:35.793Z"
   },
   {
    "duration": 12,
    "start_time": "2022-12-22T07:48:47.161Z"
   },
   {
    "duration": 163,
    "start_time": "2022-12-22T07:50:23.022Z"
   },
   {
    "duration": 157,
    "start_time": "2022-12-22T07:51:39.092Z"
   },
   {
    "duration": 250,
    "start_time": "2022-12-22T07:51:47.709Z"
   },
   {
    "duration": 143,
    "start_time": "2022-12-22T07:52:10.025Z"
   },
   {
    "duration": 241,
    "start_time": "2022-12-22T07:52:39.030Z"
   },
   {
    "duration": 251,
    "start_time": "2022-12-22T07:53:10.789Z"
   },
   {
    "duration": 269,
    "start_time": "2022-12-22T07:53:31.204Z"
   },
   {
    "duration": 244,
    "start_time": "2022-12-22T07:53:50.991Z"
   },
   {
    "duration": 228,
    "start_time": "2022-12-22T07:56:18.145Z"
   },
   {
    "duration": 237,
    "start_time": "2022-12-22T07:58:34.447Z"
   },
   {
    "duration": 133,
    "start_time": "2022-12-22T07:58:43.035Z"
   },
   {
    "duration": 140,
    "start_time": "2022-12-22T07:59:16.160Z"
   },
   {
    "duration": 290,
    "start_time": "2022-12-22T08:00:20.100Z"
   },
   {
    "duration": 252,
    "start_time": "2022-12-22T08:00:31.953Z"
   },
   {
    "duration": 305,
    "start_time": "2022-12-22T08:01:10.192Z"
   },
   {
    "duration": 221,
    "start_time": "2022-12-22T08:01:41.568Z"
   },
   {
    "duration": 267,
    "start_time": "2022-12-22T08:01:46.610Z"
   },
   {
    "duration": 358,
    "start_time": "2022-12-22T08:01:54.357Z"
   },
   {
    "duration": 232,
    "start_time": "2022-12-22T08:02:04.364Z"
   },
   {
    "duration": 243,
    "start_time": "2022-12-22T08:02:19.659Z"
   },
   {
    "duration": 306,
    "start_time": "2022-12-22T08:03:06.189Z"
   },
   {
    "duration": 9,
    "start_time": "2022-12-22T08:42:48.945Z"
   },
   {
    "duration": 8,
    "start_time": "2022-12-22T08:47:34.008Z"
   },
   {
    "duration": 14,
    "start_time": "2022-12-22T08:50:01.718Z"
   },
   {
    "duration": 10,
    "start_time": "2022-12-22T08:50:28.935Z"
   },
   {
    "duration": 765,
    "start_time": "2022-12-22T08:52:25.671Z"
   },
   {
    "duration": 100,
    "start_time": "2022-12-22T08:52:36.825Z"
   },
   {
    "duration": 6,
    "start_time": "2022-12-22T08:56:46.323Z"
   },
   {
    "duration": 4,
    "start_time": "2022-12-22T08:56:57.950Z"
   },
   {
    "duration": 706,
    "start_time": "2022-12-22T09:00:09.145Z"
   },
   {
    "duration": 115,
    "start_time": "2022-12-22T09:01:31.448Z"
   },
   {
    "duration": 828,
    "start_time": "2022-12-22T09:03:04.143Z"
   },
   {
    "duration": 706,
    "start_time": "2022-12-22T09:03:19.542Z"
   },
   {
    "duration": 124,
    "start_time": "2022-12-22T09:03:31.512Z"
   },
   {
    "duration": 4,
    "start_time": "2022-12-22T09:05:26.777Z"
   },
   {
    "duration": 114,
    "start_time": "2022-12-22T09:05:39.744Z"
   },
   {
    "duration": 5,
    "start_time": "2022-12-22T09:09:07.043Z"
   },
   {
    "duration": 14,
    "start_time": "2022-12-22T09:22:45.824Z"
   },
   {
    "duration": 10,
    "start_time": "2022-12-22T09:22:56.508Z"
   },
   {
    "duration": 76,
    "start_time": "2022-12-22T09:24:19.912Z"
   },
   {
    "duration": 102,
    "start_time": "2022-12-22T09:24:51.509Z"
   },
   {
    "duration": 11,
    "start_time": "2022-12-22T09:25:29.471Z"
   },
   {
    "duration": 11,
    "start_time": "2022-12-22T09:25:44.896Z"
   },
   {
    "duration": 12,
    "start_time": "2022-12-22T09:26:39.263Z"
   },
   {
    "duration": 53,
    "start_time": "2022-12-23T04:49:56.112Z"
   },
   {
    "duration": 1447,
    "start_time": "2022-12-23T04:50:09.104Z"
   },
   {
    "duration": 202,
    "start_time": "2022-12-23T04:50:13.397Z"
   },
   {
    "duration": 14,
    "start_time": "2022-12-23T04:50:48.324Z"
   },
   {
    "duration": 9,
    "start_time": "2022-12-23T04:53:56.683Z"
   },
   {
    "duration": 8,
    "start_time": "2022-12-23T04:54:09.295Z"
   },
   {
    "duration": 7,
    "start_time": "2022-12-23T04:54:21.096Z"
   },
   {
    "duration": 1101,
    "start_time": "2022-12-23T04:54:43.521Z"
   },
   {
    "duration": 141,
    "start_time": "2022-12-23T04:54:44.624Z"
   },
   {
    "duration": 11,
    "start_time": "2022-12-23T04:54:44.766Z"
   },
   {
    "duration": 9,
    "start_time": "2022-12-23T04:54:44.779Z"
   },
   {
    "duration": 53,
    "start_time": "2022-12-23T04:54:44.790Z"
   },
   {
    "duration": 19,
    "start_time": "2022-12-23T04:54:44.845Z"
   },
   {
    "duration": 17,
    "start_time": "2022-12-23T04:54:44.866Z"
   },
   {
    "duration": 14,
    "start_time": "2022-12-23T04:54:44.885Z"
   },
   {
    "duration": 15,
    "start_time": "2022-12-23T04:54:44.901Z"
   },
   {
    "duration": 39,
    "start_time": "2022-12-23T04:54:44.919Z"
   },
   {
    "duration": 13,
    "start_time": "2022-12-23T04:54:44.959Z"
   },
   {
    "duration": 11,
    "start_time": "2022-12-23T04:54:44.974Z"
   },
   {
    "duration": 9,
    "start_time": "2022-12-23T04:54:44.986Z"
   },
   {
    "duration": 9,
    "start_time": "2022-12-23T04:54:44.996Z"
   },
   {
    "duration": 3141,
    "start_time": "2022-12-23T04:54:45.007Z"
   },
   {
    "duration": 11,
    "start_time": "2022-12-23T04:54:48.151Z"
   },
   {
    "duration": 157,
    "start_time": "2022-12-23T04:54:48.163Z"
   },
   {
    "duration": 29,
    "start_time": "2022-12-23T04:54:48.322Z"
   },
   {
    "duration": 6,
    "start_time": "2022-12-23T04:54:48.353Z"
   },
   {
    "duration": 286,
    "start_time": "2022-12-23T04:54:48.361Z"
   },
   {
    "duration": 194,
    "start_time": "2022-12-23T04:54:48.649Z"
   },
   {
    "duration": 16,
    "start_time": "2022-12-23T04:54:48.845Z"
   },
   {
    "duration": 312,
    "start_time": "2022-12-23T04:54:48.863Z"
   },
   {
    "duration": 12,
    "start_time": "2022-12-23T04:54:49.177Z"
   },
   {
    "duration": 14,
    "start_time": "2022-12-23T04:54:49.190Z"
   },
   {
    "duration": 234,
    "start_time": "2022-12-23T04:54:49.206Z"
   },
   {
    "duration": 21,
    "start_time": "2022-12-23T04:54:49.442Z"
   },
   {
    "duration": 329,
    "start_time": "2022-12-23T04:54:49.466Z"
   },
   {
    "duration": 15,
    "start_time": "2022-12-23T04:54:49.797Z"
   },
   {
    "duration": 149,
    "start_time": "2022-12-23T04:54:49.815Z"
   },
   {
    "duration": 5,
    "start_time": "2022-12-23T04:54:49.966Z"
   },
   {
    "duration": 217,
    "start_time": "2022-12-23T04:54:49.973Z"
   },
   {
    "duration": 5,
    "start_time": "2022-12-23T04:54:50.191Z"
   },
   {
    "duration": 7,
    "start_time": "2022-12-23T04:54:50.198Z"
   },
   {
    "duration": 13,
    "start_time": "2022-12-23T04:54:50.207Z"
   },
   {
    "duration": 36,
    "start_time": "2022-12-23T04:54:50.222Z"
   },
   {
    "duration": 121,
    "start_time": "2022-12-23T04:55:19.733Z"
   },
   {
    "duration": 1152,
    "start_time": "2022-12-23T04:56:34.410Z"
   },
   {
    "duration": 6,
    "start_time": "2022-12-23T04:57:10.107Z"
   },
   {
    "duration": 84,
    "start_time": "2022-12-23T04:57:32.739Z"
   },
   {
    "duration": 6,
    "start_time": "2022-12-23T04:57:39.050Z"
   },
   {
    "duration": 6,
    "start_time": "2022-12-23T04:57:52.235Z"
   },
   {
    "duration": 6,
    "start_time": "2022-12-23T04:58:07.928Z"
   },
   {
    "duration": 5,
    "start_time": "2022-12-23T04:58:18.065Z"
   },
   {
    "duration": 7,
    "start_time": "2022-12-23T04:58:46.338Z"
   },
   {
    "duration": 6,
    "start_time": "2022-12-23T04:58:48.445Z"
   },
   {
    "duration": 5,
    "start_time": "2022-12-23T04:58:52.228Z"
   },
   {
    "duration": 4,
    "start_time": "2022-12-23T04:59:01.781Z"
   },
   {
    "duration": 11,
    "start_time": "2022-12-23T05:03:05.443Z"
   },
   {
    "duration": 7,
    "start_time": "2022-12-23T05:03:17.415Z"
   },
   {
    "duration": 6,
    "start_time": "2022-12-23T05:05:00.767Z"
   },
   {
    "duration": 6,
    "start_time": "2022-12-23T05:05:05.681Z"
   },
   {
    "duration": 6,
    "start_time": "2022-12-23T05:05:07.115Z"
   },
   {
    "duration": 9,
    "start_time": "2022-12-23T05:05:26.700Z"
   },
   {
    "duration": 10,
    "start_time": "2022-12-23T05:05:42.320Z"
   },
   {
    "duration": 11,
    "start_time": "2022-12-23T05:06:04.153Z"
   },
   {
    "duration": 1165,
    "start_time": "2022-12-23T05:10:18.965Z"
   },
   {
    "duration": 16,
    "start_time": "2022-12-23T05:10:34.518Z"
   },
   {
    "duration": 93,
    "start_time": "2022-12-23T05:11:08.408Z"
   },
   {
    "duration": 9,
    "start_time": "2022-12-23T05:11:20.376Z"
   },
   {
    "duration": 10,
    "start_time": "2022-12-23T05:12:19.710Z"
   },
   {
    "duration": 12,
    "start_time": "2022-12-23T05:13:20.223Z"
   },
   {
    "duration": 7,
    "start_time": "2022-12-23T05:13:27.858Z"
   },
   {
    "duration": 7,
    "start_time": "2022-12-23T05:13:58.087Z"
   },
   {
    "duration": 16,
    "start_time": "2022-12-23T05:14:41.223Z"
   },
   {
    "duration": 7,
    "start_time": "2022-12-23T05:17:04.800Z"
   },
   {
    "duration": 7,
    "start_time": "2022-12-23T05:18:26.005Z"
   },
   {
    "duration": 12,
    "start_time": "2022-12-23T05:19:06.817Z"
   },
   {
    "duration": 16,
    "start_time": "2022-12-23T05:19:33.402Z"
   },
   {
    "duration": 8,
    "start_time": "2022-12-23T05:19:52.075Z"
   },
   {
    "duration": 8,
    "start_time": "2022-12-23T05:20:08.071Z"
   },
   {
    "duration": 12,
    "start_time": "2022-12-23T05:20:36.998Z"
   },
   {
    "duration": 11,
    "start_time": "2022-12-23T05:20:46.515Z"
   },
   {
    "duration": 10,
    "start_time": "2022-12-23T05:20:59.565Z"
   },
   {
    "duration": 14,
    "start_time": "2022-12-23T05:21:58.757Z"
   },
   {
    "duration": 8,
    "start_time": "2022-12-23T05:22:23.273Z"
   },
   {
    "duration": 35,
    "start_time": "2022-12-23T05:27:38.843Z"
   },
   {
    "duration": 14,
    "start_time": "2022-12-23T05:30:04.067Z"
   },
   {
    "duration": 24,
    "start_time": "2022-12-23T05:30:12.643Z"
   },
   {
    "duration": 23,
    "start_time": "2022-12-23T05:30:33.075Z"
   },
   {
    "duration": 25,
    "start_time": "2022-12-23T05:30:42.986Z"
   },
   {
    "duration": 12,
    "start_time": "2022-12-23T05:33:32.201Z"
   },
   {
    "duration": 11,
    "start_time": "2022-12-23T05:33:39.146Z"
   },
   {
    "duration": 25,
    "start_time": "2022-12-23T05:33:55.347Z"
   },
   {
    "duration": 307,
    "start_time": "2022-12-23T05:35:54.672Z"
   },
   {
    "duration": 27,
    "start_time": "2022-12-23T05:36:34.383Z"
   },
   {
    "duration": 15,
    "start_time": "2022-12-23T05:36:54.482Z"
   },
   {
    "duration": 23,
    "start_time": "2022-12-23T05:37:10.311Z"
   },
   {
    "duration": 21,
    "start_time": "2022-12-23T05:38:22.999Z"
   },
   {
    "duration": 18,
    "start_time": "2022-12-23T05:38:39.478Z"
   },
   {
    "duration": 17,
    "start_time": "2022-12-23T05:38:52.017Z"
   },
   {
    "duration": 20,
    "start_time": "2022-12-23T05:38:53.625Z"
   },
   {
    "duration": 5,
    "start_time": "2022-12-23T05:39:55.239Z"
   },
   {
    "duration": 4,
    "start_time": "2022-12-23T05:41:31.489Z"
   },
   {
    "duration": 26,
    "start_time": "2022-12-23T05:42:38.966Z"
   },
   {
    "duration": 635,
    "start_time": "2022-12-23T05:43:08.121Z"
   },
   {
    "duration": 23,
    "start_time": "2022-12-23T05:43:51.201Z"
   },
   {
    "duration": 16,
    "start_time": "2022-12-23T05:44:37.696Z"
   },
   {
    "duration": 22,
    "start_time": "2022-12-23T05:44:41.616Z"
   },
   {
    "duration": 22,
    "start_time": "2022-12-23T05:44:57.608Z"
   },
   {
    "duration": 20,
    "start_time": "2022-12-23T05:47:50.081Z"
   },
   {
    "duration": 20,
    "start_time": "2022-12-23T05:55:04.930Z"
   },
   {
    "duration": 24,
    "start_time": "2022-12-23T05:55:16.162Z"
   },
   {
    "duration": 24,
    "start_time": "2022-12-23T05:55:28.396Z"
   },
   {
    "duration": 26,
    "start_time": "2022-12-23T05:56:40.227Z"
   },
   {
    "duration": 624,
    "start_time": "2022-12-23T05:58:18.292Z"
   },
   {
    "duration": 79,
    "start_time": "2022-12-23T05:58:42.878Z"
   },
   {
    "duration": 75,
    "start_time": "2022-12-23T05:58:57.191Z"
   },
   {
    "duration": 4,
    "start_time": "2022-12-23T05:59:06.074Z"
   },
   {
    "duration": 25,
    "start_time": "2022-12-23T05:59:15.146Z"
   },
   {
    "duration": 1116,
    "start_time": "2022-12-23T06:00:52.410Z"
   },
   {
    "duration": 17,
    "start_time": "2022-12-23T06:01:03.047Z"
   },
   {
    "duration": 17,
    "start_time": "2022-12-23T06:01:14.236Z"
   },
   {
    "duration": 18,
    "start_time": "2022-12-23T06:01:25.420Z"
   },
   {
    "duration": 27,
    "start_time": "2022-12-23T06:02:21.359Z"
   },
   {
    "duration": 18,
    "start_time": "2022-12-23T06:03:11.057Z"
   },
   {
    "duration": 31,
    "start_time": "2022-12-23T06:03:26.259Z"
   },
   {
    "duration": 25,
    "start_time": "2022-12-23T06:03:35.650Z"
   },
   {
    "duration": 24,
    "start_time": "2022-12-23T06:03:47.437Z"
   },
   {
    "duration": 1199,
    "start_time": "2022-12-23T06:05:04.319Z"
   },
   {
    "duration": 1254,
    "start_time": "2022-12-23T06:05:23.782Z"
   },
   {
    "duration": 4,
    "start_time": "2022-12-23T06:05:34.957Z"
   },
   {
    "duration": 1141,
    "start_time": "2022-12-23T06:05:39.674Z"
   },
   {
    "duration": 4,
    "start_time": "2022-12-23T06:05:46.298Z"
   },
   {
    "duration": 5,
    "start_time": "2022-12-23T06:08:07.716Z"
   },
   {
    "duration": 16,
    "start_time": "2022-12-23T06:09:36.634Z"
   },
   {
    "duration": 32,
    "start_time": "2022-12-23T06:09:42.787Z"
   },
   {
    "duration": 27,
    "start_time": "2022-12-23T06:10:40.221Z"
   },
   {
    "duration": 24,
    "start_time": "2022-12-23T06:11:06.999Z"
   },
   {
    "duration": 15,
    "start_time": "2022-12-23T06:15:14.428Z"
   },
   {
    "duration": 11,
    "start_time": "2022-12-23T06:26:22.585Z"
   },
   {
    "duration": 15,
    "start_time": "2022-12-23T06:26:53.066Z"
   },
   {
    "duration": 11,
    "start_time": "2022-12-23T06:44:36.067Z"
   },
   {
    "duration": 12,
    "start_time": "2022-12-23T06:44:56.635Z"
   },
   {
    "duration": 11,
    "start_time": "2022-12-23T06:45:01.956Z"
   },
   {
    "duration": 13,
    "start_time": "2022-12-23T06:45:08.979Z"
   },
   {
    "duration": 11,
    "start_time": "2022-12-23T06:45:23.712Z"
   },
   {
    "duration": 12,
    "start_time": "2022-12-23T06:45:48.706Z"
   },
   {
    "duration": 15,
    "start_time": "2022-12-23T06:46:35.162Z"
   },
   {
    "duration": 7,
    "start_time": "2022-12-23T06:53:34.775Z"
   },
   {
    "duration": 6,
    "start_time": "2022-12-23T06:54:36.721Z"
   },
   {
    "duration": 9,
    "start_time": "2022-12-23T06:56:08.215Z"
   },
   {
    "duration": 8,
    "start_time": "2022-12-23T06:56:18.699Z"
   },
   {
    "duration": 13,
    "start_time": "2022-12-23T06:57:41.972Z"
   },
   {
    "duration": 6,
    "start_time": "2022-12-23T06:57:58.967Z"
   },
   {
    "duration": 7,
    "start_time": "2022-12-23T06:58:07.649Z"
   },
   {
    "duration": 86,
    "start_time": "2022-12-23T07:00:37.947Z"
   },
   {
    "duration": 10,
    "start_time": "2022-12-23T07:00:46.946Z"
   },
   {
    "duration": 12,
    "start_time": "2022-12-23T07:00:53.897Z"
   },
   {
    "duration": 13,
    "start_time": "2022-12-23T07:01:02.288Z"
   },
   {
    "duration": 9,
    "start_time": "2022-12-23T07:01:55.469Z"
   },
   {
    "duration": 11,
    "start_time": "2022-12-23T07:02:00.716Z"
   },
   {
    "duration": 4,
    "start_time": "2022-12-23T07:02:02.824Z"
   },
   {
    "duration": 10,
    "start_time": "2022-12-23T07:02:48.691Z"
   },
   {
    "duration": 1115,
    "start_time": "2022-12-23T07:03:00.019Z"
   },
   {
    "duration": 96,
    "start_time": "2022-12-23T07:03:01.136Z"
   },
   {
    "duration": 12,
    "start_time": "2022-12-23T07:03:01.234Z"
   },
   {
    "duration": 14,
    "start_time": "2022-12-23T07:03:01.248Z"
   },
   {
    "duration": 64,
    "start_time": "2022-12-23T07:03:01.265Z"
   },
   {
    "duration": 14,
    "start_time": "2022-12-23T07:03:01.331Z"
   },
   {
    "duration": 24,
    "start_time": "2022-12-23T07:03:01.346Z"
   },
   {
    "duration": 14,
    "start_time": "2022-12-23T07:03:01.372Z"
   },
   {
    "duration": 22,
    "start_time": "2022-12-23T07:03:01.388Z"
   },
   {
    "duration": 18,
    "start_time": "2022-12-23T07:03:01.412Z"
   },
   {
    "duration": 29,
    "start_time": "2022-12-23T07:03:01.432Z"
   },
   {
    "duration": 24,
    "start_time": "2022-12-23T07:03:01.462Z"
   },
   {
    "duration": 17,
    "start_time": "2022-12-23T07:03:01.488Z"
   },
   {
    "duration": 23,
    "start_time": "2022-12-23T07:03:01.508Z"
   },
   {
    "duration": 19,
    "start_time": "2022-12-23T07:03:01.533Z"
   },
   {
    "duration": 4,
    "start_time": "2022-12-23T07:03:01.554Z"
   },
   {
    "duration": 2487,
    "start_time": "2022-12-23T07:03:01.560Z"
   },
   {
    "duration": 8,
    "start_time": "2022-12-23T07:03:04.048Z"
   },
   {
    "duration": 142,
    "start_time": "2022-12-23T07:03:04.057Z"
   },
   {
    "duration": 16,
    "start_time": "2022-12-23T07:03:04.201Z"
   },
   {
    "duration": 6,
    "start_time": "2022-12-23T07:03:04.219Z"
   },
   {
    "duration": 315,
    "start_time": "2022-12-23T07:03:04.228Z"
   },
   {
    "duration": 200,
    "start_time": "2022-12-23T07:03:04.545Z"
   },
   {
    "duration": 12,
    "start_time": "2022-12-23T07:03:04.750Z"
   },
   {
    "duration": 274,
    "start_time": "2022-12-23T07:03:04.763Z"
   },
   {
    "duration": 20,
    "start_time": "2022-12-23T07:03:05.040Z"
   },
   {
    "duration": 12,
    "start_time": "2022-12-23T07:03:05.061Z"
   },
   {
    "duration": 214,
    "start_time": "2022-12-23T07:03:05.075Z"
   },
   {
    "duration": 14,
    "start_time": "2022-12-23T07:03:05.291Z"
   },
   {
    "duration": 346,
    "start_time": "2022-12-23T07:03:05.307Z"
   },
   {
    "duration": 11,
    "start_time": "2022-12-23T07:03:05.656Z"
   },
   {
    "duration": 160,
    "start_time": "2022-12-23T07:03:05.669Z"
   },
   {
    "duration": 5,
    "start_time": "2022-12-23T07:03:05.832Z"
   },
   {
    "duration": 153,
    "start_time": "2022-12-23T07:03:05.839Z"
   },
   {
    "duration": 4,
    "start_time": "2022-12-23T07:03:05.994Z"
   },
   {
    "duration": 16,
    "start_time": "2022-12-23T07:03:06.000Z"
   },
   {
    "duration": 45,
    "start_time": "2022-12-23T07:03:06.018Z"
   },
   {
    "duration": 21,
    "start_time": "2022-12-23T07:03:06.065Z"
   },
   {
    "duration": 13,
    "start_time": "2022-12-23T07:04:00.817Z"
   },
   {
    "duration": 15,
    "start_time": "2022-12-23T07:04:32.671Z"
   },
   {
    "duration": 17,
    "start_time": "2022-12-23T07:05:47.056Z"
   },
   {
    "duration": 14,
    "start_time": "2022-12-23T07:05:48.105Z"
   },
   {
    "duration": 1038,
    "start_time": "2022-12-23T07:05:55.406Z"
   },
   {
    "duration": 89,
    "start_time": "2022-12-23T07:05:56.446Z"
   },
   {
    "duration": 10,
    "start_time": "2022-12-23T07:05:56.537Z"
   },
   {
    "duration": 11,
    "start_time": "2022-12-23T07:05:56.549Z"
   },
   {
    "duration": 54,
    "start_time": "2022-12-23T07:05:56.562Z"
   },
   {
    "duration": 14,
    "start_time": "2022-12-23T07:05:56.618Z"
   },
   {
    "duration": 17,
    "start_time": "2022-12-23T07:05:56.634Z"
   },
   {
    "duration": 13,
    "start_time": "2022-12-23T07:05:56.652Z"
   },
   {
    "duration": 13,
    "start_time": "2022-12-23T07:05:56.666Z"
   },
   {
    "duration": 18,
    "start_time": "2022-12-23T07:05:56.680Z"
   },
   {
    "duration": 14,
    "start_time": "2022-12-23T07:05:56.701Z"
   },
   {
    "duration": 34,
    "start_time": "2022-12-23T07:05:56.718Z"
   },
   {
    "duration": 11,
    "start_time": "2022-12-23T07:05:56.754Z"
   },
   {
    "duration": 11,
    "start_time": "2022-12-23T07:05:56.768Z"
   },
   {
    "duration": 16,
    "start_time": "2022-12-23T07:05:56.781Z"
   },
   {
    "duration": 11,
    "start_time": "2022-12-23T07:05:56.799Z"
   },
   {
    "duration": 2541,
    "start_time": "2022-12-23T07:05:56.812Z"
   },
   {
    "duration": 8,
    "start_time": "2022-12-23T07:05:59.354Z"
   },
   {
    "duration": 155,
    "start_time": "2022-12-23T07:05:59.364Z"
   },
   {
    "duration": 28,
    "start_time": "2022-12-23T07:05:59.521Z"
   },
   {
    "duration": 56,
    "start_time": "2022-12-23T07:05:59.550Z"
   },
   {
    "duration": 394,
    "start_time": "2022-12-23T07:05:59.608Z"
   },
   {
    "duration": 211,
    "start_time": "2022-12-23T07:06:00.004Z"
   },
   {
    "duration": 12,
    "start_time": "2022-12-23T07:06:00.217Z"
   },
   {
    "duration": 293,
    "start_time": "2022-12-23T07:06:00.232Z"
   },
   {
    "duration": 25,
    "start_time": "2022-12-23T07:06:00.527Z"
   },
   {
    "duration": 28,
    "start_time": "2022-12-23T07:06:00.554Z"
   },
   {
    "duration": 197,
    "start_time": "2022-12-23T07:06:00.584Z"
   },
   {
    "duration": 16,
    "start_time": "2022-12-23T07:06:00.784Z"
   },
   {
    "duration": 352,
    "start_time": "2022-12-23T07:06:00.802Z"
   },
   {
    "duration": 11,
    "start_time": "2022-12-23T07:06:01.156Z"
   },
   {
    "duration": 162,
    "start_time": "2022-12-23T07:06:01.168Z"
   },
   {
    "duration": 6,
    "start_time": "2022-12-23T07:06:01.332Z"
   },
   {
    "duration": 235,
    "start_time": "2022-12-23T07:06:01.340Z"
   },
   {
    "duration": 5,
    "start_time": "2022-12-23T07:06:01.577Z"
   },
   {
    "duration": 8,
    "start_time": "2022-12-23T07:06:01.584Z"
   },
   {
    "duration": 20,
    "start_time": "2022-12-23T07:06:01.593Z"
   },
   {
    "duration": 15,
    "start_time": "2022-12-23T07:06:01.615Z"
   },
   {
    "duration": 8,
    "start_time": "2022-12-23T07:12:23.575Z"
   },
   {
    "duration": 12,
    "start_time": "2022-12-23T07:48:55.361Z"
   },
   {
    "duration": 120,
    "start_time": "2022-12-23T07:49:21.416Z"
   },
   {
    "duration": 134,
    "start_time": "2022-12-23T07:49:49.757Z"
   },
   {
    "duration": 119,
    "start_time": "2022-12-23T07:50:29.897Z"
   },
   {
    "duration": 121,
    "start_time": "2022-12-23T07:52:36.680Z"
   },
   {
    "duration": 97,
    "start_time": "2022-12-23T07:52:55.927Z"
   },
   {
    "duration": 119,
    "start_time": "2022-12-23T07:53:05.173Z"
   },
   {
    "duration": 136,
    "start_time": "2022-12-23T07:53:19.234Z"
   },
   {
    "duration": 10,
    "start_time": "2022-12-23T07:59:02.403Z"
   },
   {
    "duration": 11,
    "start_time": "2022-12-23T07:59:18.304Z"
   },
   {
    "duration": 6,
    "start_time": "2022-12-23T08:00:48.000Z"
   },
   {
    "duration": 15,
    "start_time": "2022-12-23T08:01:14.206Z"
   },
   {
    "duration": 9,
    "start_time": "2022-12-23T08:01:38.383Z"
   },
   {
    "duration": 22,
    "start_time": "2022-12-23T08:05:06.097Z"
   },
   {
    "duration": 1171,
    "start_time": "2022-12-23T08:06:18.535Z"
   },
   {
    "duration": 114,
    "start_time": "2022-12-23T08:06:19.712Z"
   },
   {
    "duration": 13,
    "start_time": "2022-12-23T08:06:19.828Z"
   },
   {
    "duration": 27,
    "start_time": "2022-12-23T08:06:19.844Z"
   },
   {
    "duration": 73,
    "start_time": "2022-12-23T08:06:19.873Z"
   },
   {
    "duration": 14,
    "start_time": "2022-12-23T08:06:19.951Z"
   },
   {
    "duration": 24,
    "start_time": "2022-12-23T08:06:19.967Z"
   },
   {
    "duration": 29,
    "start_time": "2022-12-23T08:06:19.993Z"
   },
   {
    "duration": 17,
    "start_time": "2022-12-23T08:06:20.024Z"
   },
   {
    "duration": 30,
    "start_time": "2022-12-23T08:06:20.044Z"
   },
   {
    "duration": 22,
    "start_time": "2022-12-23T08:06:20.076Z"
   },
   {
    "duration": 15,
    "start_time": "2022-12-23T08:06:20.100Z"
   },
   {
    "duration": 16,
    "start_time": "2022-12-23T08:06:20.117Z"
   },
   {
    "duration": 23,
    "start_time": "2022-12-23T08:06:20.135Z"
   },
   {
    "duration": 19,
    "start_time": "2022-12-23T08:06:20.160Z"
   },
   {
    "duration": 14,
    "start_time": "2022-12-23T08:06:20.181Z"
   },
   {
    "duration": 2509,
    "start_time": "2022-12-23T08:06:20.197Z"
   },
   {
    "duration": 8,
    "start_time": "2022-12-23T08:06:22.708Z"
   },
   {
    "duration": 149,
    "start_time": "2022-12-23T08:06:22.718Z"
   },
   {
    "duration": 26,
    "start_time": "2022-12-23T08:06:22.869Z"
   },
   {
    "duration": 35,
    "start_time": "2022-12-23T08:06:22.897Z"
   },
   {
    "duration": 277,
    "start_time": "2022-12-23T08:06:22.934Z"
   },
   {
    "duration": 198,
    "start_time": "2022-12-23T08:06:23.212Z"
   },
   {
    "duration": 11,
    "start_time": "2022-12-23T08:06:23.412Z"
   },
   {
    "duration": 288,
    "start_time": "2022-12-23T08:06:23.425Z"
   },
   {
    "duration": 12,
    "start_time": "2022-12-23T08:06:23.714Z"
   },
   {
    "duration": 29,
    "start_time": "2022-12-23T08:06:23.728Z"
   },
   {
    "duration": 201,
    "start_time": "2022-12-23T08:06:23.761Z"
   },
   {
    "duration": 16,
    "start_time": "2022-12-23T08:06:23.964Z"
   },
   {
    "duration": 369,
    "start_time": "2022-12-23T08:06:23.982Z"
   },
   {
    "duration": 10,
    "start_time": "2022-12-23T08:06:24.353Z"
   },
   {
    "duration": 149,
    "start_time": "2022-12-23T08:06:24.364Z"
   },
   {
    "duration": 5,
    "start_time": "2022-12-23T08:06:24.515Z"
   },
   {
    "duration": 258,
    "start_time": "2022-12-23T08:06:24.521Z"
   },
   {
    "duration": 9,
    "start_time": "2022-12-23T08:06:24.781Z"
   },
   {
    "duration": 164,
    "start_time": "2022-12-23T08:06:24.791Z"
   },
   {
    "duration": 5,
    "start_time": "2022-12-23T08:06:24.956Z"
   },
   {
    "duration": 46,
    "start_time": "2022-12-23T08:06:24.963Z"
   },
   {
    "duration": 30,
    "start_time": "2022-12-23T08:06:25.011Z"
   },
   {
    "duration": 133,
    "start_time": "2022-12-23T08:06:25.042Z"
   },
   {
    "duration": 0,
    "start_time": "2022-12-23T08:06:25.176Z"
   },
   {
    "duration": 0,
    "start_time": "2022-12-23T08:06:25.177Z"
   },
   {
    "duration": 13,
    "start_time": "2022-12-23T08:07:01.044Z"
   },
   {
    "duration": 17,
    "start_time": "2022-12-23T08:07:13.257Z"
   },
   {
    "duration": 1054,
    "start_time": "2022-12-23T08:07:27.368Z"
   },
   {
    "duration": 93,
    "start_time": "2022-12-23T08:07:28.424Z"
   },
   {
    "duration": 10,
    "start_time": "2022-12-23T08:07:28.519Z"
   },
   {
    "duration": 21,
    "start_time": "2022-12-23T08:07:28.531Z"
   },
   {
    "duration": 50,
    "start_time": "2022-12-23T08:07:28.555Z"
   },
   {
    "duration": 15,
    "start_time": "2022-12-23T08:07:28.606Z"
   },
   {
    "duration": 32,
    "start_time": "2022-12-23T08:07:28.623Z"
   },
   {
    "duration": 14,
    "start_time": "2022-12-23T08:07:28.657Z"
   },
   {
    "duration": 16,
    "start_time": "2022-12-23T08:07:28.673Z"
   },
   {
    "duration": 17,
    "start_time": "2022-12-23T08:07:28.691Z"
   },
   {
    "duration": 15,
    "start_time": "2022-12-23T08:07:28.710Z"
   },
   {
    "duration": 29,
    "start_time": "2022-12-23T08:07:28.727Z"
   },
   {
    "duration": 19,
    "start_time": "2022-12-23T08:07:28.758Z"
   },
   {
    "duration": 12,
    "start_time": "2022-12-23T08:07:28.781Z"
   },
   {
    "duration": 12,
    "start_time": "2022-12-23T08:07:28.796Z"
   },
   {
    "duration": 44,
    "start_time": "2022-12-23T08:07:28.810Z"
   },
   {
    "duration": 2594,
    "start_time": "2022-12-23T08:07:28.856Z"
   },
   {
    "duration": 8,
    "start_time": "2022-12-23T08:07:31.452Z"
   },
   {
    "duration": 141,
    "start_time": "2022-12-23T08:07:31.462Z"
   },
   {
    "duration": 26,
    "start_time": "2022-12-23T08:07:31.605Z"
   },
   {
    "duration": 21,
    "start_time": "2022-12-23T08:07:31.632Z"
   },
   {
    "duration": 273,
    "start_time": "2022-12-23T08:07:31.655Z"
   },
   {
    "duration": 194,
    "start_time": "2022-12-23T08:07:31.930Z"
   },
   {
    "duration": 27,
    "start_time": "2022-12-23T08:07:32.126Z"
   },
   {
    "duration": 327,
    "start_time": "2022-12-23T08:07:32.156Z"
   },
   {
    "duration": 12,
    "start_time": "2022-12-23T08:07:32.484Z"
   },
   {
    "duration": 30,
    "start_time": "2022-12-23T08:07:32.498Z"
   },
   {
    "duration": 214,
    "start_time": "2022-12-23T08:07:32.530Z"
   },
   {
    "duration": 14,
    "start_time": "2022-12-23T08:07:32.750Z"
   },
   {
    "duration": 287,
    "start_time": "2022-12-23T08:07:32.766Z"
   },
   {
    "duration": 11,
    "start_time": "2022-12-23T08:07:33.055Z"
   },
   {
    "duration": 152,
    "start_time": "2022-12-23T08:07:33.068Z"
   },
   {
    "duration": 5,
    "start_time": "2022-12-23T08:07:33.222Z"
   },
   {
    "duration": 147,
    "start_time": "2022-12-23T08:07:33.228Z"
   },
   {
    "duration": 8,
    "start_time": "2022-12-23T08:07:33.377Z"
   },
   {
    "duration": 213,
    "start_time": "2022-12-23T08:07:33.387Z"
   },
   {
    "duration": 5,
    "start_time": "2022-12-23T08:07:33.602Z"
   },
   {
    "duration": 16,
    "start_time": "2022-12-23T08:07:33.608Z"
   },
   {
    "duration": 26,
    "start_time": "2022-12-23T08:07:33.626Z"
   },
   {
    "duration": 125,
    "start_time": "2022-12-23T08:07:33.654Z"
   },
   {
    "duration": 0,
    "start_time": "2022-12-23T08:07:33.781Z"
   },
   {
    "duration": 0,
    "start_time": "2022-12-23T08:07:33.783Z"
   },
   {
    "duration": 68,
    "start_time": "2022-12-23T08:08:48.692Z"
   },
   {
    "duration": 28,
    "start_time": "2022-12-23T08:08:59.187Z"
   },
   {
    "duration": 14,
    "start_time": "2022-12-23T08:10:10.195Z"
   },
   {
    "duration": 13,
    "start_time": "2022-12-23T08:10:22.413Z"
   },
   {
    "duration": 1256,
    "start_time": "2022-12-23T08:10:28.597Z"
   },
   {
    "duration": 38,
    "start_time": "2022-12-23T08:10:29.856Z"
   },
   {
    "duration": 12,
    "start_time": "2022-12-23T08:10:29.897Z"
   },
   {
    "duration": 46,
    "start_time": "2022-12-23T08:10:29.911Z"
   },
   {
    "duration": 103,
    "start_time": "2022-12-23T08:10:29.960Z"
   },
   {
    "duration": 35,
    "start_time": "2022-12-23T08:10:30.065Z"
   },
   {
    "duration": 62,
    "start_time": "2022-12-23T08:10:30.101Z"
   },
   {
    "duration": 39,
    "start_time": "2022-12-23T08:10:30.164Z"
   },
   {
    "duration": 54,
    "start_time": "2022-12-23T08:10:30.205Z"
   },
   {
    "duration": 64,
    "start_time": "2022-12-23T08:10:30.261Z"
   },
   {
    "duration": 64,
    "start_time": "2022-12-23T08:10:30.327Z"
   },
   {
    "duration": 71,
    "start_time": "2022-12-23T08:10:30.393Z"
   },
   {
    "duration": 43,
    "start_time": "2022-12-23T08:10:30.466Z"
   },
   {
    "duration": 50,
    "start_time": "2022-12-23T08:10:30.513Z"
   },
   {
    "duration": 47,
    "start_time": "2022-12-23T08:10:30.566Z"
   },
   {
    "duration": 87,
    "start_time": "2022-12-23T08:10:30.615Z"
   },
   {
    "duration": 2602,
    "start_time": "2022-12-23T08:10:30.704Z"
   },
   {
    "duration": 8,
    "start_time": "2022-12-23T08:10:33.307Z"
   },
   {
    "duration": 162,
    "start_time": "2022-12-23T08:10:33.316Z"
   },
   {
    "duration": 72,
    "start_time": "2022-12-23T08:10:33.479Z"
   },
   {
    "duration": 51,
    "start_time": "2022-12-23T08:10:33.553Z"
   },
   {
    "duration": 307,
    "start_time": "2022-12-23T08:10:33.606Z"
   },
   {
    "duration": 202,
    "start_time": "2022-12-23T08:10:33.916Z"
   },
   {
    "duration": 14,
    "start_time": "2022-12-23T08:10:34.121Z"
   },
   {
    "duration": 290,
    "start_time": "2022-12-23T08:10:34.137Z"
   },
   {
    "duration": 24,
    "start_time": "2022-12-23T08:10:34.430Z"
   },
   {
    "duration": 35,
    "start_time": "2022-12-23T08:10:34.456Z"
   },
   {
    "duration": 224,
    "start_time": "2022-12-23T08:10:34.493Z"
   },
   {
    "duration": 14,
    "start_time": "2022-12-23T08:10:34.719Z"
   },
   {
    "duration": 383,
    "start_time": "2022-12-23T08:10:34.734Z"
   },
   {
    "duration": 11,
    "start_time": "2022-12-23T08:10:35.119Z"
   },
   {
    "duration": 170,
    "start_time": "2022-12-23T08:10:35.131Z"
   },
   {
    "duration": 5,
    "start_time": "2022-12-23T08:10:35.303Z"
   },
   {
    "duration": 157,
    "start_time": "2022-12-23T08:10:35.310Z"
   },
   {
    "duration": 9,
    "start_time": "2022-12-23T08:10:35.469Z"
   },
   {
    "duration": 146,
    "start_time": "2022-12-23T08:10:35.479Z"
   },
   {
    "duration": 6,
    "start_time": "2022-12-23T08:10:35.627Z"
   },
   {
    "duration": 50,
    "start_time": "2022-12-23T08:10:35.635Z"
   },
   {
    "duration": 41,
    "start_time": "2022-12-23T08:10:35.687Z"
   },
   {
    "duration": 133,
    "start_time": "2022-12-23T08:10:35.729Z"
   },
   {
    "duration": 0,
    "start_time": "2022-12-23T08:10:35.864Z"
   },
   {
    "duration": 0,
    "start_time": "2022-12-23T08:10:35.865Z"
   },
   {
    "duration": 12,
    "start_time": "2022-12-23T08:11:06.514Z"
   },
   {
    "duration": 13,
    "start_time": "2022-12-23T08:11:26.284Z"
   },
   {
    "duration": 48,
    "start_time": "2022-12-23T08:13:10.296Z"
   },
   {
    "duration": 55,
    "start_time": "2022-12-23T08:13:35.205Z"
   },
   {
    "duration": 50,
    "start_time": "2022-12-23T08:14:32.542Z"
   },
   {
    "duration": 55,
    "start_time": "2022-12-23T08:14:39.475Z"
   },
   {
    "duration": 57,
    "start_time": "2022-12-23T08:14:49.494Z"
   },
   {
    "duration": 60,
    "start_time": "2022-12-23T08:16:05.169Z"
   },
   {
    "duration": 9,
    "start_time": "2022-12-23T08:17:24.557Z"
   },
   {
    "duration": 8,
    "start_time": "2022-12-23T08:17:28.121Z"
   },
   {
    "duration": 10,
    "start_time": "2022-12-23T08:30:26.393Z"
   },
   {
    "duration": 21,
    "start_time": "2022-12-23T08:31:33.618Z"
   },
   {
    "duration": 94,
    "start_time": "2022-12-23T08:36:04.543Z"
   },
   {
    "duration": 54,
    "start_time": "2022-12-23T08:36:10.259Z"
   },
   {
    "duration": 55,
    "start_time": "2022-12-23T08:36:25.710Z"
   },
   {
    "duration": 64,
    "start_time": "2022-12-23T08:37:30.660Z"
   },
   {
    "duration": 66,
    "start_time": "2022-12-23T08:44:49.254Z"
   },
   {
    "duration": 62,
    "start_time": "2022-12-23T08:45:48.038Z"
   },
   {
    "duration": 10,
    "start_time": "2022-12-23T08:57:05.240Z"
   },
   {
    "duration": 53,
    "start_time": "2022-12-23T08:57:26.503Z"
   },
   {
    "duration": 11,
    "start_time": "2022-12-23T08:57:37.737Z"
   },
   {
    "duration": 55,
    "start_time": "2022-12-23T08:57:45.553Z"
   },
   {
    "duration": 34,
    "start_time": "2022-12-23T08:57:49.737Z"
   },
   {
    "duration": 33,
    "start_time": "2022-12-23T08:59:04.329Z"
   },
   {
    "duration": 27,
    "start_time": "2022-12-23T08:59:24.920Z"
   },
   {
    "duration": 54,
    "start_time": "2022-12-23T08:59:51.597Z"
   },
   {
    "duration": 56,
    "start_time": "2022-12-23T09:00:11.557Z"
   },
   {
    "duration": 75,
    "start_time": "2022-12-23T09:00:46.689Z"
   },
   {
    "duration": 64,
    "start_time": "2022-12-23T09:01:00.929Z"
   },
   {
    "duration": 61,
    "start_time": "2022-12-23T09:07:35.775Z"
   },
   {
    "duration": 58,
    "start_time": "2022-12-23T09:07:38.496Z"
   },
   {
    "duration": 17,
    "start_time": "2022-12-23T09:12:40.444Z"
   },
   {
    "duration": 41,
    "start_time": "2022-12-23T09:13:18.516Z"
   },
   {
    "duration": 1369,
    "start_time": "2022-12-23T09:16:39.149Z"
   },
   {
    "duration": 40,
    "start_time": "2022-12-23T09:16:40.521Z"
   },
   {
    "duration": 14,
    "start_time": "2022-12-23T09:16:40.563Z"
   },
   {
    "duration": 31,
    "start_time": "2022-12-23T09:16:40.579Z"
   },
   {
    "duration": 76,
    "start_time": "2022-12-23T09:16:40.613Z"
   },
   {
    "duration": 20,
    "start_time": "2022-12-23T09:16:40.691Z"
   },
   {
    "duration": 29,
    "start_time": "2022-12-23T09:16:40.713Z"
   },
   {
    "duration": 19,
    "start_time": "2022-12-23T09:16:40.744Z"
   },
   {
    "duration": 50,
    "start_time": "2022-12-23T09:16:40.771Z"
   },
   {
    "duration": 36,
    "start_time": "2022-12-23T09:16:40.822Z"
   },
   {
    "duration": 55,
    "start_time": "2022-12-23T09:16:40.860Z"
   },
   {
    "duration": 61,
    "start_time": "2022-12-23T09:16:40.916Z"
   },
   {
    "duration": 32,
    "start_time": "2022-12-23T09:16:40.979Z"
   },
   {
    "duration": 52,
    "start_time": "2022-12-23T09:16:41.015Z"
   },
   {
    "duration": 28,
    "start_time": "2022-12-23T09:16:41.069Z"
   },
   {
    "duration": 33,
    "start_time": "2022-12-23T09:16:41.099Z"
   },
   {
    "duration": 2651,
    "start_time": "2022-12-23T09:16:41.134Z"
   },
   {
    "duration": 7,
    "start_time": "2022-12-23T09:16:43.788Z"
   },
   {
    "duration": 160,
    "start_time": "2022-12-23T09:16:43.797Z"
   },
   {
    "duration": 28,
    "start_time": "2022-12-23T09:16:43.958Z"
   },
   {
    "duration": 10,
    "start_time": "2022-12-23T09:16:43.988Z"
   },
   {
    "duration": 286,
    "start_time": "2022-12-23T09:16:44.000Z"
   },
   {
    "duration": 209,
    "start_time": "2022-12-23T09:16:44.288Z"
   },
   {
    "duration": 12,
    "start_time": "2022-12-23T09:16:44.499Z"
   },
   {
    "duration": 330,
    "start_time": "2022-12-23T09:16:44.512Z"
   },
   {
    "duration": 17,
    "start_time": "2022-12-23T09:16:44.851Z"
   },
   {
    "duration": 11,
    "start_time": "2022-12-23T09:16:44.870Z"
   },
   {
    "duration": 210,
    "start_time": "2022-12-23T09:16:44.883Z"
   },
   {
    "duration": 16,
    "start_time": "2022-12-23T09:16:45.095Z"
   },
   {
    "duration": 378,
    "start_time": "2022-12-23T09:16:45.114Z"
   },
   {
    "duration": 11,
    "start_time": "2022-12-23T09:16:45.494Z"
   },
   {
    "duration": 163,
    "start_time": "2022-12-23T09:16:45.507Z"
   },
   {
    "duration": 5,
    "start_time": "2022-12-23T09:16:45.672Z"
   },
   {
    "duration": 147,
    "start_time": "2022-12-23T09:16:45.679Z"
   },
   {
    "duration": 9,
    "start_time": "2022-12-23T09:16:45.828Z"
   },
   {
    "duration": 146,
    "start_time": "2022-12-23T09:16:45.839Z"
   },
   {
    "duration": 6,
    "start_time": "2022-12-23T09:16:45.987Z"
   },
   {
    "duration": 13,
    "start_time": "2022-12-23T09:16:45.994Z"
   },
   {
    "duration": 12,
    "start_time": "2022-12-23T09:16:46.008Z"
   },
   {
    "duration": 87,
    "start_time": "2022-12-23T09:16:46.023Z"
   },
   {
    "duration": 78,
    "start_time": "2022-12-23T09:16:46.115Z"
   },
   {
    "duration": 11,
    "start_time": "2022-12-23T09:16:46.195Z"
   },
   {
    "duration": 79,
    "start_time": "2022-12-23T09:16:46.207Z"
   },
   {
    "duration": 83,
    "start_time": "2022-12-23T09:16:46.288Z"
   },
   {
    "duration": 42,
    "start_time": "2022-12-23T09:16:46.373Z"
   },
   {
    "duration": 14,
    "start_time": "2022-12-23T09:16:46.418Z"
   },
   {
    "duration": 16,
    "start_time": "2022-12-23T09:16:46.451Z"
   },
   {
    "duration": 85,
    "start_time": "2022-12-23T09:17:58.416Z"
   },
   {
    "duration": 124,
    "start_time": "2022-12-23T09:19:14.773Z"
   },
   {
    "duration": 42,
    "start_time": "2022-12-23T09:20:02.722Z"
   },
   {
    "duration": 67,
    "start_time": "2022-12-23T09:20:29.056Z"
   },
   {
    "duration": 82,
    "start_time": "2022-12-23T09:20:39.562Z"
   },
   {
    "duration": 30,
    "start_time": "2022-12-23T09:20:41.717Z"
   },
   {
    "duration": 33,
    "start_time": "2022-12-23T09:21:11.222Z"
   },
   {
    "duration": 13,
    "start_time": "2022-12-23T09:22:26.179Z"
   },
   {
    "duration": 12,
    "start_time": "2022-12-23T09:35:13.736Z"
   },
   {
    "duration": 11,
    "start_time": "2022-12-23T09:36:04.563Z"
   },
   {
    "duration": 13,
    "start_time": "2022-12-23T09:36:05.476Z"
   },
   {
    "duration": 8,
    "start_time": "2022-12-23T09:36:08.035Z"
   },
   {
    "duration": 71,
    "start_time": "2022-12-23T09:38:07.902Z"
   },
   {
    "duration": 91,
    "start_time": "2022-12-23T09:40:49.213Z"
   },
   {
    "duration": 70,
    "start_time": "2022-12-23T09:40:57.834Z"
   },
   {
    "duration": 11,
    "start_time": "2022-12-23T09:43:02.265Z"
   },
   {
    "duration": 5,
    "start_time": "2022-12-23T09:43:55.173Z"
   },
   {
    "duration": 5,
    "start_time": "2022-12-23T09:44:29.869Z"
   },
   {
    "duration": 8,
    "start_time": "2022-12-23T09:44:45.371Z"
   },
   {
    "duration": 8,
    "start_time": "2022-12-23T09:45:29.927Z"
   },
   {
    "duration": 11,
    "start_time": "2022-12-23T09:47:01.793Z"
   },
   {
    "duration": 1260,
    "start_time": "2022-12-23T09:47:22.346Z"
   },
   {
    "duration": 36,
    "start_time": "2022-12-23T09:47:23.608Z"
   },
   {
    "duration": 13,
    "start_time": "2022-12-23T09:47:23.646Z"
   },
   {
    "duration": 13,
    "start_time": "2022-12-23T09:47:23.661Z"
   },
   {
    "duration": 56,
    "start_time": "2022-12-23T09:47:23.677Z"
   },
   {
    "duration": 18,
    "start_time": "2022-12-23T09:47:23.735Z"
   },
   {
    "duration": 19,
    "start_time": "2022-12-23T09:47:23.755Z"
   },
   {
    "duration": 14,
    "start_time": "2022-12-23T09:47:23.776Z"
   },
   {
    "duration": 21,
    "start_time": "2022-12-23T09:47:23.793Z"
   },
   {
    "duration": 45,
    "start_time": "2022-12-23T09:47:23.816Z"
   },
   {
    "duration": 21,
    "start_time": "2022-12-23T09:47:23.863Z"
   },
   {
    "duration": 15,
    "start_time": "2022-12-23T09:47:23.886Z"
   },
   {
    "duration": 21,
    "start_time": "2022-12-23T09:47:23.904Z"
   },
   {
    "duration": 16,
    "start_time": "2022-12-23T09:47:23.952Z"
   },
   {
    "duration": 19,
    "start_time": "2022-12-23T09:47:23.970Z"
   },
   {
    "duration": 18,
    "start_time": "2022-12-23T09:47:23.991Z"
   },
   {
    "duration": 2802,
    "start_time": "2022-12-23T09:47:24.011Z"
   },
   {
    "duration": 10,
    "start_time": "2022-12-23T09:47:26.815Z"
   },
   {
    "duration": 163,
    "start_time": "2022-12-23T09:47:26.827Z"
   },
   {
    "duration": 22,
    "start_time": "2022-12-23T09:47:26.992Z"
   },
   {
    "duration": 11,
    "start_time": "2022-12-23T09:47:27.016Z"
   },
   {
    "duration": 290,
    "start_time": "2022-12-23T09:47:27.029Z"
   },
   {
    "duration": 218,
    "start_time": "2022-12-23T09:47:27.321Z"
   },
   {
    "duration": 20,
    "start_time": "2022-12-23T09:47:27.541Z"
   },
   {
    "duration": 305,
    "start_time": "2022-12-23T09:47:27.563Z"
   },
   {
    "duration": 12,
    "start_time": "2022-12-23T09:47:27.870Z"
   },
   {
    "duration": 14,
    "start_time": "2022-12-23T09:47:27.884Z"
   },
   {
    "duration": 223,
    "start_time": "2022-12-23T09:47:27.900Z"
   },
   {
    "duration": 16,
    "start_time": "2022-12-23T09:47:28.125Z"
   },
   {
    "duration": 437,
    "start_time": "2022-12-23T09:47:28.150Z"
   },
   {
    "duration": 11,
    "start_time": "2022-12-23T09:47:28.589Z"
   },
   {
    "duration": 179,
    "start_time": "2022-12-23T09:47:28.601Z"
   },
   {
    "duration": 7,
    "start_time": "2022-12-23T09:47:28.781Z"
   },
   {
    "duration": 143,
    "start_time": "2022-12-23T09:47:28.789Z"
   },
   {
    "duration": 18,
    "start_time": "2022-12-23T09:47:28.934Z"
   },
   {
    "duration": 132,
    "start_time": "2022-12-23T09:47:28.953Z"
   },
   {
    "duration": 6,
    "start_time": "2022-12-23T09:47:29.087Z"
   },
   {
    "duration": 10,
    "start_time": "2022-12-23T09:47:29.095Z"
   },
   {
    "duration": 12,
    "start_time": "2022-12-23T09:47:29.108Z"
   },
   {
    "duration": 90,
    "start_time": "2022-12-23T09:47:29.122Z"
   },
   {
    "duration": 74,
    "start_time": "2022-12-23T09:47:29.217Z"
   },
   {
    "duration": 15,
    "start_time": "2022-12-23T09:47:29.293Z"
   },
   {
    "duration": 70,
    "start_time": "2022-12-23T09:47:29.310Z"
   },
   {
    "duration": 71,
    "start_time": "2022-12-23T09:47:29.382Z"
   },
   {
    "duration": 39,
    "start_time": "2022-12-23T09:47:29.455Z"
   },
   {
    "duration": 17,
    "start_time": "2022-12-23T09:47:29.496Z"
   },
   {
    "duration": 36,
    "start_time": "2022-12-23T09:47:29.515Z"
   },
   {
    "duration": 6,
    "start_time": "2022-12-23T09:47:29.553Z"
   },
   {
    "duration": 9,
    "start_time": "2022-12-23T09:47:29.561Z"
   },
   {
    "duration": 173,
    "start_time": "2022-12-23T09:47:29.572Z"
   },
   {
    "duration": 26,
    "start_time": "2022-12-23T09:48:28.183Z"
   },
   {
    "duration": 25,
    "start_time": "2022-12-23T09:59:48.327Z"
   },
   {
    "duration": 13,
    "start_time": "2022-12-23T10:02:32.448Z"
   },
   {
    "duration": 14,
    "start_time": "2022-12-23T10:03:49.136Z"
   },
   {
    "duration": 14,
    "start_time": "2022-12-23T10:18:21.144Z"
   },
   {
    "duration": 12,
    "start_time": "2022-12-23T10:19:10.593Z"
   },
   {
    "duration": 1623,
    "start_time": "2022-12-23T10:22:22.460Z"
   },
   {
    "duration": 9,
    "start_time": "2022-12-23T10:22:42.241Z"
   },
   {
    "duration": 1100,
    "start_time": "2022-12-23T10:22:55.301Z"
   },
   {
    "duration": 13,
    "start_time": "2022-12-23T10:24:11.441Z"
   },
   {
    "duration": 10,
    "start_time": "2022-12-23T10:26:39.367Z"
   },
   {
    "duration": 71,
    "start_time": "2022-12-23T10:27:13.417Z"
   },
   {
    "duration": 73,
    "start_time": "2022-12-23T10:27:39.153Z"
   },
   {
    "duration": 6,
    "start_time": "2022-12-23T10:28:33.165Z"
   },
   {
    "duration": 15,
    "start_time": "2022-12-23T10:28:43.207Z"
   },
   {
    "duration": 14,
    "start_time": "2022-12-23T10:29:07.536Z"
   },
   {
    "duration": 25,
    "start_time": "2022-12-23T10:29:46.597Z"
   },
   {
    "duration": 84,
    "start_time": "2022-12-23T10:30:07.801Z"
   },
   {
    "duration": 18,
    "start_time": "2022-12-23T10:30:11.567Z"
   },
   {
    "duration": 12,
    "start_time": "2022-12-23T10:49:00.090Z"
   },
   {
    "duration": 12,
    "start_time": "2022-12-23T10:49:17.726Z"
   },
   {
    "duration": 11,
    "start_time": "2022-12-23T10:49:54.635Z"
   },
   {
    "duration": 20,
    "start_time": "2022-12-23T10:50:18.162Z"
   },
   {
    "duration": 1230,
    "start_time": "2022-12-23T10:51:16.400Z"
   },
   {
    "duration": 36,
    "start_time": "2022-12-23T10:51:17.633Z"
   },
   {
    "duration": 10,
    "start_time": "2022-12-23T10:51:17.671Z"
   },
   {
    "duration": 9,
    "start_time": "2022-12-23T10:51:17.683Z"
   },
   {
    "duration": 55,
    "start_time": "2022-12-23T10:51:17.694Z"
   },
   {
    "duration": 17,
    "start_time": "2022-12-23T10:51:17.751Z"
   },
   {
    "duration": 20,
    "start_time": "2022-12-23T10:51:17.770Z"
   },
   {
    "duration": 14,
    "start_time": "2022-12-23T10:51:17.792Z"
   },
   {
    "duration": 16,
    "start_time": "2022-12-23T10:51:17.808Z"
   },
   {
    "duration": 38,
    "start_time": "2022-12-23T10:51:17.826Z"
   },
   {
    "duration": 21,
    "start_time": "2022-12-23T10:51:17.867Z"
   },
   {
    "duration": 19,
    "start_time": "2022-12-23T10:51:17.890Z"
   },
   {
    "duration": 17,
    "start_time": "2022-12-23T10:51:17.911Z"
   },
   {
    "duration": 29,
    "start_time": "2022-12-23T10:51:17.931Z"
   },
   {
    "duration": 18,
    "start_time": "2022-12-23T10:51:17.962Z"
   },
   {
    "duration": 30,
    "start_time": "2022-12-23T10:51:17.982Z"
   },
   {
    "duration": 2737,
    "start_time": "2022-12-23T10:51:18.014Z"
   },
   {
    "duration": 8,
    "start_time": "2022-12-23T10:51:20.753Z"
   },
   {
    "duration": 147,
    "start_time": "2022-12-23T10:51:20.763Z"
   },
   {
    "duration": 16,
    "start_time": "2022-12-23T10:51:20.913Z"
   },
   {
    "duration": 21,
    "start_time": "2022-12-23T10:51:20.931Z"
   },
   {
    "duration": 273,
    "start_time": "2022-12-23T10:51:20.954Z"
   },
   {
    "duration": 203,
    "start_time": "2022-12-23T10:51:21.228Z"
   },
   {
    "duration": 17,
    "start_time": "2022-12-23T10:51:21.433Z"
   },
   {
    "duration": 270,
    "start_time": "2022-12-23T10:51:21.452Z"
   },
   {
    "duration": 11,
    "start_time": "2022-12-23T10:51:21.724Z"
   },
   {
    "duration": 9,
    "start_time": "2022-12-23T10:51:21.751Z"
   },
   {
    "duration": 191,
    "start_time": "2022-12-23T10:51:21.762Z"
   },
   {
    "duration": 15,
    "start_time": "2022-12-23T10:51:21.955Z"
   },
   {
    "duration": 383,
    "start_time": "2022-12-23T10:51:21.972Z"
   },
   {
    "duration": 11,
    "start_time": "2022-12-23T10:51:22.357Z"
   },
   {
    "duration": 149,
    "start_time": "2022-12-23T10:51:22.370Z"
   },
   {
    "duration": 6,
    "start_time": "2022-12-23T10:51:22.521Z"
   },
   {
    "duration": 134,
    "start_time": "2022-12-23T10:51:22.529Z"
   },
   {
    "duration": 9,
    "start_time": "2022-12-23T10:51:22.666Z"
   },
   {
    "duration": 134,
    "start_time": "2022-12-23T10:51:22.677Z"
   },
   {
    "duration": 6,
    "start_time": "2022-12-23T10:51:22.813Z"
   },
   {
    "duration": 19,
    "start_time": "2022-12-23T10:51:22.821Z"
   },
   {
    "duration": 17,
    "start_time": "2022-12-23T10:51:22.842Z"
   },
   {
    "duration": 53,
    "start_time": "2022-12-23T10:51:22.861Z"
   },
   {
    "duration": 71,
    "start_time": "2022-12-23T10:51:22.918Z"
   },
   {
    "duration": 15,
    "start_time": "2022-12-23T10:51:22.991Z"
   },
   {
    "duration": 76,
    "start_time": "2022-12-23T10:51:23.008Z"
   },
   {
    "duration": 107,
    "start_time": "2022-12-23T10:51:23.086Z"
   },
   {
    "duration": 54,
    "start_time": "2022-12-23T10:51:23.195Z"
   },
   {
    "duration": 41,
    "start_time": "2022-12-23T10:51:23.251Z"
   },
   {
    "duration": 25,
    "start_time": "2022-12-23T10:51:23.294Z"
   },
   {
    "duration": 22,
    "start_time": "2022-12-23T10:51:23.321Z"
   },
   {
    "duration": 41,
    "start_time": "2022-12-23T10:51:23.345Z"
   },
   {
    "duration": 40,
    "start_time": "2022-12-23T10:51:23.387Z"
   },
   {
    "duration": 13,
    "start_time": "2022-12-23T10:51:23.429Z"
   },
   {
    "duration": 15,
    "start_time": "2022-12-23T10:51:23.444Z"
   },
   {
    "duration": 48,
    "start_time": "2022-12-23T10:51:23.460Z"
   },
   {
    "duration": 68,
    "start_time": "2022-12-23T10:51:23.509Z"
   },
   {
    "duration": 29,
    "start_time": "2022-12-23T10:51:23.579Z"
   },
   {
    "duration": 146,
    "start_time": "2022-12-23T10:51:23.610Z"
   },
   {
    "duration": 21,
    "start_time": "2022-12-23T10:51:40.072Z"
   },
   {
    "duration": 83,
    "start_time": "2022-12-23T10:55:18.712Z"
   },
   {
    "duration": 22,
    "start_time": "2022-12-23T10:55:26.877Z"
   },
   {
    "duration": 16,
    "start_time": "2022-12-23T10:55:33.199Z"
   },
   {
    "duration": 17,
    "start_time": "2022-12-23T10:57:26.703Z"
   },
   {
    "duration": 12,
    "start_time": "2022-12-23T10:57:40.809Z"
   },
   {
    "duration": 46,
    "start_time": "2022-12-23T10:57:45.671Z"
   },
   {
    "duration": 26,
    "start_time": "2022-12-23T10:58:00.444Z"
   },
   {
    "duration": 15,
    "start_time": "2022-12-23T11:09:19.256Z"
   },
   {
    "duration": 1295,
    "start_time": "2022-12-23T11:11:05.676Z"
   },
   {
    "duration": 36,
    "start_time": "2022-12-23T11:11:06.974Z"
   },
   {
    "duration": 11,
    "start_time": "2022-12-23T11:11:07.012Z"
   },
   {
    "duration": 21,
    "start_time": "2022-12-23T11:11:07.025Z"
   },
   {
    "duration": 59,
    "start_time": "2022-12-23T11:11:07.048Z"
   },
   {
    "duration": 13,
    "start_time": "2022-12-23T11:11:07.109Z"
   },
   {
    "duration": 18,
    "start_time": "2022-12-23T11:11:07.124Z"
   },
   {
    "duration": 15,
    "start_time": "2022-12-23T11:11:07.144Z"
   },
   {
    "duration": 24,
    "start_time": "2022-12-23T11:11:07.161Z"
   },
   {
    "duration": 15,
    "start_time": "2022-12-23T11:11:07.188Z"
   },
   {
    "duration": 14,
    "start_time": "2022-12-23T11:11:07.205Z"
   },
   {
    "duration": 16,
    "start_time": "2022-12-23T11:11:07.221Z"
   },
   {
    "duration": 11,
    "start_time": "2022-12-23T11:11:07.252Z"
   },
   {
    "duration": 21,
    "start_time": "2022-12-23T11:11:07.265Z"
   },
   {
    "duration": 18,
    "start_time": "2022-12-23T11:11:07.288Z"
   },
   {
    "duration": 13,
    "start_time": "2022-12-23T11:11:07.308Z"
   },
   {
    "duration": 2974,
    "start_time": "2022-12-23T11:11:07.323Z"
   },
   {
    "duration": 9,
    "start_time": "2022-12-23T11:11:10.299Z"
   },
   {
    "duration": 154,
    "start_time": "2022-12-23T11:11:10.309Z"
   },
   {
    "duration": 39,
    "start_time": "2022-12-23T11:11:10.466Z"
   },
   {
    "duration": 21,
    "start_time": "2022-12-23T11:11:10.507Z"
   },
   {
    "duration": 306,
    "start_time": "2022-12-23T11:11:10.530Z"
   },
   {
    "duration": 218,
    "start_time": "2022-12-23T11:11:10.838Z"
   },
   {
    "duration": 19,
    "start_time": "2022-12-23T11:11:11.058Z"
   },
   {
    "duration": 307,
    "start_time": "2022-12-23T11:11:11.079Z"
   },
   {
    "duration": 12,
    "start_time": "2022-12-23T11:11:11.389Z"
   },
   {
    "duration": 18,
    "start_time": "2022-12-23T11:11:11.403Z"
   },
   {
    "duration": 218,
    "start_time": "2022-12-23T11:11:11.426Z"
   },
   {
    "duration": 15,
    "start_time": "2022-12-23T11:11:11.650Z"
   },
   {
    "duration": 404,
    "start_time": "2022-12-23T11:11:11.667Z"
   },
   {
    "duration": 12,
    "start_time": "2022-12-23T11:11:12.073Z"
   },
   {
    "duration": 172,
    "start_time": "2022-12-23T11:11:12.087Z"
   },
   {
    "duration": 5,
    "start_time": "2022-12-23T11:11:12.261Z"
   },
   {
    "duration": 162,
    "start_time": "2022-12-23T11:11:12.268Z"
   },
   {
    "duration": 18,
    "start_time": "2022-12-23T11:11:12.433Z"
   },
   {
    "duration": 155,
    "start_time": "2022-12-23T11:11:12.453Z"
   },
   {
    "duration": 6,
    "start_time": "2022-12-23T11:11:12.611Z"
   },
   {
    "duration": 23,
    "start_time": "2022-12-23T11:11:12.619Z"
   },
   {
    "duration": 23,
    "start_time": "2022-12-23T11:11:12.652Z"
   },
   {
    "duration": 75,
    "start_time": "2022-12-23T11:11:12.676Z"
   },
   {
    "duration": 59,
    "start_time": "2022-12-23T11:11:12.754Z"
   },
   {
    "duration": 37,
    "start_time": "2022-12-23T11:11:12.815Z"
   },
   {
    "duration": 83,
    "start_time": "2022-12-23T11:11:12.854Z"
   },
   {
    "duration": 74,
    "start_time": "2022-12-23T11:11:12.939Z"
   },
   {
    "duration": 72,
    "start_time": "2022-12-23T11:11:13.015Z"
   },
   {
    "duration": 13,
    "start_time": "2022-12-23T11:11:13.089Z"
   },
   {
    "duration": 28,
    "start_time": "2022-12-23T11:11:13.104Z"
   },
   {
    "duration": 28,
    "start_time": "2022-12-23T11:11:13.134Z"
   },
   {
    "duration": 24,
    "start_time": "2022-12-23T11:11:13.164Z"
   },
   {
    "duration": 57,
    "start_time": "2022-12-23T11:11:13.191Z"
   },
   {
    "duration": 13,
    "start_time": "2022-12-23T11:11:13.250Z"
   },
   {
    "duration": 42,
    "start_time": "2022-12-23T11:11:13.264Z"
   },
   {
    "duration": 44,
    "start_time": "2022-12-23T11:11:13.308Z"
   },
   {
    "duration": 49,
    "start_time": "2022-12-23T11:11:13.354Z"
   },
   {
    "duration": 24,
    "start_time": "2022-12-23T11:11:13.404Z"
   },
   {
    "duration": 43,
    "start_time": "2022-12-23T11:11:13.430Z"
   },
   {
    "duration": 13,
    "start_time": "2022-12-23T11:11:13.475Z"
   },
   {
    "duration": 11,
    "start_time": "2022-12-23T11:15:49.375Z"
   },
   {
    "duration": 26,
    "start_time": "2022-12-23T11:15:55.294Z"
   },
   {
    "duration": 4,
    "start_time": "2022-12-23T11:21:11.941Z"
   },
   {
    "duration": 8,
    "start_time": "2022-12-23T11:21:47.862Z"
   },
   {
    "duration": 5,
    "start_time": "2022-12-23T11:22:08.055Z"
   },
   {
    "duration": 110,
    "start_time": "2022-12-23T11:22:56.667Z"
   },
   {
    "duration": 5,
    "start_time": "2022-12-23T11:23:11.610Z"
   },
   {
    "duration": 13,
    "start_time": "2022-12-23T11:23:56.725Z"
   },
   {
    "duration": 5,
    "start_time": "2022-12-23T11:24:03.368Z"
   },
   {
    "duration": 9,
    "start_time": "2022-12-23T11:24:04.219Z"
   },
   {
    "duration": 30,
    "start_time": "2022-12-23T11:24:54.186Z"
   },
   {
    "duration": 5,
    "start_time": "2022-12-23T11:26:32.602Z"
   },
   {
    "duration": 7,
    "start_time": "2022-12-23T11:26:33.577Z"
   },
   {
    "duration": 26,
    "start_time": "2022-12-23T11:26:34.302Z"
   },
   {
    "duration": 5,
    "start_time": "2022-12-23T11:27:19.189Z"
   },
   {
    "duration": 8,
    "start_time": "2022-12-23T11:27:20.386Z"
   },
   {
    "duration": 22,
    "start_time": "2022-12-23T11:27:21.317Z"
   },
   {
    "duration": 35,
    "start_time": "2022-12-23T11:27:28.343Z"
   },
   {
    "duration": 8,
    "start_time": "2022-12-23T11:27:52.934Z"
   },
   {
    "duration": 7,
    "start_time": "2022-12-23T11:29:38.204Z"
   },
   {
    "duration": 8,
    "start_time": "2022-12-23T11:29:46.919Z"
   },
   {
    "duration": 28,
    "start_time": "2022-12-23T11:29:48.049Z"
   },
   {
    "duration": 5,
    "start_time": "2022-12-23T11:31:39.461Z"
   },
   {
    "duration": 10,
    "start_time": "2022-12-23T11:33:19.415Z"
   },
   {
    "duration": 17,
    "start_time": "2022-12-23T11:33:29.066Z"
   },
   {
    "duration": 11,
    "start_time": "2022-12-23T11:34:36.811Z"
   },
   {
    "duration": 14,
    "start_time": "2022-12-23T11:36:15.128Z"
   },
   {
    "duration": 16,
    "start_time": "2022-12-23T11:36:21.495Z"
   },
   {
    "duration": 5,
    "start_time": "2022-12-23T11:36:34.627Z"
   },
   {
    "duration": 6,
    "start_time": "2022-12-23T11:36:39.414Z"
   },
   {
    "duration": 23,
    "start_time": "2022-12-23T11:36:42.378Z"
   },
   {
    "duration": 5,
    "start_time": "2022-12-23T11:37:03.713Z"
   },
   {
    "duration": 8,
    "start_time": "2022-12-23T11:37:13.282Z"
   },
   {
    "duration": 26,
    "start_time": "2022-12-23T11:37:17.384Z"
   },
   {
    "duration": 13,
    "start_time": "2022-12-23T11:37:23.696Z"
   },
   {
    "duration": 31,
    "start_time": "2022-12-23T11:37:33.429Z"
   },
   {
    "duration": 1314,
    "start_time": "2022-12-23T11:37:45.266Z"
   },
   {
    "duration": 38,
    "start_time": "2022-12-23T11:37:46.582Z"
   },
   {
    "duration": 11,
    "start_time": "2022-12-23T11:37:46.621Z"
   },
   {
    "duration": 10,
    "start_time": "2022-12-23T11:37:46.635Z"
   },
   {
    "duration": 60,
    "start_time": "2022-12-23T11:37:46.650Z"
   },
   {
    "duration": 13,
    "start_time": "2022-12-23T11:37:46.712Z"
   },
   {
    "duration": 22,
    "start_time": "2022-12-23T11:37:46.728Z"
   },
   {
    "duration": 20,
    "start_time": "2022-12-23T11:37:46.752Z"
   },
   {
    "duration": 20,
    "start_time": "2022-12-23T11:37:46.774Z"
   },
   {
    "duration": 13,
    "start_time": "2022-12-23T11:37:46.797Z"
   },
   {
    "duration": 14,
    "start_time": "2022-12-23T11:37:46.812Z"
   },
   {
    "duration": 29,
    "start_time": "2022-12-23T11:37:46.828Z"
   },
   {
    "duration": 17,
    "start_time": "2022-12-23T11:37:46.860Z"
   },
   {
    "duration": 13,
    "start_time": "2022-12-23T11:37:46.878Z"
   },
   {
    "duration": 19,
    "start_time": "2022-12-23T11:37:46.893Z"
   },
   {
    "duration": 38,
    "start_time": "2022-12-23T11:37:46.914Z"
   },
   {
    "duration": 2689,
    "start_time": "2022-12-23T11:37:46.954Z"
   },
   {
    "duration": 15,
    "start_time": "2022-12-23T11:37:49.645Z"
   },
   {
    "duration": 201,
    "start_time": "2022-12-23T11:37:49.662Z"
   },
   {
    "duration": 21,
    "start_time": "2022-12-23T11:37:49.868Z"
   },
   {
    "duration": 8,
    "start_time": "2022-12-23T11:37:49.891Z"
   },
   {
    "duration": 329,
    "start_time": "2022-12-23T11:37:49.901Z"
   },
   {
    "duration": 213,
    "start_time": "2022-12-23T11:37:50.232Z"
   },
   {
    "duration": 17,
    "start_time": "2022-12-23T11:37:50.450Z"
   },
   {
    "duration": 286,
    "start_time": "2022-12-23T11:37:50.469Z"
   },
   {
    "duration": 20,
    "start_time": "2022-12-23T11:37:50.757Z"
   },
   {
    "duration": 36,
    "start_time": "2022-12-23T11:37:50.779Z"
   },
   {
    "duration": 194,
    "start_time": "2022-12-23T11:37:50.819Z"
   },
   {
    "duration": 15,
    "start_time": "2022-12-23T11:37:51.015Z"
   },
   {
    "duration": 398,
    "start_time": "2022-12-23T11:37:51.031Z"
   },
   {
    "duration": 22,
    "start_time": "2022-12-23T11:37:51.431Z"
   },
   {
    "duration": 157,
    "start_time": "2022-12-23T11:37:51.455Z"
   },
   {
    "duration": 6,
    "start_time": "2022-12-23T11:37:51.614Z"
   },
   {
    "duration": 162,
    "start_time": "2022-12-23T11:37:51.621Z"
   },
   {
    "duration": 10,
    "start_time": "2022-12-23T11:37:51.784Z"
   },
   {
    "duration": 139,
    "start_time": "2022-12-23T11:37:51.796Z"
   },
   {
    "duration": 5,
    "start_time": "2022-12-23T11:37:51.937Z"
   },
   {
    "duration": 34,
    "start_time": "2022-12-23T11:37:51.951Z"
   },
   {
    "duration": 30,
    "start_time": "2022-12-23T11:37:51.987Z"
   },
   {
    "duration": 71,
    "start_time": "2022-12-23T11:37:52.020Z"
   },
   {
    "duration": 74,
    "start_time": "2022-12-23T11:37:52.093Z"
   },
   {
    "duration": 38,
    "start_time": "2022-12-23T11:37:52.170Z"
   },
   {
    "duration": 87,
    "start_time": "2022-12-23T11:37:52.210Z"
   },
   {
    "duration": 79,
    "start_time": "2022-12-23T11:37:52.300Z"
   },
   {
    "duration": 30,
    "start_time": "2022-12-23T11:37:52.380Z"
   },
   {
    "duration": 33,
    "start_time": "2022-12-23T11:37:52.411Z"
   },
   {
    "duration": 34,
    "start_time": "2022-12-23T11:37:52.446Z"
   },
   {
    "duration": 22,
    "start_time": "2022-12-23T11:37:52.481Z"
   },
   {
    "duration": 28,
    "start_time": "2022-12-23T11:37:52.505Z"
   },
   {
    "duration": 61,
    "start_time": "2022-12-23T11:37:52.535Z"
   },
   {
    "duration": 24,
    "start_time": "2022-12-23T11:37:52.597Z"
   },
   {
    "duration": 39,
    "start_time": "2022-12-23T11:37:52.624Z"
   },
   {
    "duration": 47,
    "start_time": "2022-12-23T11:37:52.665Z"
   },
   {
    "duration": 39,
    "start_time": "2022-12-23T11:37:52.714Z"
   },
   {
    "duration": 33,
    "start_time": "2022-12-23T11:37:52.755Z"
   },
   {
    "duration": 16,
    "start_time": "2022-12-23T11:37:52.789Z"
   },
   {
    "duration": 68,
    "start_time": "2022-12-23T11:37:52.807Z"
   },
   {
    "duration": 5,
    "start_time": "2022-12-23T11:37:52.877Z"
   },
   {
    "duration": 31,
    "start_time": "2022-12-23T11:37:52.883Z"
   },
   {
    "duration": 66,
    "start_time": "2022-12-23T11:37:52.916Z"
   },
   {
    "duration": 47,
    "start_time": "2022-12-23T11:37:52.984Z"
   },
   {
    "duration": 35,
    "start_time": "2022-12-23T11:37:53.033Z"
   },
   {
    "duration": 14,
    "start_time": "2022-12-23T11:38:21.338Z"
   },
   {
    "duration": 14,
    "start_time": "2022-12-23T11:38:48.503Z"
   },
   {
    "duration": 72,
    "start_time": "2022-12-23T11:39:04.244Z"
   },
   {
    "duration": 90,
    "start_time": "2022-12-23T11:39:21.047Z"
   },
   {
    "duration": 13,
    "start_time": "2022-12-23T11:39:25.813Z"
   },
   {
    "duration": 13,
    "start_time": "2022-12-23T11:39:44.123Z"
   },
   {
    "duration": 5,
    "start_time": "2022-12-23T11:39:55.100Z"
   },
   {
    "duration": 1261,
    "start_time": "2022-12-23T11:40:44.059Z"
   },
   {
    "duration": 39,
    "start_time": "2022-12-23T11:40:45.323Z"
   },
   {
    "duration": 12,
    "start_time": "2022-12-23T11:40:45.366Z"
   },
   {
    "duration": 32,
    "start_time": "2022-12-23T11:40:45.382Z"
   },
   {
    "duration": 102,
    "start_time": "2022-12-23T11:40:45.417Z"
   },
   {
    "duration": 14,
    "start_time": "2022-12-23T11:40:45.521Z"
   },
   {
    "duration": 43,
    "start_time": "2022-12-23T11:40:45.537Z"
   },
   {
    "duration": 28,
    "start_time": "2022-12-23T11:40:45.581Z"
   },
   {
    "duration": 42,
    "start_time": "2022-12-23T11:40:45.611Z"
   },
   {
    "duration": 45,
    "start_time": "2022-12-23T11:40:45.657Z"
   },
   {
    "duration": 53,
    "start_time": "2022-12-23T11:40:45.704Z"
   },
   {
    "duration": 42,
    "start_time": "2022-12-23T11:40:45.759Z"
   },
   {
    "duration": 35,
    "start_time": "2022-12-23T11:40:45.804Z"
   },
   {
    "duration": 49,
    "start_time": "2022-12-23T11:40:45.842Z"
   },
   {
    "duration": 41,
    "start_time": "2022-12-23T11:40:45.893Z"
   },
   {
    "duration": 38,
    "start_time": "2022-12-23T11:40:45.936Z"
   },
   {
    "duration": 2707,
    "start_time": "2022-12-23T11:40:45.976Z"
   },
   {
    "duration": 7,
    "start_time": "2022-12-23T11:40:48.685Z"
   },
   {
    "duration": 170,
    "start_time": "2022-12-23T11:40:48.694Z"
   },
   {
    "duration": 19,
    "start_time": "2022-12-23T11:40:48.866Z"
   },
   {
    "duration": 34,
    "start_time": "2022-12-23T11:40:48.886Z"
   },
   {
    "duration": 340,
    "start_time": "2022-12-23T11:40:48.922Z"
   },
   {
    "duration": 225,
    "start_time": "2022-12-23T11:40:49.264Z"
   },
   {
    "duration": 13,
    "start_time": "2022-12-23T11:40:49.490Z"
   },
   {
    "duration": 336,
    "start_time": "2022-12-23T11:40:49.504Z"
   },
   {
    "duration": 21,
    "start_time": "2022-12-23T11:40:49.842Z"
   },
   {
    "duration": 21,
    "start_time": "2022-12-23T11:40:49.866Z"
   },
   {
    "duration": 218,
    "start_time": "2022-12-23T11:40:49.891Z"
   },
   {
    "duration": 15,
    "start_time": "2022-12-23T11:40:50.111Z"
   },
   {
    "duration": 448,
    "start_time": "2022-12-23T11:40:50.128Z"
   },
   {
    "duration": 10,
    "start_time": "2022-12-23T11:40:50.578Z"
   },
   {
    "duration": 177,
    "start_time": "2022-12-23T11:40:50.591Z"
   },
   {
    "duration": 7,
    "start_time": "2022-12-23T11:40:50.775Z"
   },
   {
    "duration": 150,
    "start_time": "2022-12-23T11:40:50.784Z"
   },
   {
    "duration": 16,
    "start_time": "2022-12-23T11:40:50.935Z"
   },
   {
    "duration": 137,
    "start_time": "2022-12-23T11:40:50.953Z"
   },
   {
    "duration": 5,
    "start_time": "2022-12-23T11:40:51.092Z"
   },
   {
    "duration": 25,
    "start_time": "2022-12-23T11:40:51.098Z"
   },
   {
    "duration": 12,
    "start_time": "2022-12-23T11:40:51.126Z"
   },
   {
    "duration": 62,
    "start_time": "2022-12-23T11:40:51.140Z"
   },
   {
    "duration": 63,
    "start_time": "2022-12-23T11:40:51.204Z"
   },
   {
    "duration": 39,
    "start_time": "2022-12-23T11:40:51.269Z"
   },
   {
    "duration": 63,
    "start_time": "2022-12-23T11:40:51.310Z"
   },
   {
    "duration": 65,
    "start_time": "2022-12-23T11:40:51.375Z"
   },
   {
    "duration": 40,
    "start_time": "2022-12-23T11:40:51.441Z"
   },
   {
    "duration": 13,
    "start_time": "2022-12-23T11:40:51.483Z"
   },
   {
    "duration": 11,
    "start_time": "2022-12-23T11:40:51.497Z"
   },
   {
    "duration": 9,
    "start_time": "2022-12-23T11:40:51.510Z"
   },
   {
    "duration": 9,
    "start_time": "2022-12-23T11:40:51.550Z"
   },
   {
    "duration": 47,
    "start_time": "2022-12-23T11:40:51.561Z"
   },
   {
    "duration": 10,
    "start_time": "2022-12-23T11:40:51.610Z"
   },
   {
    "duration": 17,
    "start_time": "2022-12-23T11:40:51.622Z"
   },
   {
    "duration": 29,
    "start_time": "2022-12-23T11:40:51.641Z"
   },
   {
    "duration": 22,
    "start_time": "2022-12-23T11:40:51.672Z"
   },
   {
    "duration": 6,
    "start_time": "2022-12-23T11:40:51.696Z"
   },
   {
    "duration": 8,
    "start_time": "2022-12-23T11:40:51.705Z"
   },
   {
    "duration": 62,
    "start_time": "2022-12-23T11:40:51.715Z"
   },
   {
    "duration": 5,
    "start_time": "2022-12-23T11:40:51.779Z"
   },
   {
    "duration": 14,
    "start_time": "2022-12-23T11:40:51.785Z"
   },
   {
    "duration": 8,
    "start_time": "2022-12-23T11:40:51.800Z"
   },
   {
    "duration": 54,
    "start_time": "2022-12-23T11:40:51.810Z"
   },
   {
    "duration": 19,
    "start_time": "2022-12-23T11:40:51.868Z"
   },
   {
    "duration": 7,
    "start_time": "2022-12-23T11:42:23.982Z"
   },
   {
    "duration": 5,
    "start_time": "2022-12-23T11:42:37.321Z"
   },
   {
    "duration": 14,
    "start_time": "2022-12-23T11:45:29.040Z"
   },
   {
    "duration": 9,
    "start_time": "2022-12-23T11:46:54.909Z"
   },
   {
    "duration": 45,
    "start_time": "2022-12-23T11:46:55.639Z"
   },
   {
    "duration": 138,
    "start_time": "2022-12-23T11:47:37.476Z"
   },
   {
    "duration": 1557,
    "start_time": "2022-12-23T11:47:51.732Z"
   },
   {
    "duration": 11,
    "start_time": "2022-12-23T11:48:26.385Z"
   },
   {
    "duration": 43,
    "start_time": "2022-12-23T11:48:30.667Z"
   },
   {
    "duration": 22,
    "start_time": "2022-12-23T11:52:14.090Z"
   },
   {
    "duration": 22,
    "start_time": "2022-12-23T11:54:54.455Z"
   },
   {
    "duration": 14,
    "start_time": "2022-12-23T11:56:14.985Z"
   },
   {
    "duration": 12,
    "start_time": "2022-12-23T11:58:10.518Z"
   },
   {
    "duration": 8,
    "start_time": "2022-12-23T11:58:46.175Z"
   },
   {
    "duration": 13,
    "start_time": "2022-12-23T11:58:59.066Z"
   },
   {
    "duration": 7,
    "start_time": "2022-12-23T11:59:12.538Z"
   },
   {
    "duration": 8,
    "start_time": "2022-12-23T11:59:13.576Z"
   },
   {
    "duration": 26,
    "start_time": "2022-12-23T11:59:14.585Z"
   },
   {
    "duration": 5,
    "start_time": "2022-12-23T11:59:17.822Z"
   },
   {
    "duration": 14,
    "start_time": "2022-12-23T11:59:19.981Z"
   },
   {
    "duration": 8,
    "start_time": "2022-12-23T12:00:08.041Z"
   },
   {
    "duration": 16,
    "start_time": "2022-12-23T12:00:09.387Z"
   },
   {
    "duration": 10,
    "start_time": "2022-12-23T12:00:13.366Z"
   },
   {
    "duration": 5,
    "start_time": "2022-12-23T12:00:22.790Z"
   },
   {
    "duration": 7,
    "start_time": "2022-12-23T12:00:23.699Z"
   },
   {
    "duration": 26,
    "start_time": "2022-12-23T12:00:24.769Z"
   },
   {
    "duration": 6,
    "start_time": "2022-12-23T12:00:39.534Z"
   },
   {
    "duration": 13,
    "start_time": "2022-12-23T12:00:40.926Z"
   },
   {
    "duration": 25,
    "start_time": "2022-12-23T12:24:38.793Z"
   },
   {
    "duration": 46,
    "start_time": "2022-12-23T12:25:26.435Z"
   },
   {
    "duration": 84,
    "start_time": "2022-12-23T12:47:19.315Z"
   },
   {
    "duration": 10,
    "start_time": "2022-12-23T12:48:16.968Z"
   },
   {
    "duration": 62,
    "start_time": "2022-12-23T12:55:28.948Z"
   },
   {
    "duration": 63,
    "start_time": "2022-12-23T12:57:25.233Z"
   },
   {
    "duration": 16,
    "start_time": "2022-12-23T12:58:05.717Z"
   },
   {
    "duration": 16,
    "start_time": "2022-12-23T12:58:31.521Z"
   },
   {
    "duration": 15,
    "start_time": "2022-12-23T12:59:40.963Z"
   },
   {
    "duration": 14,
    "start_time": "2022-12-23T13:00:08.115Z"
   },
   {
    "duration": 2812,
    "start_time": "2022-12-23T13:06:47.472Z"
   },
   {
    "duration": 9,
    "start_time": "2022-12-23T13:06:51.288Z"
   },
   {
    "duration": 150,
    "start_time": "2022-12-23T13:07:42.725Z"
   },
   {
    "duration": 22,
    "start_time": "2022-12-23T13:08:33.485Z"
   },
   {
    "duration": 1355,
    "start_time": "2022-12-23T13:08:50.275Z"
   },
   {
    "duration": 42,
    "start_time": "2022-12-23T13:08:51.632Z"
   },
   {
    "duration": 13,
    "start_time": "2022-12-23T13:08:51.678Z"
   },
   {
    "duration": 26,
    "start_time": "2022-12-23T13:08:51.693Z"
   },
   {
    "duration": 77,
    "start_time": "2022-12-23T13:08:51.722Z"
   },
   {
    "duration": 15,
    "start_time": "2022-12-23T13:08:51.801Z"
   },
   {
    "duration": 42,
    "start_time": "2022-12-23T13:08:51.819Z"
   },
   {
    "duration": 41,
    "start_time": "2022-12-23T13:08:51.863Z"
   },
   {
    "duration": 38,
    "start_time": "2022-12-23T13:08:51.907Z"
   },
   {
    "duration": 43,
    "start_time": "2022-12-23T13:08:51.948Z"
   },
   {
    "duration": 43,
    "start_time": "2022-12-23T13:08:51.992Z"
   },
   {
    "duration": 16,
    "start_time": "2022-12-23T13:08:52.038Z"
   },
   {
    "duration": 31,
    "start_time": "2022-12-23T13:08:52.056Z"
   },
   {
    "duration": 12,
    "start_time": "2022-12-23T13:08:52.091Z"
   },
   {
    "duration": 18,
    "start_time": "2022-12-23T13:08:52.105Z"
   },
   {
    "duration": 50,
    "start_time": "2022-12-23T13:08:52.125Z"
   },
   {
    "duration": 2906,
    "start_time": "2022-12-23T13:08:52.178Z"
   },
   {
    "duration": 9,
    "start_time": "2022-12-23T13:08:55.086Z"
   },
   {
    "duration": 178,
    "start_time": "2022-12-23T13:08:55.096Z"
   },
   {
    "duration": 24,
    "start_time": "2022-12-23T13:08:55.277Z"
   },
   {
    "duration": 7,
    "start_time": "2022-12-23T13:08:55.303Z"
   },
   {
    "duration": 320,
    "start_time": "2022-12-23T13:08:55.311Z"
   },
   {
    "duration": 232,
    "start_time": "2022-12-23T13:08:55.633Z"
   },
   {
    "duration": 20,
    "start_time": "2022-12-23T13:08:55.868Z"
   },
   {
    "duration": 326,
    "start_time": "2022-12-23T13:08:55.890Z"
   },
   {
    "duration": 18,
    "start_time": "2022-12-23T13:08:56.218Z"
   },
   {
    "duration": 13,
    "start_time": "2022-12-23T13:08:56.250Z"
   },
   {
    "duration": 210,
    "start_time": "2022-12-23T13:08:56.265Z"
   },
   {
    "duration": 16,
    "start_time": "2022-12-23T13:08:56.477Z"
   },
   {
    "duration": 392,
    "start_time": "2022-12-23T13:08:56.495Z"
   },
   {
    "duration": 12,
    "start_time": "2022-12-23T13:08:56.888Z"
   },
   {
    "duration": 192,
    "start_time": "2022-12-23T13:08:56.902Z"
   },
   {
    "duration": 7,
    "start_time": "2022-12-23T13:08:57.096Z"
   },
   {
    "duration": 217,
    "start_time": "2022-12-23T13:08:57.105Z"
   },
   {
    "duration": 14,
    "start_time": "2022-12-23T13:08:57.324Z"
   },
   {
    "duration": 171,
    "start_time": "2022-12-23T13:08:57.354Z"
   },
   {
    "duration": 7,
    "start_time": "2022-12-23T13:08:57.527Z"
   },
   {
    "duration": 34,
    "start_time": "2022-12-23T13:08:57.535Z"
   },
   {
    "duration": 56,
    "start_time": "2022-12-23T13:08:57.571Z"
   },
   {
    "duration": 95,
    "start_time": "2022-12-23T13:08:57.630Z"
   },
   {
    "duration": 99,
    "start_time": "2022-12-23T13:08:57.731Z"
   },
   {
    "duration": 39,
    "start_time": "2022-12-23T13:08:57.832Z"
   },
   {
    "duration": 103,
    "start_time": "2022-12-23T13:08:57.874Z"
   },
   {
    "duration": 72,
    "start_time": "2022-12-23T13:08:57.979Z"
   },
   {
    "duration": 39,
    "start_time": "2022-12-23T13:08:58.053Z"
   },
   {
    "duration": 15,
    "start_time": "2022-12-23T13:08:58.093Z"
   },
   {
    "duration": 57,
    "start_time": "2022-12-23T13:08:58.110Z"
   },
   {
    "duration": 9,
    "start_time": "2022-12-23T13:08:58.170Z"
   },
   {
    "duration": 18,
    "start_time": "2022-12-23T13:08:58.181Z"
   },
   {
    "duration": 46,
    "start_time": "2022-12-23T13:08:58.201Z"
   },
   {
    "duration": 14,
    "start_time": "2022-12-23T13:08:58.248Z"
   },
   {
    "duration": 27,
    "start_time": "2022-12-23T13:08:58.265Z"
   },
   {
    "duration": 12,
    "start_time": "2022-12-23T13:08:58.294Z"
   },
   {
    "duration": 14,
    "start_time": "2022-12-23T13:08:58.307Z"
   },
   {
    "duration": 34,
    "start_time": "2022-12-23T13:08:58.323Z"
   },
   {
    "duration": 9,
    "start_time": "2022-12-23T13:08:58.361Z"
   },
   {
    "duration": 51,
    "start_time": "2022-12-23T13:08:58.375Z"
   },
   {
    "duration": 78,
    "start_time": "2022-12-23T13:08:58.428Z"
   },
   {
    "duration": 0,
    "start_time": "2022-12-23T13:08:58.509Z"
   },
   {
    "duration": 0,
    "start_time": "2022-12-23T13:08:58.511Z"
   },
   {
    "duration": 8,
    "start_time": "2022-12-23T13:11:15.237Z"
   },
   {
    "duration": 340,
    "start_time": "2022-12-23T13:12:58.313Z"
   },
   {
    "duration": 388,
    "start_time": "2022-12-23T13:13:44.770Z"
   },
   {
    "duration": 224,
    "start_time": "2022-12-23T13:13:55.294Z"
   },
   {
    "duration": 250,
    "start_time": "2022-12-23T13:14:01.934Z"
   },
   {
    "duration": 266,
    "start_time": "2022-12-23T13:14:17.002Z"
   },
   {
    "duration": 402,
    "start_time": "2022-12-23T13:14:31.540Z"
   },
   {
    "duration": 287,
    "start_time": "2022-12-23T13:15:33.085Z"
   },
   {
    "duration": 340,
    "start_time": "2022-12-23T13:16:29.227Z"
   },
   {
    "duration": 274,
    "start_time": "2022-12-23T13:16:47.340Z"
   },
   {
    "duration": 81,
    "start_time": "2022-12-23T13:17:47.351Z"
   },
   {
    "duration": 349,
    "start_time": "2022-12-23T13:17:56.711Z"
   },
   {
    "duration": 352,
    "start_time": "2022-12-23T13:21:36.744Z"
   },
   {
    "duration": 15,
    "start_time": "2022-12-23T13:23:00.634Z"
   },
   {
    "duration": 388,
    "start_time": "2022-12-23T13:23:29.999Z"
   },
   {
    "duration": 387,
    "start_time": "2022-12-23T13:23:45.225Z"
   },
   {
    "duration": 11,
    "start_time": "2022-12-23T13:24:48.812Z"
   },
   {
    "duration": 297,
    "start_time": "2022-12-23T13:26:03.939Z"
   },
   {
    "duration": 260,
    "start_time": "2022-12-23T13:26:28.635Z"
   },
   {
    "duration": 366,
    "start_time": "2022-12-23T13:27:55.178Z"
   },
   {
    "duration": 248,
    "start_time": "2022-12-23T13:30:19.247Z"
   },
   {
    "duration": 193,
    "start_time": "2022-12-23T13:31:04.248Z"
   },
   {
    "duration": 203,
    "start_time": "2022-12-23T13:31:45.089Z"
   },
   {
    "duration": 9,
    "start_time": "2022-12-23T13:37:58.438Z"
   },
   {
    "duration": 10,
    "start_time": "2022-12-23T13:38:42.068Z"
   },
   {
    "duration": 9,
    "start_time": "2022-12-23T13:38:45.038Z"
   },
   {
    "duration": 38,
    "start_time": "2022-12-23T13:38:46.059Z"
   },
   {
    "duration": 5,
    "start_time": "2022-12-23T13:39:30.290Z"
   },
   {
    "duration": 14,
    "start_time": "2022-12-23T13:39:31.062Z"
   },
   {
    "duration": 294,
    "start_time": "2022-12-23T13:42:12.521Z"
   },
   {
    "duration": 351,
    "start_time": "2022-12-23T13:43:51.365Z"
   },
   {
    "duration": 1324,
    "start_time": "2022-12-23T14:01:21.011Z"
   },
   {
    "duration": 43,
    "start_time": "2022-12-23T14:01:22.337Z"
   },
   {
    "duration": 14,
    "start_time": "2022-12-23T14:01:22.382Z"
   },
   {
    "duration": 9,
    "start_time": "2022-12-23T14:01:22.399Z"
   },
   {
    "duration": 56,
    "start_time": "2022-12-23T14:01:22.411Z"
   },
   {
    "duration": 22,
    "start_time": "2022-12-23T14:01:22.469Z"
   },
   {
    "duration": 22,
    "start_time": "2022-12-23T14:01:22.493Z"
   },
   {
    "duration": 38,
    "start_time": "2022-12-23T14:01:22.517Z"
   },
   {
    "duration": 25,
    "start_time": "2022-12-23T14:01:22.557Z"
   },
   {
    "duration": 21,
    "start_time": "2022-12-23T14:01:22.584Z"
   },
   {
    "duration": 16,
    "start_time": "2022-12-23T14:01:22.608Z"
   },
   {
    "duration": 26,
    "start_time": "2022-12-23T14:01:22.626Z"
   },
   {
    "duration": 21,
    "start_time": "2022-12-23T14:01:22.654Z"
   },
   {
    "duration": 15,
    "start_time": "2022-12-23T14:01:22.682Z"
   },
   {
    "duration": 17,
    "start_time": "2022-12-23T14:01:22.699Z"
   },
   {
    "duration": 39,
    "start_time": "2022-12-23T14:01:22.718Z"
   },
   {
    "duration": 3039,
    "start_time": "2022-12-23T14:01:22.759Z"
   },
   {
    "duration": 10,
    "start_time": "2022-12-23T14:01:25.801Z"
   },
   {
    "duration": 179,
    "start_time": "2022-12-23T14:01:25.813Z"
   },
   {
    "duration": 21,
    "start_time": "2022-12-23T14:01:25.994Z"
   },
   {
    "duration": 10,
    "start_time": "2022-12-23T14:01:26.017Z"
   },
   {
    "duration": 471,
    "start_time": "2022-12-23T14:01:26.056Z"
   },
   {
    "duration": 308,
    "start_time": "2022-12-23T14:01:26.530Z"
   },
   {
    "duration": 27,
    "start_time": "2022-12-23T14:01:26.840Z"
   },
   {
    "duration": 392,
    "start_time": "2022-12-23T14:01:26.872Z"
   },
   {
    "duration": 16,
    "start_time": "2022-12-23T14:01:27.266Z"
   },
   {
    "duration": 21,
    "start_time": "2022-12-23T14:01:27.285Z"
   },
   {
    "duration": 333,
    "start_time": "2022-12-23T14:01:27.308Z"
   },
   {
    "duration": 22,
    "start_time": "2022-12-23T14:01:27.643Z"
   },
   {
    "duration": 508,
    "start_time": "2022-12-23T14:01:27.668Z"
   },
   {
    "duration": 13,
    "start_time": "2022-12-23T14:01:28.184Z"
   },
   {
    "duration": 234,
    "start_time": "2022-12-23T14:01:28.200Z"
   },
   {
    "duration": 6,
    "start_time": "2022-12-23T14:01:28.436Z"
   },
   {
    "duration": 211,
    "start_time": "2022-12-23T14:01:28.444Z"
   },
   {
    "duration": 15,
    "start_time": "2022-12-23T14:01:28.657Z"
   },
   {
    "duration": 242,
    "start_time": "2022-12-23T14:01:28.674Z"
   },
   {
    "duration": 6,
    "start_time": "2022-12-23T14:01:28.918Z"
   },
   {
    "duration": 26,
    "start_time": "2022-12-23T14:01:28.926Z"
   },
   {
    "duration": 23,
    "start_time": "2022-12-23T14:01:28.954Z"
   },
   {
    "duration": 71,
    "start_time": "2022-12-23T14:01:28.982Z"
   },
   {
    "duration": 63,
    "start_time": "2022-12-23T14:01:29.059Z"
   },
   {
    "duration": 38,
    "start_time": "2022-12-23T14:01:29.125Z"
   },
   {
    "duration": 95,
    "start_time": "2022-12-23T14:01:29.165Z"
   },
   {
    "duration": 90,
    "start_time": "2022-12-23T14:01:29.262Z"
   },
   {
    "duration": 44,
    "start_time": "2022-12-23T14:01:29.354Z"
   },
   {
    "duration": 14,
    "start_time": "2022-12-23T14:01:29.401Z"
   },
   {
    "duration": 42,
    "start_time": "2022-12-23T14:01:29.417Z"
   },
   {
    "duration": 21,
    "start_time": "2022-12-23T14:01:29.474Z"
   },
   {
    "duration": 34,
    "start_time": "2022-12-23T14:01:29.498Z"
   },
   {
    "duration": 45,
    "start_time": "2022-12-23T14:01:29.535Z"
   },
   {
    "duration": 19,
    "start_time": "2022-12-23T14:01:29.582Z"
   },
   {
    "duration": 30,
    "start_time": "2022-12-23T14:01:29.604Z"
   },
   {
    "duration": 19,
    "start_time": "2022-12-23T14:01:29.636Z"
   },
   {
    "duration": 33,
    "start_time": "2022-12-23T14:01:29.657Z"
   },
   {
    "duration": 12,
    "start_time": "2022-12-23T14:01:29.693Z"
   },
   {
    "duration": 29,
    "start_time": "2022-12-23T14:01:29.707Z"
   },
   {
    "duration": 42,
    "start_time": "2022-12-23T14:01:29.738Z"
   },
   {
    "duration": 29,
    "start_time": "2022-12-23T14:01:29.782Z"
   },
   {
    "duration": 36,
    "start_time": "2022-12-23T14:01:29.813Z"
   },
   {
    "duration": 1251,
    "start_time": "2022-12-24T07:49:03.123Z"
   },
   {
    "duration": 77,
    "start_time": "2022-12-24T07:49:04.376Z"
   },
   {
    "duration": 8,
    "start_time": "2022-12-24T07:49:04.455Z"
   },
   {
    "duration": 7,
    "start_time": "2022-12-24T07:49:04.465Z"
   },
   {
    "duration": 146,
    "start_time": "2022-12-24T07:49:04.473Z"
   },
   {
    "duration": 13,
    "start_time": "2022-12-24T07:49:04.620Z"
   },
   {
    "duration": 14,
    "start_time": "2022-12-24T07:49:04.634Z"
   },
   {
    "duration": 12,
    "start_time": "2022-12-24T07:49:04.650Z"
   },
   {
    "duration": 24,
    "start_time": "2022-12-24T07:49:04.663Z"
   },
   {
    "duration": 26,
    "start_time": "2022-12-24T07:49:04.690Z"
   },
   {
    "duration": 17,
    "start_time": "2022-12-24T07:49:04.718Z"
   },
   {
    "duration": 22,
    "start_time": "2022-12-24T07:49:04.737Z"
   },
   {
    "duration": 17,
    "start_time": "2022-12-24T07:49:04.760Z"
   },
   {
    "duration": 14,
    "start_time": "2022-12-24T07:49:04.779Z"
   },
   {
    "duration": 18,
    "start_time": "2022-12-24T07:49:04.795Z"
   },
   {
    "duration": 9,
    "start_time": "2022-12-24T07:49:04.814Z"
   },
   {
    "duration": 2210,
    "start_time": "2022-12-24T07:49:04.825Z"
   },
   {
    "duration": 6,
    "start_time": "2022-12-24T07:49:07.037Z"
   },
   {
    "duration": 119,
    "start_time": "2022-12-24T07:49:07.044Z"
   },
   {
    "duration": 14,
    "start_time": "2022-12-24T07:49:07.164Z"
   },
   {
    "duration": 7,
    "start_time": "2022-12-24T07:49:07.180Z"
   },
   {
    "duration": 280,
    "start_time": "2022-12-24T07:49:07.188Z"
   },
   {
    "duration": 200,
    "start_time": "2022-12-24T07:49:07.470Z"
   },
   {
    "duration": 10,
    "start_time": "2022-12-24T07:49:07.672Z"
   },
   {
    "duration": 374,
    "start_time": "2022-12-24T07:49:07.684Z"
   },
   {
    "duration": 10,
    "start_time": "2022-12-24T07:49:08.060Z"
   },
   {
    "duration": 11,
    "start_time": "2022-12-24T07:49:08.071Z"
   },
   {
    "duration": 212,
    "start_time": "2022-12-24T07:49:08.086Z"
   },
   {
    "duration": 23,
    "start_time": "2022-12-24T07:49:08.299Z"
   },
   {
    "duration": 400,
    "start_time": "2022-12-24T07:49:08.323Z"
   },
   {
    "duration": 11,
    "start_time": "2022-12-24T07:49:08.725Z"
   },
   {
    "duration": 163,
    "start_time": "2022-12-24T07:49:08.737Z"
   },
   {
    "duration": 11,
    "start_time": "2022-12-24T07:49:08.902Z"
   },
   {
    "duration": 149,
    "start_time": "2022-12-24T07:49:08.915Z"
   },
   {
    "duration": 7,
    "start_time": "2022-12-24T07:49:09.066Z"
   },
   {
    "duration": 146,
    "start_time": "2022-12-24T07:49:09.075Z"
   },
   {
    "duration": 4,
    "start_time": "2022-12-24T07:49:09.223Z"
   },
   {
    "duration": 8,
    "start_time": "2022-12-24T07:49:09.229Z"
   },
   {
    "duration": 11,
    "start_time": "2022-12-24T07:49:09.239Z"
   },
   {
    "duration": 66,
    "start_time": "2022-12-24T07:49:09.252Z"
   },
   {
    "duration": 45,
    "start_time": "2022-12-24T07:49:09.320Z"
   },
   {
    "duration": 8,
    "start_time": "2022-12-24T07:49:09.367Z"
   },
   {
    "duration": 69,
    "start_time": "2022-12-24T07:49:09.377Z"
   },
   {
    "duration": 66,
    "start_time": "2022-12-24T07:49:09.448Z"
   },
   {
    "duration": 27,
    "start_time": "2022-12-24T07:49:09.515Z"
   },
   {
    "duration": 10,
    "start_time": "2022-12-24T07:49:09.543Z"
   },
   {
    "duration": 9,
    "start_time": "2022-12-24T07:49:09.554Z"
   },
   {
    "duration": 5,
    "start_time": "2022-12-24T07:49:09.565Z"
   },
   {
    "duration": 5,
    "start_time": "2022-12-24T07:49:09.572Z"
   },
   {
    "duration": 50,
    "start_time": "2022-12-24T07:49:09.579Z"
   },
   {
    "duration": 9,
    "start_time": "2022-12-24T07:49:09.631Z"
   },
   {
    "duration": 8,
    "start_time": "2022-12-24T07:49:09.641Z"
   },
   {
    "duration": 16,
    "start_time": "2022-12-24T07:49:09.650Z"
   },
   {
    "duration": 9,
    "start_time": "2022-12-24T07:49:09.668Z"
   },
   {
    "duration": 13,
    "start_time": "2022-12-24T07:49:09.678Z"
   },
   {
    "duration": 10,
    "start_time": "2022-12-24T07:49:09.692Z"
   },
   {
    "duration": 28,
    "start_time": "2022-12-24T07:49:09.703Z"
   },
   {
    "duration": 4,
    "start_time": "2022-12-24T07:49:09.733Z"
   },
   {
    "duration": 11,
    "start_time": "2022-12-24T07:49:09.738Z"
   },
   {
    "duration": 2,
    "start_time": "2022-12-24T07:53:28.194Z"
   },
   {
    "duration": 8,
    "start_time": "2022-12-24T07:53:29.756Z"
   },
   {
    "duration": 1043,
    "start_time": "2022-12-24T07:53:41.856Z"
   },
   {
    "duration": 35,
    "start_time": "2022-12-24T07:53:42.901Z"
   },
   {
    "duration": 9,
    "start_time": "2022-12-24T07:53:42.938Z"
   },
   {
    "duration": 9,
    "start_time": "2022-12-24T07:53:42.948Z"
   },
   {
    "duration": 51,
    "start_time": "2022-12-24T07:53:42.960Z"
   },
   {
    "duration": 14,
    "start_time": "2022-12-24T07:53:43.013Z"
   },
   {
    "duration": 18,
    "start_time": "2022-12-24T07:53:43.029Z"
   },
   {
    "duration": 11,
    "start_time": "2022-12-24T07:53:43.049Z"
   },
   {
    "duration": 18,
    "start_time": "2022-12-24T07:53:43.062Z"
   },
   {
    "duration": 26,
    "start_time": "2022-12-24T07:53:43.082Z"
   },
   {
    "duration": 19,
    "start_time": "2022-12-24T07:53:43.110Z"
   },
   {
    "duration": 16,
    "start_time": "2022-12-24T07:53:43.131Z"
   },
   {
    "duration": 10,
    "start_time": "2022-12-24T07:53:43.149Z"
   },
   {
    "duration": 19,
    "start_time": "2022-12-24T07:53:43.161Z"
   },
   {
    "duration": 20,
    "start_time": "2022-12-24T07:53:43.182Z"
   },
   {
    "duration": 11,
    "start_time": "2022-12-24T07:53:43.203Z"
   },
   {
    "duration": 2313,
    "start_time": "2022-12-24T07:53:43.216Z"
   },
   {
    "duration": 6,
    "start_time": "2022-12-24T07:53:45.531Z"
   },
   {
    "duration": 119,
    "start_time": "2022-12-24T07:53:45.539Z"
   },
   {
    "duration": 14,
    "start_time": "2022-12-24T07:53:45.659Z"
   },
   {
    "duration": 5,
    "start_time": "2022-12-24T07:53:45.674Z"
   },
   {
    "duration": 280,
    "start_time": "2022-12-24T07:53:45.681Z"
   },
   {
    "duration": 207,
    "start_time": "2022-12-24T07:53:45.963Z"
   },
   {
    "duration": 11,
    "start_time": "2022-12-24T07:53:46.171Z"
   },
   {
    "duration": 314,
    "start_time": "2022-12-24T07:53:46.183Z"
   },
   {
    "duration": 15,
    "start_time": "2022-12-24T07:53:46.498Z"
   },
   {
    "duration": 8,
    "start_time": "2022-12-24T07:53:46.515Z"
   },
   {
    "duration": 197,
    "start_time": "2022-12-24T07:53:46.525Z"
   },
   {
    "duration": 12,
    "start_time": "2022-12-24T07:53:46.724Z"
   },
   {
    "duration": 393,
    "start_time": "2022-12-24T07:53:46.738Z"
   },
   {
    "duration": 10,
    "start_time": "2022-12-24T07:53:47.133Z"
   },
   {
    "duration": 157,
    "start_time": "2022-12-24T07:53:47.144Z"
   },
   {
    "duration": 12,
    "start_time": "2022-12-24T07:53:47.302Z"
   },
   {
    "duration": 151,
    "start_time": "2022-12-24T07:53:47.315Z"
   },
   {
    "duration": 8,
    "start_time": "2022-12-24T07:53:47.467Z"
   },
   {
    "duration": 143,
    "start_time": "2022-12-24T07:53:47.477Z"
   },
   {
    "duration": 5,
    "start_time": "2022-12-24T07:53:47.622Z"
   },
   {
    "duration": 8,
    "start_time": "2022-12-24T07:53:47.629Z"
   },
   {
    "duration": 9,
    "start_time": "2022-12-24T07:53:47.639Z"
   },
   {
    "duration": 68,
    "start_time": "2022-12-24T07:53:47.650Z"
   },
   {
    "duration": 50,
    "start_time": "2022-12-24T07:53:47.721Z"
   },
   {
    "duration": 14,
    "start_time": "2022-12-24T07:53:47.773Z"
   },
   {
    "duration": 67,
    "start_time": "2022-12-24T07:53:47.789Z"
   },
   {
    "duration": 64,
    "start_time": "2022-12-24T07:53:47.857Z"
   },
   {
    "duration": 30,
    "start_time": "2022-12-24T07:53:47.923Z"
   },
   {
    "duration": 10,
    "start_time": "2022-12-24T07:53:47.955Z"
   },
   {
    "duration": 21,
    "start_time": "2022-12-24T07:53:47.967Z"
   },
   {
    "duration": 27,
    "start_time": "2022-12-24T07:53:47.989Z"
   },
   {
    "duration": 6,
    "start_time": "2022-12-24T07:53:48.017Z"
   },
   {
    "duration": 23,
    "start_time": "2022-12-24T07:53:48.024Z"
   },
   {
    "duration": 9,
    "start_time": "2022-12-24T07:53:48.049Z"
   },
   {
    "duration": 13,
    "start_time": "2022-12-24T07:53:48.060Z"
   },
   {
    "duration": 11,
    "start_time": "2022-12-24T07:53:48.075Z"
   },
   {
    "duration": 27,
    "start_time": "2022-12-24T07:53:48.087Z"
   },
   {
    "duration": 4,
    "start_time": "2022-12-24T07:53:48.116Z"
   },
   {
    "duration": 15,
    "start_time": "2022-12-24T07:53:48.122Z"
   },
   {
    "duration": 23,
    "start_time": "2022-12-24T07:53:48.139Z"
   },
   {
    "duration": 4,
    "start_time": "2022-12-24T07:53:48.163Z"
   },
   {
    "duration": 11,
    "start_time": "2022-12-24T07:53:48.168Z"
   },
   {
    "duration": 97,
    "start_time": "2022-12-24T07:55:58.455Z"
   },
   {
    "duration": 73,
    "start_time": "2022-12-24T07:58:41.958Z"
   },
   {
    "duration": 79,
    "start_time": "2022-12-24T08:01:20.654Z"
   },
   {
    "duration": 72,
    "start_time": "2022-12-24T08:02:51.505Z"
   },
   {
    "duration": 81,
    "start_time": "2022-12-24T08:06:34.688Z"
   },
   {
    "duration": 77,
    "start_time": "2022-12-24T08:11:14.004Z"
   },
   {
    "duration": 1298,
    "start_time": "2022-12-24T10:25:30.997Z"
   },
   {
    "duration": 76,
    "start_time": "2022-12-24T10:25:32.297Z"
   },
   {
    "duration": 9,
    "start_time": "2022-12-24T10:25:32.375Z"
   },
   {
    "duration": 7,
    "start_time": "2022-12-24T10:25:32.387Z"
   },
   {
    "duration": 144,
    "start_time": "2022-12-24T10:25:32.396Z"
   },
   {
    "duration": 13,
    "start_time": "2022-12-24T10:25:32.541Z"
   },
   {
    "duration": 15,
    "start_time": "2022-12-24T10:25:32.555Z"
   },
   {
    "duration": 11,
    "start_time": "2022-12-24T10:25:32.572Z"
   },
   {
    "duration": 12,
    "start_time": "2022-12-24T10:25:32.585Z"
   },
   {
    "duration": 11,
    "start_time": "2022-12-24T10:25:32.600Z"
   },
   {
    "duration": 18,
    "start_time": "2022-12-24T10:25:32.612Z"
   },
   {
    "duration": 9,
    "start_time": "2022-12-24T10:25:32.631Z"
   },
   {
    "duration": 9,
    "start_time": "2022-12-24T10:25:32.642Z"
   },
   {
    "duration": 11,
    "start_time": "2022-12-24T10:25:32.652Z"
   },
   {
    "duration": 13,
    "start_time": "2022-12-24T10:25:32.664Z"
   },
   {
    "duration": 48,
    "start_time": "2022-12-24T10:25:32.678Z"
   },
   {
    "duration": 2281,
    "start_time": "2022-12-24T10:25:32.728Z"
   },
   {
    "duration": 7,
    "start_time": "2022-12-24T10:25:35.010Z"
   },
   {
    "duration": 144,
    "start_time": "2022-12-24T10:25:35.019Z"
   },
   {
    "duration": 15,
    "start_time": "2022-12-24T10:25:35.164Z"
   },
   {
    "duration": 6,
    "start_time": "2022-12-24T10:25:35.181Z"
   },
   {
    "duration": 308,
    "start_time": "2022-12-24T10:25:35.189Z"
   },
   {
    "duration": 222,
    "start_time": "2022-12-24T10:25:35.499Z"
   },
   {
    "duration": 13,
    "start_time": "2022-12-24T10:25:35.722Z"
   },
   {
    "duration": 362,
    "start_time": "2022-12-24T10:25:35.737Z"
   },
   {
    "duration": 11,
    "start_time": "2022-12-24T10:25:36.100Z"
   },
   {
    "duration": 17,
    "start_time": "2022-12-24T10:25:36.112Z"
   },
   {
    "duration": 202,
    "start_time": "2022-12-24T10:25:36.132Z"
   },
   {
    "duration": 14,
    "start_time": "2022-12-24T10:25:36.336Z"
   },
   {
    "duration": 402,
    "start_time": "2022-12-24T10:25:36.352Z"
   },
   {
    "duration": 9,
    "start_time": "2022-12-24T10:25:36.756Z"
   },
   {
    "duration": 164,
    "start_time": "2022-12-24T10:25:36.766Z"
   },
   {
    "duration": 5,
    "start_time": "2022-12-24T10:25:36.932Z"
   },
   {
    "duration": 164,
    "start_time": "2022-12-24T10:25:36.938Z"
   },
   {
    "duration": 8,
    "start_time": "2022-12-24T10:25:37.104Z"
   },
   {
    "duration": 143,
    "start_time": "2022-12-24T10:25:37.125Z"
   },
   {
    "duration": 5,
    "start_time": "2022-12-24T10:25:37.269Z"
   },
   {
    "duration": 8,
    "start_time": "2022-12-24T10:25:37.276Z"
   },
   {
    "duration": 11,
    "start_time": "2022-12-24T10:25:37.285Z"
   },
   {
    "duration": 62,
    "start_time": "2022-12-24T10:25:37.297Z"
   },
   {
    "duration": 46,
    "start_time": "2022-12-24T10:25:37.360Z"
   },
   {
    "duration": 22,
    "start_time": "2022-12-24T10:25:37.408Z"
   },
   {
    "duration": 51,
    "start_time": "2022-12-24T10:25:37.431Z"
   },
   {
    "duration": 64,
    "start_time": "2022-12-24T10:25:37.484Z"
   },
   {
    "duration": 26,
    "start_time": "2022-12-24T10:25:37.549Z"
   },
   {
    "duration": 9,
    "start_time": "2022-12-24T10:25:37.576Z"
   },
   {
    "duration": 12,
    "start_time": "2022-12-24T10:25:37.586Z"
   },
   {
    "duration": 28,
    "start_time": "2022-12-24T10:25:37.599Z"
   },
   {
    "duration": 5,
    "start_time": "2022-12-24T10:25:37.628Z"
   },
   {
    "duration": 20,
    "start_time": "2022-12-24T10:25:37.635Z"
   },
   {
    "duration": 10,
    "start_time": "2022-12-24T10:25:37.656Z"
   },
   {
    "duration": 7,
    "start_time": "2022-12-24T10:25:37.667Z"
   },
   {
    "duration": 7,
    "start_time": "2022-12-24T10:25:37.676Z"
   },
   {
    "duration": 41,
    "start_time": "2022-12-24T10:25:37.685Z"
   },
   {
    "duration": 5,
    "start_time": "2022-12-24T10:25:37.728Z"
   },
   {
    "duration": 6,
    "start_time": "2022-12-24T10:25:37.735Z"
   },
   {
    "duration": 19,
    "start_time": "2022-12-24T10:25:37.742Z"
   },
   {
    "duration": 4,
    "start_time": "2022-12-24T10:25:37.763Z"
   },
   {
    "duration": 11,
    "start_time": "2022-12-24T10:25:37.768Z"
   },
   {
    "duration": 29,
    "start_time": "2022-12-24T10:26:38.987Z"
   },
   {
    "duration": 62,
    "start_time": "2022-12-24T10:27:48.434Z"
   },
   {
    "duration": 1056,
    "start_time": "2022-12-24T10:28:08.385Z"
   },
   {
    "duration": 32,
    "start_time": "2022-12-24T10:28:09.443Z"
   },
   {
    "duration": 8,
    "start_time": "2022-12-24T10:28:09.477Z"
   },
   {
    "duration": 8,
    "start_time": "2022-12-24T10:28:09.486Z"
   },
   {
    "duration": 48,
    "start_time": "2022-12-24T10:28:09.496Z"
   },
   {
    "duration": 11,
    "start_time": "2022-12-24T10:28:09.546Z"
   },
   {
    "duration": 15,
    "start_time": "2022-12-24T10:28:09.558Z"
   },
   {
    "duration": 10,
    "start_time": "2022-12-24T10:28:09.574Z"
   },
   {
    "duration": 10,
    "start_time": "2022-12-24T10:28:09.586Z"
   },
   {
    "duration": 12,
    "start_time": "2022-12-24T10:28:09.598Z"
   },
   {
    "duration": 21,
    "start_time": "2022-12-24T10:28:09.611Z"
   },
   {
    "duration": 29,
    "start_time": "2022-12-24T10:28:09.633Z"
   },
   {
    "duration": 19,
    "start_time": "2022-12-24T10:28:09.664Z"
   },
   {
    "duration": 16,
    "start_time": "2022-12-24T10:28:09.686Z"
   },
   {
    "duration": 33,
    "start_time": "2022-12-24T10:28:09.703Z"
   },
   {
    "duration": 16,
    "start_time": "2022-12-24T10:28:09.738Z"
   },
   {
    "duration": 2309,
    "start_time": "2022-12-24T10:28:09.756Z"
   },
   {
    "duration": 7,
    "start_time": "2022-12-24T10:28:12.067Z"
   },
   {
    "duration": 130,
    "start_time": "2022-12-24T10:28:12.076Z"
   },
   {
    "duration": 35,
    "start_time": "2022-12-24T10:28:12.208Z"
   },
   {
    "duration": 17,
    "start_time": "2022-12-24T10:28:12.244Z"
   },
   {
    "duration": 291,
    "start_time": "2022-12-24T10:28:12.262Z"
   },
   {
    "duration": 216,
    "start_time": "2022-12-24T10:28:12.556Z"
   },
   {
    "duration": 17,
    "start_time": "2022-12-24T10:28:12.774Z"
   },
   {
    "duration": 335,
    "start_time": "2022-12-24T10:28:12.793Z"
   },
   {
    "duration": 10,
    "start_time": "2022-12-24T10:28:13.130Z"
   },
   {
    "duration": 9,
    "start_time": "2022-12-24T10:28:13.142Z"
   },
   {
    "duration": 199,
    "start_time": "2022-12-24T10:28:13.152Z"
   },
   {
    "duration": 12,
    "start_time": "2022-12-24T10:28:13.353Z"
   },
   {
    "duration": 375,
    "start_time": "2022-12-24T10:28:13.367Z"
   },
   {
    "duration": 9,
    "start_time": "2022-12-24T10:28:13.743Z"
   },
   {
    "duration": 164,
    "start_time": "2022-12-24T10:28:13.754Z"
   },
   {
    "duration": 9,
    "start_time": "2022-12-24T10:28:13.920Z"
   },
   {
    "duration": 171,
    "start_time": "2022-12-24T10:28:13.931Z"
   },
   {
    "duration": 8,
    "start_time": "2022-12-24T10:28:14.103Z"
   },
   {
    "duration": 151,
    "start_time": "2022-12-24T10:28:14.113Z"
   },
   {
    "duration": 5,
    "start_time": "2022-12-24T10:28:14.265Z"
   },
   {
    "duration": 38,
    "start_time": "2022-12-24T10:28:14.271Z"
   },
   {
    "duration": 30,
    "start_time": "2022-12-24T10:28:14.311Z"
   },
   {
    "duration": 95,
    "start_time": "2022-12-24T10:28:14.342Z"
   },
   {
    "duration": 89,
    "start_time": "2022-12-24T10:28:14.441Z"
   },
   {
    "duration": 54,
    "start_time": "2022-12-24T10:28:14.532Z"
   },
   {
    "duration": 74,
    "start_time": "2022-12-24T10:28:14.588Z"
   },
   {
    "duration": 50,
    "start_time": "2022-12-24T10:28:14.664Z"
   },
   {
    "duration": 32,
    "start_time": "2022-12-24T10:28:14.716Z"
   },
   {
    "duration": 9,
    "start_time": "2022-12-24T10:28:14.750Z"
   },
   {
    "duration": 18,
    "start_time": "2022-12-24T10:28:14.761Z"
   },
   {
    "duration": 17,
    "start_time": "2022-12-24T10:28:14.781Z"
   },
   {
    "duration": 5,
    "start_time": "2022-12-24T10:28:14.799Z"
   },
   {
    "duration": 42,
    "start_time": "2022-12-24T10:28:14.806Z"
   },
   {
    "duration": 10,
    "start_time": "2022-12-24T10:28:14.850Z"
   },
   {
    "duration": 10,
    "start_time": "2022-12-24T10:28:14.861Z"
   },
   {
    "duration": 9,
    "start_time": "2022-12-24T10:28:14.872Z"
   },
   {
    "duration": 12,
    "start_time": "2022-12-24T10:28:14.883Z"
   },
   {
    "duration": 33,
    "start_time": "2022-12-24T10:28:14.896Z"
   },
   {
    "duration": 15,
    "start_time": "2022-12-24T10:28:14.930Z"
   },
   {
    "duration": 27,
    "start_time": "2022-12-24T10:28:14.946Z"
   },
   {
    "duration": 11,
    "start_time": "2022-12-24T10:28:14.975Z"
   },
   {
    "duration": 19,
    "start_time": "2022-12-24T10:28:14.988Z"
   },
   {
    "duration": 72,
    "start_time": "2022-12-24T10:29:27.054Z"
   },
   {
    "duration": 13,
    "start_time": "2022-12-24T10:29:38.944Z"
   },
   {
    "duration": 13,
    "start_time": "2022-12-24T10:29:46.644Z"
   },
   {
    "duration": 14,
    "start_time": "2022-12-24T10:30:07.483Z"
   },
   {
    "duration": 7,
    "start_time": "2022-12-24T10:31:48.487Z"
   },
   {
    "duration": 68,
    "start_time": "2022-12-24T10:33:53.404Z"
   },
   {
    "duration": 88,
    "start_time": "2022-12-24T10:35:23.055Z"
   },
   {
    "duration": 19,
    "start_time": "2022-12-24T10:43:07.009Z"
   },
   {
    "duration": 20,
    "start_time": "2022-12-24T10:44:24.904Z"
   },
   {
    "duration": 20,
    "start_time": "2022-12-24T10:44:47.558Z"
   },
   {
    "duration": 10,
    "start_time": "2022-12-24T10:46:27.613Z"
   },
   {
    "duration": 20,
    "start_time": "2022-12-24T10:48:08.213Z"
   },
   {
    "duration": 11,
    "start_time": "2022-12-24T10:49:28.689Z"
   },
   {
    "duration": 158,
    "start_time": "2022-12-24T10:51:38.245Z"
   },
   {
    "duration": 1207,
    "start_time": "2022-12-24T10:52:03.994Z"
   },
   {
    "duration": 14,
    "start_time": "2022-12-24T10:53:21.342Z"
   },
   {
    "duration": 13,
    "start_time": "2022-12-24T10:53:53.571Z"
   },
   {
    "duration": 8,
    "start_time": "2022-12-24T10:56:24.604Z"
   },
   {
    "duration": 70,
    "start_time": "2022-12-24T10:56:57.264Z"
   },
   {
    "duration": 135,
    "start_time": "2022-12-24T10:57:31.619Z"
   },
   {
    "duration": 76,
    "start_time": "2022-12-24T10:58:46.595Z"
   },
   {
    "duration": 4,
    "start_time": "2022-12-24T10:59:03.243Z"
   },
   {
    "duration": 3,
    "start_time": "2022-12-24T10:59:26.542Z"
   },
   {
    "duration": 96,
    "start_time": "2022-12-24T11:00:08.679Z"
   },
   {
    "duration": 4,
    "start_time": "2022-12-24T11:00:28.545Z"
   },
   {
    "duration": 4,
    "start_time": "2022-12-24T11:01:06.486Z"
   },
   {
    "duration": 12,
    "start_time": "2022-12-24T11:03:18.378Z"
   },
   {
    "duration": 87,
    "start_time": "2022-12-24T11:05:45.287Z"
   },
   {
    "duration": 15,
    "start_time": "2022-12-24T11:06:21.423Z"
   },
   {
    "duration": 16,
    "start_time": "2022-12-24T11:06:35.306Z"
   },
   {
    "duration": 13,
    "start_time": "2022-12-24T11:07:05.238Z"
   },
   {
    "duration": 72,
    "start_time": "2022-12-24T11:07:34.648Z"
   },
   {
    "duration": 5,
    "start_time": "2022-12-24T11:07:42.304Z"
   },
   {
    "duration": 13,
    "start_time": "2022-12-24T11:08:29.140Z"
   },
   {
    "duration": 1083,
    "start_time": "2022-12-24T11:08:38.621Z"
   },
   {
    "duration": 38,
    "start_time": "2022-12-24T11:08:39.706Z"
   },
   {
    "duration": 8,
    "start_time": "2022-12-24T11:08:39.745Z"
   },
   {
    "duration": 22,
    "start_time": "2022-12-24T11:08:39.755Z"
   },
   {
    "duration": 72,
    "start_time": "2022-12-24T11:08:39.778Z"
   },
   {
    "duration": 15,
    "start_time": "2022-12-24T11:08:39.852Z"
   },
   {
    "duration": 21,
    "start_time": "2022-12-24T11:08:39.868Z"
   },
   {
    "duration": 10,
    "start_time": "2022-12-24T11:08:39.891Z"
   },
   {
    "duration": 24,
    "start_time": "2022-12-24T11:08:39.902Z"
   },
   {
    "duration": 32,
    "start_time": "2022-12-24T11:08:39.929Z"
   },
   {
    "duration": 14,
    "start_time": "2022-12-24T11:08:39.962Z"
   },
   {
    "duration": 13,
    "start_time": "2022-12-24T11:08:39.978Z"
   },
   {
    "duration": 11,
    "start_time": "2022-12-24T11:08:39.992Z"
   },
   {
    "duration": 13,
    "start_time": "2022-12-24T11:08:40.005Z"
   },
   {
    "duration": 30,
    "start_time": "2022-12-24T11:08:40.020Z"
   },
   {
    "duration": 14,
    "start_time": "2022-12-24T11:08:40.052Z"
   },
   {
    "duration": 2327,
    "start_time": "2022-12-24T11:08:40.068Z"
   },
   {
    "duration": 6,
    "start_time": "2022-12-24T11:08:42.397Z"
   },
   {
    "duration": 133,
    "start_time": "2022-12-24T11:08:42.404Z"
   },
   {
    "duration": 15,
    "start_time": "2022-12-24T11:08:42.539Z"
   },
   {
    "duration": 15,
    "start_time": "2022-12-24T11:08:42.556Z"
   },
   {
    "duration": 282,
    "start_time": "2022-12-24T11:08:42.572Z"
   },
   {
    "duration": 218,
    "start_time": "2022-12-24T11:08:42.855Z"
   },
   {
    "duration": 11,
    "start_time": "2022-12-24T11:08:43.075Z"
   },
   {
    "duration": 305,
    "start_time": "2022-12-24T11:08:43.087Z"
   },
   {
    "duration": 10,
    "start_time": "2022-12-24T11:08:43.393Z"
   },
   {
    "duration": 11,
    "start_time": "2022-12-24T11:08:43.405Z"
   },
   {
    "duration": 193,
    "start_time": "2022-12-24T11:08:43.429Z"
   },
   {
    "duration": 28,
    "start_time": "2022-12-24T11:08:43.626Z"
   },
   {
    "duration": 398,
    "start_time": "2022-12-24T11:08:43.656Z"
   },
   {
    "duration": 9,
    "start_time": "2022-12-24T11:08:44.055Z"
   },
   {
    "duration": 163,
    "start_time": "2022-12-24T11:08:44.066Z"
   },
   {
    "duration": 5,
    "start_time": "2022-12-24T11:08:44.231Z"
   },
   {
    "duration": 164,
    "start_time": "2022-12-24T11:08:44.238Z"
   },
   {
    "duration": 7,
    "start_time": "2022-12-24T11:08:44.403Z"
   },
   {
    "duration": 149,
    "start_time": "2022-12-24T11:08:44.412Z"
   },
   {
    "duration": 4,
    "start_time": "2022-12-24T11:08:44.563Z"
   },
   {
    "duration": 11,
    "start_time": "2022-12-24T11:08:44.568Z"
   },
   {
    "duration": 10,
    "start_time": "2022-12-24T11:08:44.580Z"
   },
   {
    "duration": 59,
    "start_time": "2022-12-24T11:08:44.591Z"
   },
   {
    "duration": 45,
    "start_time": "2022-12-24T11:08:44.651Z"
   },
   {
    "duration": 6,
    "start_time": "2022-12-24T11:08:44.698Z"
   },
   {
    "duration": 74,
    "start_time": "2022-12-24T11:08:44.706Z"
   },
   {
    "duration": 66,
    "start_time": "2022-12-24T11:08:44.782Z"
   },
   {
    "duration": 27,
    "start_time": "2022-12-24T11:08:44.849Z"
   },
   {
    "duration": 10,
    "start_time": "2022-12-24T11:08:44.877Z"
   },
   {
    "duration": 16,
    "start_time": "2022-12-24T11:08:44.888Z"
   },
   {
    "duration": 26,
    "start_time": "2022-12-24T11:08:44.905Z"
   },
   {
    "duration": 16,
    "start_time": "2022-12-24T11:08:44.933Z"
   },
   {
    "duration": 26,
    "start_time": "2022-12-24T11:08:44.951Z"
   },
   {
    "duration": 11,
    "start_time": "2022-12-24T11:08:44.979Z"
   },
   {
    "duration": 17,
    "start_time": "2022-12-24T11:08:44.991Z"
   },
   {
    "duration": 37,
    "start_time": "2022-12-24T11:08:45.009Z"
   },
   {
    "duration": 102,
    "start_time": "2022-12-24T11:08:45.047Z"
   },
   {
    "duration": 0,
    "start_time": "2022-12-24T11:08:45.151Z"
   },
   {
    "duration": 0,
    "start_time": "2022-12-24T11:08:45.152Z"
   },
   {
    "duration": 0,
    "start_time": "2022-12-24T11:08:45.153Z"
   },
   {
    "duration": 0,
    "start_time": "2022-12-24T11:08:45.154Z"
   },
   {
    "duration": 0,
    "start_time": "2022-12-24T11:08:45.155Z"
   },
   {
    "duration": 0,
    "start_time": "2022-12-24T11:08:45.156Z"
   },
   {
    "duration": 13,
    "start_time": "2022-12-24T11:09:43.144Z"
   },
   {
    "duration": 79,
    "start_time": "2022-12-24T11:09:47.043Z"
   },
   {
    "duration": 927,
    "start_time": "2022-12-24T11:10:07.410Z"
   },
   {
    "duration": 12,
    "start_time": "2022-12-24T11:10:23.859Z"
   },
   {
    "duration": 3,
    "start_time": "2022-12-24T11:17:36.580Z"
   },
   {
    "duration": 7,
    "start_time": "2022-12-24T11:17:47.153Z"
   },
   {
    "duration": 13,
    "start_time": "2022-12-24T11:19:47.317Z"
   },
   {
    "duration": 9,
    "start_time": "2022-12-24T11:21:27.895Z"
   },
   {
    "duration": 3,
    "start_time": "2022-12-24T11:21:33.264Z"
   },
   {
    "duration": 12,
    "start_time": "2022-12-24T11:21:34.247Z"
   },
   {
    "duration": 9,
    "start_time": "2022-12-24T11:22:01.613Z"
   },
   {
    "duration": 1054,
    "start_time": "2022-12-24T11:28:59.751Z"
   },
   {
    "duration": 39,
    "start_time": "2022-12-24T11:29:00.807Z"
   },
   {
    "duration": 9,
    "start_time": "2022-12-24T11:29:00.847Z"
   },
   {
    "duration": 8,
    "start_time": "2022-12-24T11:29:00.857Z"
   },
   {
    "duration": 66,
    "start_time": "2022-12-24T11:29:00.866Z"
   },
   {
    "duration": 12,
    "start_time": "2022-12-24T11:29:00.933Z"
   },
   {
    "duration": 17,
    "start_time": "2022-12-24T11:29:00.947Z"
   },
   {
    "duration": 11,
    "start_time": "2022-12-24T11:29:00.966Z"
   },
   {
    "duration": 18,
    "start_time": "2022-12-24T11:29:00.978Z"
   },
   {
    "duration": 19,
    "start_time": "2022-12-24T11:29:00.997Z"
   },
   {
    "duration": 26,
    "start_time": "2022-12-24T11:29:01.027Z"
   },
   {
    "duration": 33,
    "start_time": "2022-12-24T11:29:01.054Z"
   },
   {
    "duration": 35,
    "start_time": "2022-12-24T11:29:01.089Z"
   },
   {
    "duration": 30,
    "start_time": "2022-12-24T11:29:01.126Z"
   },
   {
    "duration": 19,
    "start_time": "2022-12-24T11:29:01.158Z"
   },
   {
    "duration": 53,
    "start_time": "2022-12-24T11:29:01.179Z"
   },
   {
    "duration": 2296,
    "start_time": "2022-12-24T11:29:01.233Z"
   },
   {
    "duration": 6,
    "start_time": "2022-12-24T11:29:03.531Z"
   },
   {
    "duration": 131,
    "start_time": "2022-12-24T11:29:03.538Z"
   },
   {
    "duration": 15,
    "start_time": "2022-12-24T11:29:03.670Z"
   },
   {
    "duration": 6,
    "start_time": "2022-12-24T11:29:03.686Z"
   },
   {
    "duration": 292,
    "start_time": "2022-12-24T11:29:03.693Z"
   },
   {
    "duration": 215,
    "start_time": "2022-12-24T11:29:03.987Z"
   },
   {
    "duration": 11,
    "start_time": "2022-12-24T11:29:04.203Z"
   },
   {
    "duration": 302,
    "start_time": "2022-12-24T11:29:04.215Z"
   },
   {
    "duration": 16,
    "start_time": "2022-12-24T11:29:04.518Z"
   },
   {
    "duration": 9,
    "start_time": "2022-12-24T11:29:04.535Z"
   },
   {
    "duration": 196,
    "start_time": "2022-12-24T11:29:04.546Z"
   },
   {
    "duration": 12,
    "start_time": "2022-12-24T11:29:04.744Z"
   },
   {
    "duration": 382,
    "start_time": "2022-12-24T11:29:04.758Z"
   },
   {
    "duration": 8,
    "start_time": "2022-12-24T11:29:05.142Z"
   },
   {
    "duration": 166,
    "start_time": "2022-12-24T11:29:05.151Z"
   },
   {
    "duration": 8,
    "start_time": "2022-12-24T11:29:05.319Z"
   },
   {
    "duration": 151,
    "start_time": "2022-12-24T11:29:05.329Z"
   },
   {
    "duration": 9,
    "start_time": "2022-12-24T11:29:05.483Z"
   },
   {
    "duration": 189,
    "start_time": "2022-12-24T11:29:05.493Z"
   },
   {
    "duration": 6,
    "start_time": "2022-12-24T11:29:05.684Z"
   },
   {
    "duration": 10,
    "start_time": "2022-12-24T11:29:05.691Z"
   },
   {
    "duration": 24,
    "start_time": "2022-12-24T11:29:05.703Z"
   },
   {
    "duration": 52,
    "start_time": "2022-12-24T11:29:05.729Z"
   },
   {
    "duration": 54,
    "start_time": "2022-12-24T11:29:05.785Z"
   },
   {
    "duration": 10,
    "start_time": "2022-12-24T11:29:05.840Z"
   },
   {
    "duration": 57,
    "start_time": "2022-12-24T11:29:05.851Z"
   },
   {
    "duration": 65,
    "start_time": "2022-12-24T11:29:05.909Z"
   },
   {
    "duration": 25,
    "start_time": "2022-12-24T11:29:05.976Z"
   },
   {
    "duration": 28,
    "start_time": "2022-12-24T11:29:06.002Z"
   },
   {
    "duration": 10,
    "start_time": "2022-12-24T11:29:06.031Z"
   },
   {
    "duration": 6,
    "start_time": "2022-12-24T11:29:06.043Z"
   },
   {
    "duration": 8,
    "start_time": "2022-12-24T11:29:06.050Z"
   },
   {
    "duration": 33,
    "start_time": "2022-12-24T11:29:06.060Z"
   },
   {
    "duration": 9,
    "start_time": "2022-12-24T11:29:06.095Z"
   },
   {
    "duration": 23,
    "start_time": "2022-12-24T11:29:06.105Z"
   },
   {
    "duration": 6,
    "start_time": "2022-12-24T11:29:06.129Z"
   },
   {
    "duration": 9,
    "start_time": "2022-12-24T11:29:06.136Z"
   },
   {
    "duration": 7,
    "start_time": "2022-12-24T11:29:06.146Z"
   },
   {
    "duration": 9,
    "start_time": "2022-12-24T11:29:06.155Z"
   },
   {
    "duration": 6,
    "start_time": "2022-12-24T11:29:06.165Z"
   },
   {
    "duration": 21,
    "start_time": "2022-12-24T11:29:06.172Z"
   },
   {
    "duration": 106,
    "start_time": "2022-12-24T11:29:06.195Z"
   },
   {
    "duration": 4,
    "start_time": "2022-12-24T11:29:48.980Z"
   },
   {
    "duration": 11,
    "start_time": "2022-12-24T11:29:49.706Z"
   },
   {
    "duration": 21,
    "start_time": "2022-12-24T11:30:48.987Z"
   },
   {
    "duration": 22,
    "start_time": "2022-12-24T11:31:08.350Z"
   },
   {
    "duration": 14,
    "start_time": "2022-12-24T11:32:25.909Z"
   },
   {
    "duration": 17,
    "start_time": "2022-12-24T11:33:54.092Z"
   },
   {
    "duration": 7,
    "start_time": "2022-12-24T11:34:10.646Z"
   },
   {
    "duration": 5,
    "start_time": "2022-12-24T11:35:07.071Z"
   },
   {
    "duration": 9,
    "start_time": "2022-12-24T11:36:11.837Z"
   },
   {
    "duration": 6,
    "start_time": "2022-12-24T11:37:34.867Z"
   },
   {
    "duration": 19,
    "start_time": "2022-12-24T11:38:20.563Z"
   },
   {
    "duration": 9,
    "start_time": "2022-12-24T11:38:58.197Z"
   },
   {
    "duration": 4,
    "start_time": "2022-12-24T11:39:48.245Z"
   },
   {
    "duration": 1290,
    "start_time": "2022-12-24T11:40:25.583Z"
   },
   {
    "duration": 1263,
    "start_time": "2022-12-24T11:40:44.601Z"
   },
   {
    "duration": 6,
    "start_time": "2022-12-24T11:41:11.187Z"
   },
   {
    "duration": 4,
    "start_time": "2022-12-24T11:41:22.029Z"
   },
   {
    "duration": 7,
    "start_time": "2022-12-24T11:42:03.425Z"
   },
   {
    "duration": 4,
    "start_time": "2022-12-24T11:43:58.734Z"
   },
   {
    "duration": 7,
    "start_time": "2022-12-24T11:44:07.501Z"
   },
   {
    "duration": 6,
    "start_time": "2022-12-24T11:44:34.635Z"
   },
   {
    "duration": 8,
    "start_time": "2022-12-24T11:44:46.741Z"
   },
   {
    "duration": 7,
    "start_time": "2022-12-24T11:45:08.677Z"
   },
   {
    "duration": 6,
    "start_time": "2022-12-24T11:46:01.117Z"
   },
   {
    "duration": 84,
    "start_time": "2022-12-24T11:47:35.158Z"
   },
   {
    "duration": 69,
    "start_time": "2022-12-24T11:47:53.207Z"
   },
   {
    "duration": 71,
    "start_time": "2022-12-24T11:47:59.118Z"
   },
   {
    "duration": 8,
    "start_time": "2022-12-24T11:48:28.733Z"
   },
   {
    "duration": 9,
    "start_time": "2022-12-24T11:48:45.830Z"
   },
   {
    "duration": 1068,
    "start_time": "2022-12-24T11:52:03.974Z"
   },
   {
    "duration": 33,
    "start_time": "2022-12-24T11:52:05.045Z"
   },
   {
    "duration": 9,
    "start_time": "2022-12-24T11:52:05.080Z"
   },
   {
    "duration": 8,
    "start_time": "2022-12-24T11:52:05.090Z"
   },
   {
    "duration": 49,
    "start_time": "2022-12-24T11:52:05.099Z"
   },
   {
    "duration": 11,
    "start_time": "2022-12-24T11:52:05.149Z"
   },
   {
    "duration": 19,
    "start_time": "2022-12-24T11:52:05.162Z"
   },
   {
    "duration": 11,
    "start_time": "2022-12-24T11:52:05.182Z"
   },
   {
    "duration": 9,
    "start_time": "2022-12-24T11:52:05.195Z"
   },
   {
    "duration": 12,
    "start_time": "2022-12-24T11:52:05.206Z"
   },
   {
    "duration": 13,
    "start_time": "2022-12-24T11:52:05.226Z"
   },
   {
    "duration": 12,
    "start_time": "2022-12-24T11:52:05.241Z"
   },
   {
    "duration": 15,
    "start_time": "2022-12-24T11:52:05.255Z"
   },
   {
    "duration": 11,
    "start_time": "2022-12-24T11:52:05.272Z"
   },
   {
    "duration": 10,
    "start_time": "2022-12-24T11:52:05.284Z"
   },
   {
    "duration": 39,
    "start_time": "2022-12-24T11:52:05.296Z"
   },
   {
    "duration": 2295,
    "start_time": "2022-12-24T11:52:05.337Z"
   },
   {
    "duration": 7,
    "start_time": "2022-12-24T11:52:07.634Z"
   },
   {
    "duration": 132,
    "start_time": "2022-12-24T11:52:07.643Z"
   },
   {
    "duration": 21,
    "start_time": "2022-12-24T11:52:07.777Z"
   },
   {
    "duration": 9,
    "start_time": "2022-12-24T11:52:07.800Z"
   },
   {
    "duration": 333,
    "start_time": "2022-12-24T11:52:07.810Z"
   },
   {
    "duration": 195,
    "start_time": "2022-12-24T11:52:08.145Z"
   },
   {
    "duration": 11,
    "start_time": "2022-12-24T11:52:08.342Z"
   },
   {
    "duration": 273,
    "start_time": "2022-12-24T11:52:08.355Z"
   },
   {
    "duration": 10,
    "start_time": "2022-12-24T11:52:08.630Z"
   },
   {
    "duration": 29,
    "start_time": "2022-12-24T11:52:08.642Z"
   },
   {
    "duration": 178,
    "start_time": "2022-12-24T11:52:08.674Z"
   },
   {
    "duration": 12,
    "start_time": "2022-12-24T11:52:08.853Z"
   },
   {
    "duration": 362,
    "start_time": "2022-12-24T11:52:08.867Z"
   },
   {
    "duration": 9,
    "start_time": "2022-12-24T11:52:09.231Z"
   },
   {
    "duration": 156,
    "start_time": "2022-12-24T11:52:09.241Z"
   },
   {
    "duration": 4,
    "start_time": "2022-12-24T11:52:09.399Z"
   },
   {
    "duration": 154,
    "start_time": "2022-12-24T11:52:09.404Z"
   },
   {
    "duration": 8,
    "start_time": "2022-12-24T11:52:09.560Z"
   },
   {
    "duration": 149,
    "start_time": "2022-12-24T11:52:09.569Z"
   },
   {
    "duration": 8,
    "start_time": "2022-12-24T11:52:09.720Z"
   },
   {
    "duration": 13,
    "start_time": "2022-12-24T11:52:09.730Z"
   },
   {
    "duration": 31,
    "start_time": "2022-12-24T11:52:09.745Z"
   },
   {
    "duration": 62,
    "start_time": "2022-12-24T11:52:09.777Z"
   },
   {
    "duration": 70,
    "start_time": "2022-12-24T11:52:09.840Z"
   },
   {
    "duration": 32,
    "start_time": "2022-12-24T11:52:09.912Z"
   },
   {
    "duration": 70,
    "start_time": "2022-12-24T11:52:09.945Z"
   },
   {
    "duration": 57,
    "start_time": "2022-12-24T11:52:10.017Z"
   },
   {
    "duration": 26,
    "start_time": "2022-12-24T11:52:10.076Z"
   },
   {
    "duration": 28,
    "start_time": "2022-12-24T11:52:10.104Z"
   },
   {
    "duration": 12,
    "start_time": "2022-12-24T11:52:10.134Z"
   },
   {
    "duration": 38,
    "start_time": "2022-12-24T11:52:10.147Z"
   },
   {
    "duration": 25,
    "start_time": "2022-12-24T11:52:10.186Z"
   },
   {
    "duration": 24,
    "start_time": "2022-12-24T11:52:10.212Z"
   },
   {
    "duration": 47,
    "start_time": "2022-12-24T11:52:10.238Z"
   },
   {
    "duration": 13,
    "start_time": "2022-12-24T11:52:10.287Z"
   },
   {
    "duration": 41,
    "start_time": "2022-12-24T11:52:10.301Z"
   },
   {
    "duration": 31,
    "start_time": "2022-12-24T11:52:10.344Z"
   },
   {
    "duration": 48,
    "start_time": "2022-12-24T11:52:10.376Z"
   },
   {
    "duration": 42,
    "start_time": "2022-12-24T11:52:10.425Z"
   },
   {
    "duration": 32,
    "start_time": "2022-12-24T11:52:10.468Z"
   },
   {
    "duration": 33,
    "start_time": "2022-12-24T11:52:10.502Z"
   },
   {
    "duration": 45,
    "start_time": "2022-12-24T11:52:10.537Z"
   },
   {
    "duration": 25,
    "start_time": "2022-12-24T11:52:10.583Z"
   },
   {
    "duration": 27,
    "start_time": "2022-12-24T11:52:10.610Z"
   },
   {
    "duration": 1056,
    "start_time": "2022-12-24T11:53:32.144Z"
   },
   {
    "duration": 34,
    "start_time": "2022-12-24T11:53:33.202Z"
   },
   {
    "duration": 8,
    "start_time": "2022-12-24T11:53:33.238Z"
   },
   {
    "duration": 7,
    "start_time": "2022-12-24T11:53:33.247Z"
   },
   {
    "duration": 53,
    "start_time": "2022-12-24T11:53:33.256Z"
   },
   {
    "duration": 11,
    "start_time": "2022-12-24T11:53:33.311Z"
   },
   {
    "duration": 16,
    "start_time": "2022-12-24T11:53:33.323Z"
   },
   {
    "duration": 11,
    "start_time": "2022-12-24T11:53:33.340Z"
   },
   {
    "duration": 10,
    "start_time": "2022-12-24T11:53:33.353Z"
   },
   {
    "duration": 9,
    "start_time": "2022-12-24T11:53:33.366Z"
   },
   {
    "duration": 12,
    "start_time": "2022-12-24T11:53:33.376Z"
   },
   {
    "duration": 9,
    "start_time": "2022-12-24T11:53:33.389Z"
   },
   {
    "duration": 7,
    "start_time": "2022-12-24T11:53:33.426Z"
   },
   {
    "duration": 11,
    "start_time": "2022-12-24T11:53:33.434Z"
   },
   {
    "duration": 11,
    "start_time": "2022-12-24T11:53:33.447Z"
   },
   {
    "duration": 9,
    "start_time": "2022-12-24T11:53:33.460Z"
   },
   {
    "duration": 2290,
    "start_time": "2022-12-24T11:53:33.470Z"
   },
   {
    "duration": 7,
    "start_time": "2022-12-24T11:53:35.762Z"
   },
   {
    "duration": 146,
    "start_time": "2022-12-24T11:53:35.771Z"
   },
   {
    "duration": 27,
    "start_time": "2022-12-24T11:53:35.926Z"
   },
   {
    "duration": 30,
    "start_time": "2022-12-24T11:53:35.955Z"
   },
   {
    "duration": 282,
    "start_time": "2022-12-24T11:53:35.986Z"
   },
   {
    "duration": 208,
    "start_time": "2022-12-24T11:53:36.271Z"
   },
   {
    "duration": 11,
    "start_time": "2022-12-24T11:53:36.481Z"
   },
   {
    "duration": 335,
    "start_time": "2022-12-24T11:53:36.494Z"
   },
   {
    "duration": 11,
    "start_time": "2022-12-24T11:53:36.830Z"
   },
   {
    "duration": 10,
    "start_time": "2022-12-24T11:53:36.843Z"
   },
   {
    "duration": 207,
    "start_time": "2022-12-24T11:53:36.856Z"
   },
   {
    "duration": 12,
    "start_time": "2022-12-24T11:53:37.065Z"
   },
   {
    "duration": 368,
    "start_time": "2022-12-24T11:53:37.079Z"
   },
   {
    "duration": 11,
    "start_time": "2022-12-24T11:53:37.449Z"
   },
   {
    "duration": 167,
    "start_time": "2022-12-24T11:53:37.461Z"
   },
   {
    "duration": 5,
    "start_time": "2022-12-24T11:53:37.630Z"
   },
   {
    "duration": 149,
    "start_time": "2022-12-24T11:53:37.637Z"
   },
   {
    "duration": 8,
    "start_time": "2022-12-24T11:53:37.788Z"
   },
   {
    "duration": 199,
    "start_time": "2022-12-24T11:53:37.798Z"
   },
   {
    "duration": 4,
    "start_time": "2022-12-24T11:53:37.999Z"
   },
   {
    "duration": 28,
    "start_time": "2022-12-24T11:53:38.005Z"
   },
   {
    "duration": 37,
    "start_time": "2022-12-24T11:53:38.034Z"
   },
   {
    "duration": 27,
    "start_time": "2022-12-24T11:53:38.073Z"
   },
   {
    "duration": 30,
    "start_time": "2022-12-24T11:53:38.102Z"
   },
   {
    "duration": 21,
    "start_time": "2022-12-24T11:53:38.134Z"
   },
   {
    "duration": 17,
    "start_time": "2022-12-24T11:53:38.157Z"
   },
   {
    "duration": 11,
    "start_time": "2022-12-24T11:53:38.175Z"
   },
   {
    "duration": 21,
    "start_time": "2022-12-24T11:53:38.188Z"
   },
   {
    "duration": 10,
    "start_time": "2022-12-24T11:53:38.210Z"
   },
   {
    "duration": 11,
    "start_time": "2022-12-24T11:53:38.222Z"
   },
   {
    "duration": 22,
    "start_time": "2022-12-24T11:53:38.234Z"
   },
   {
    "duration": 22,
    "start_time": "2022-12-24T11:53:38.258Z"
   },
   {
    "duration": 24,
    "start_time": "2022-12-24T11:53:38.281Z"
   },
   {
    "duration": 22,
    "start_time": "2022-12-24T11:53:38.307Z"
   },
   {
    "duration": 19,
    "start_time": "2022-12-24T11:53:38.330Z"
   },
   {
    "duration": 32,
    "start_time": "2022-12-24T11:53:38.351Z"
   },
   {
    "duration": 3,
    "start_time": "2022-12-24T11:53:38.385Z"
   },
   {
    "duration": 18,
    "start_time": "2022-12-24T11:53:38.389Z"
   },
   {
    "duration": 7,
    "start_time": "2022-12-24T11:55:41.646Z"
   },
   {
    "duration": 2,
    "start_time": "2022-12-24T11:55:42.983Z"
   },
   {
    "duration": 4,
    "start_time": "2022-12-24T11:55:43.757Z"
   },
   {
    "duration": 13,
    "start_time": "2022-12-24T11:55:46.603Z"
   },
   {
    "duration": 7,
    "start_time": "2022-12-24T11:57:01.330Z"
   },
   {
    "duration": 7,
    "start_time": "2022-12-24T11:57:24.695Z"
   },
   {
    "duration": 14,
    "start_time": "2022-12-24T11:57:27.305Z"
   },
   {
    "duration": 7,
    "start_time": "2022-12-24T11:58:48.683Z"
   },
   {
    "duration": 22,
    "start_time": "2022-12-24T11:58:50.894Z"
   },
   {
    "duration": 6,
    "start_time": "2022-12-24T11:59:48.871Z"
   },
   {
    "duration": 94,
    "start_time": "2022-12-24T11:59:58.820Z"
   },
   {
    "duration": 4,
    "start_time": "2022-12-24T12:00:03.505Z"
   },
   {
    "duration": 1190,
    "start_time": "2022-12-24T12:00:12.732Z"
   },
   {
    "duration": 33,
    "start_time": "2022-12-24T12:00:13.923Z"
   },
   {
    "duration": 8,
    "start_time": "2022-12-24T12:00:13.958Z"
   },
   {
    "duration": 18,
    "start_time": "2022-12-24T12:00:13.967Z"
   },
   {
    "duration": 50,
    "start_time": "2022-12-24T12:00:13.987Z"
   },
   {
    "duration": 11,
    "start_time": "2022-12-24T12:00:14.039Z"
   },
   {
    "duration": 15,
    "start_time": "2022-12-24T12:00:14.051Z"
   },
   {
    "duration": 12,
    "start_time": "2022-12-24T12:00:14.068Z"
   },
   {
    "duration": 10,
    "start_time": "2022-12-24T12:00:14.081Z"
   },
   {
    "duration": 11,
    "start_time": "2022-12-24T12:00:14.093Z"
   },
   {
    "duration": 27,
    "start_time": "2022-12-24T12:00:14.105Z"
   },
   {
    "duration": 11,
    "start_time": "2022-12-24T12:00:14.133Z"
   },
   {
    "duration": 9,
    "start_time": "2022-12-24T12:00:14.145Z"
   },
   {
    "duration": 9,
    "start_time": "2022-12-24T12:00:14.155Z"
   },
   {
    "duration": 13,
    "start_time": "2022-12-24T12:00:14.166Z"
   },
   {
    "duration": 10,
    "start_time": "2022-12-24T12:00:14.180Z"
   },
   {
    "duration": 2362,
    "start_time": "2022-12-24T12:00:14.192Z"
   },
   {
    "duration": 7,
    "start_time": "2022-12-24T12:00:16.555Z"
   },
   {
    "duration": 130,
    "start_time": "2022-12-24T12:00:16.563Z"
   },
   {
    "duration": 23,
    "start_time": "2022-12-24T12:00:16.695Z"
   },
   {
    "duration": 36,
    "start_time": "2022-12-24T12:00:16.720Z"
   },
   {
    "duration": 298,
    "start_time": "2022-12-24T12:00:16.758Z"
   },
   {
    "duration": 210,
    "start_time": "2022-12-24T12:00:17.057Z"
   },
   {
    "duration": 11,
    "start_time": "2022-12-24T12:00:17.268Z"
   },
   {
    "duration": 331,
    "start_time": "2022-12-24T12:00:17.280Z"
   },
   {
    "duration": 17,
    "start_time": "2022-12-24T12:00:17.612Z"
   },
   {
    "duration": 19,
    "start_time": "2022-12-24T12:00:17.631Z"
   },
   {
    "duration": 216,
    "start_time": "2022-12-24T12:00:17.653Z"
   },
   {
    "duration": 13,
    "start_time": "2022-12-24T12:00:17.870Z"
   },
   {
    "duration": 382,
    "start_time": "2022-12-24T12:00:17.885Z"
   },
   {
    "duration": 9,
    "start_time": "2022-12-24T12:00:18.269Z"
   },
   {
    "duration": 162,
    "start_time": "2022-12-24T12:00:18.280Z"
   },
   {
    "duration": 5,
    "start_time": "2022-12-24T12:00:18.444Z"
   },
   {
    "duration": 151,
    "start_time": "2022-12-24T12:00:18.450Z"
   },
   {
    "duration": 8,
    "start_time": "2022-12-24T12:00:18.602Z"
   },
   {
    "duration": 164,
    "start_time": "2022-12-24T12:00:18.612Z"
   },
   {
    "duration": 5,
    "start_time": "2022-12-24T12:00:18.778Z"
   },
   {
    "duration": 14,
    "start_time": "2022-12-24T12:00:18.785Z"
   },
   {
    "duration": 23,
    "start_time": "2022-12-24T12:00:18.800Z"
   },
   {
    "duration": 15,
    "start_time": "2022-12-24T12:00:18.825Z"
   },
   {
    "duration": 12,
    "start_time": "2022-12-24T12:00:18.842Z"
   },
   {
    "duration": 6,
    "start_time": "2022-12-24T12:00:18.856Z"
   },
   {
    "duration": 12,
    "start_time": "2022-12-24T12:00:18.864Z"
   },
   {
    "duration": 12,
    "start_time": "2022-12-24T12:00:18.877Z"
   },
   {
    "duration": 21,
    "start_time": "2022-12-24T12:00:18.890Z"
   },
   {
    "duration": 19,
    "start_time": "2022-12-24T12:00:18.913Z"
   },
   {
    "duration": 6,
    "start_time": "2022-12-24T12:00:18.934Z"
   },
   {
    "duration": 7,
    "start_time": "2022-12-24T12:00:18.942Z"
   },
   {
    "duration": 20,
    "start_time": "2022-12-24T12:00:18.950Z"
   },
   {
    "duration": 8,
    "start_time": "2022-12-24T12:00:18.972Z"
   },
   {
    "duration": 11,
    "start_time": "2022-12-24T12:00:18.982Z"
   },
   {
    "duration": 11,
    "start_time": "2022-12-24T12:00:18.995Z"
   },
   {
    "duration": 28,
    "start_time": "2022-12-24T12:00:19.007Z"
   },
   {
    "duration": 4,
    "start_time": "2022-12-24T12:00:19.037Z"
   },
   {
    "duration": 15,
    "start_time": "2022-12-24T12:00:19.043Z"
   },
   {
    "duration": 1104,
    "start_time": "2022-12-24T12:01:20.634Z"
   },
   {
    "duration": 34,
    "start_time": "2022-12-24T12:01:21.740Z"
   },
   {
    "duration": 8,
    "start_time": "2022-12-24T12:01:21.776Z"
   },
   {
    "duration": 9,
    "start_time": "2022-12-24T12:01:21.786Z"
   },
   {
    "duration": 58,
    "start_time": "2022-12-24T12:01:21.797Z"
   },
   {
    "duration": 12,
    "start_time": "2022-12-24T12:01:21.857Z"
   },
   {
    "duration": 23,
    "start_time": "2022-12-24T12:01:21.870Z"
   },
   {
    "duration": 13,
    "start_time": "2022-12-24T12:01:21.894Z"
   },
   {
    "duration": 15,
    "start_time": "2022-12-24T12:01:21.908Z"
   },
   {
    "duration": 23,
    "start_time": "2022-12-24T12:01:21.925Z"
   },
   {
    "duration": 16,
    "start_time": "2022-12-24T12:01:21.950Z"
   },
   {
    "duration": 18,
    "start_time": "2022-12-24T12:01:21.968Z"
   },
   {
    "duration": 14,
    "start_time": "2022-12-24T12:01:21.988Z"
   },
   {
    "duration": 11,
    "start_time": "2022-12-24T12:01:22.005Z"
   },
   {
    "duration": 17,
    "start_time": "2022-12-24T12:01:22.017Z"
   },
   {
    "duration": 13,
    "start_time": "2022-12-24T12:01:22.036Z"
   },
   {
    "duration": 2249,
    "start_time": "2022-12-24T12:01:22.051Z"
   },
   {
    "duration": 7,
    "start_time": "2022-12-24T12:01:24.302Z"
   },
   {
    "duration": 118,
    "start_time": "2022-12-24T12:01:24.310Z"
   },
   {
    "duration": 14,
    "start_time": "2022-12-24T12:01:24.430Z"
   },
   {
    "duration": 6,
    "start_time": "2022-12-24T12:01:24.445Z"
   },
   {
    "duration": 283,
    "start_time": "2022-12-24T12:01:24.452Z"
   },
   {
    "duration": 207,
    "start_time": "2022-12-24T12:01:24.737Z"
   },
   {
    "duration": 10,
    "start_time": "2022-12-24T12:01:24.945Z"
   },
   {
    "duration": 278,
    "start_time": "2022-12-24T12:01:24.957Z"
   },
   {
    "duration": 10,
    "start_time": "2022-12-24T12:01:25.236Z"
   },
   {
    "duration": 9,
    "start_time": "2022-12-24T12:01:25.248Z"
   },
   {
    "duration": 233,
    "start_time": "2022-12-24T12:01:25.259Z"
   },
   {
    "duration": 15,
    "start_time": "2022-12-24T12:01:25.493Z"
   },
   {
    "duration": 447,
    "start_time": "2022-12-24T12:01:25.510Z"
   },
   {
    "duration": 10,
    "start_time": "2022-12-24T12:01:25.959Z"
   },
   {
    "duration": 182,
    "start_time": "2022-12-24T12:01:25.971Z"
   },
   {
    "duration": 5,
    "start_time": "2022-12-24T12:01:26.154Z"
   },
   {
    "duration": 157,
    "start_time": "2022-12-24T12:01:26.160Z"
   },
   {
    "duration": 11,
    "start_time": "2022-12-24T12:01:26.319Z"
   },
   {
    "duration": 146,
    "start_time": "2022-12-24T12:01:26.332Z"
   },
   {
    "duration": 6,
    "start_time": "2022-12-24T12:01:26.480Z"
   },
   {
    "duration": 18,
    "start_time": "2022-12-24T12:01:26.487Z"
   },
   {
    "duration": 18,
    "start_time": "2022-12-24T12:01:26.506Z"
   },
   {
    "duration": 27,
    "start_time": "2022-12-24T12:01:26.527Z"
   },
   {
    "duration": 10,
    "start_time": "2022-12-24T12:01:26.557Z"
   },
   {
    "duration": 10,
    "start_time": "2022-12-24T12:01:26.569Z"
   },
   {
    "duration": 18,
    "start_time": "2022-12-24T12:01:26.581Z"
   },
   {
    "duration": 14,
    "start_time": "2022-12-24T12:01:26.601Z"
   },
   {
    "duration": 38,
    "start_time": "2022-12-24T12:01:26.617Z"
   },
   {
    "duration": 9,
    "start_time": "2022-12-24T12:01:26.656Z"
   },
   {
    "duration": 25,
    "start_time": "2022-12-24T12:01:26.666Z"
   },
   {
    "duration": 20,
    "start_time": "2022-12-24T12:01:26.693Z"
   },
   {
    "duration": 29,
    "start_time": "2022-12-24T12:01:26.714Z"
   },
   {
    "duration": 22,
    "start_time": "2022-12-24T12:01:26.745Z"
   },
   {
    "duration": 8,
    "start_time": "2022-12-24T12:01:26.769Z"
   },
   {
    "duration": 29,
    "start_time": "2022-12-24T12:01:26.778Z"
   },
   {
    "duration": 25,
    "start_time": "2022-12-24T12:01:26.809Z"
   },
   {
    "duration": 5,
    "start_time": "2022-12-24T12:01:26.835Z"
   },
   {
    "duration": 11,
    "start_time": "2022-12-24T12:01:26.842Z"
   },
   {
    "duration": 1061,
    "start_time": "2022-12-24T12:14:52.240Z"
   },
   {
    "duration": 33,
    "start_time": "2022-12-24T12:14:53.302Z"
   },
   {
    "duration": 8,
    "start_time": "2022-12-24T12:14:53.337Z"
   },
   {
    "duration": 28,
    "start_time": "2022-12-24T12:14:53.346Z"
   },
   {
    "duration": 54,
    "start_time": "2022-12-24T12:14:53.376Z"
   },
   {
    "duration": 11,
    "start_time": "2022-12-24T12:14:53.432Z"
   },
   {
    "duration": 21,
    "start_time": "2022-12-24T12:14:53.444Z"
   },
   {
    "duration": 11,
    "start_time": "2022-12-24T12:14:53.467Z"
   },
   {
    "duration": 16,
    "start_time": "2022-12-24T12:14:53.479Z"
   },
   {
    "duration": 12,
    "start_time": "2022-12-24T12:14:53.498Z"
   },
   {
    "duration": 19,
    "start_time": "2022-12-24T12:14:53.512Z"
   },
   {
    "duration": 8,
    "start_time": "2022-12-24T12:14:53.532Z"
   },
   {
    "duration": 11,
    "start_time": "2022-12-24T12:14:53.541Z"
   },
   {
    "duration": 18,
    "start_time": "2022-12-24T12:14:53.553Z"
   },
   {
    "duration": 11,
    "start_time": "2022-12-24T12:14:53.572Z"
   },
   {
    "duration": 13,
    "start_time": "2022-12-24T12:14:53.585Z"
   },
   {
    "duration": 2370,
    "start_time": "2022-12-24T12:14:53.599Z"
   },
   {
    "duration": 6,
    "start_time": "2022-12-24T12:14:55.971Z"
   },
   {
    "duration": 140,
    "start_time": "2022-12-24T12:14:55.978Z"
   },
   {
    "duration": 15,
    "start_time": "2022-12-24T12:14:56.126Z"
   },
   {
    "duration": 6,
    "start_time": "2022-12-24T12:14:56.143Z"
   },
   {
    "duration": 297,
    "start_time": "2022-12-24T12:14:56.151Z"
   },
   {
    "duration": 230,
    "start_time": "2022-12-24T12:14:56.450Z"
   },
   {
    "duration": 11,
    "start_time": "2022-12-24T12:14:56.682Z"
   },
   {
    "duration": 354,
    "start_time": "2022-12-24T12:14:56.695Z"
   },
   {
    "duration": 10,
    "start_time": "2022-12-24T12:14:57.050Z"
   },
   {
    "duration": 10,
    "start_time": "2022-12-24T12:14:57.062Z"
   },
   {
    "duration": 203,
    "start_time": "2022-12-24T12:14:57.075Z"
   },
   {
    "duration": 14,
    "start_time": "2022-12-24T12:14:57.279Z"
   },
   {
    "duration": 416,
    "start_time": "2022-12-24T12:14:57.294Z"
   },
   {
    "duration": 20,
    "start_time": "2022-12-24T12:14:57.712Z"
   },
   {
    "duration": 179,
    "start_time": "2022-12-24T12:14:57.733Z"
   },
   {
    "duration": 5,
    "start_time": "2022-12-24T12:14:57.913Z"
   },
   {
    "duration": 154,
    "start_time": "2022-12-24T12:14:57.925Z"
   },
   {
    "duration": 9,
    "start_time": "2022-12-24T12:14:58.080Z"
   },
   {
    "duration": 160,
    "start_time": "2022-12-24T12:14:58.090Z"
   },
   {
    "duration": 5,
    "start_time": "2022-12-24T12:14:58.251Z"
   },
   {
    "duration": 15,
    "start_time": "2022-12-24T12:14:58.257Z"
   },
   {
    "duration": 35,
    "start_time": "2022-12-24T12:14:58.274Z"
   },
   {
    "duration": 59,
    "start_time": "2022-12-24T12:14:58.311Z"
   },
   {
    "duration": 21,
    "start_time": "2022-12-24T12:14:58.371Z"
   },
   {
    "duration": 6,
    "start_time": "2022-12-24T12:14:58.393Z"
   },
   {
    "duration": 6,
    "start_time": "2022-12-24T12:14:58.400Z"
   },
   {
    "duration": 13,
    "start_time": "2022-12-24T12:14:58.407Z"
   },
   {
    "duration": 26,
    "start_time": "2022-12-24T12:14:58.422Z"
   },
   {
    "duration": 10,
    "start_time": "2022-12-24T12:14:58.449Z"
   },
   {
    "duration": 7,
    "start_time": "2022-12-24T12:14:58.461Z"
   },
   {
    "duration": 6,
    "start_time": "2022-12-24T12:14:58.469Z"
   },
   {
    "duration": 8,
    "start_time": "2022-12-24T12:14:58.477Z"
   },
   {
    "duration": 8,
    "start_time": "2022-12-24T12:14:58.487Z"
   },
   {
    "duration": 5,
    "start_time": "2022-12-24T12:14:58.496Z"
   },
   {
    "duration": 29,
    "start_time": "2022-12-24T12:14:58.503Z"
   },
   {
    "duration": 22,
    "start_time": "2022-12-24T12:14:58.533Z"
   },
   {
    "duration": 4,
    "start_time": "2022-12-24T12:14:58.557Z"
   },
   {
    "duration": 13,
    "start_time": "2022-12-24T12:14:58.563Z"
   },
   {
    "duration": 5,
    "start_time": "2022-12-24T12:15:38.805Z"
   },
   {
    "duration": 94,
    "start_time": "2022-12-24T12:16:09.499Z"
   },
   {
    "duration": 8,
    "start_time": "2022-12-24T12:16:30.431Z"
   },
   {
    "duration": 8,
    "start_time": "2022-12-24T12:16:45.913Z"
   },
   {
    "duration": 9,
    "start_time": "2022-12-24T12:16:52.938Z"
   },
   {
    "duration": 5,
    "start_time": "2022-12-24T12:17:02.182Z"
   },
   {
    "duration": 5,
    "start_time": "2022-12-24T12:18:43.834Z"
   },
   {
    "duration": 9,
    "start_time": "2022-12-24T12:18:57.783Z"
   },
   {
    "duration": 3,
    "start_time": "2022-12-24T12:19:40.506Z"
   },
   {
    "duration": 9,
    "start_time": "2022-12-24T12:21:56.764Z"
   },
   {
    "duration": 3,
    "start_time": "2022-12-24T12:22:01.138Z"
   },
   {
    "duration": 6,
    "start_time": "2022-12-24T12:22:01.780Z"
   },
   {
    "duration": 94,
    "start_time": "2022-12-24T12:22:26.773Z"
   },
   {
    "duration": 90,
    "start_time": "2022-12-24T12:23:13.542Z"
   },
   {
    "duration": 6,
    "start_time": "2022-12-24T12:23:26.310Z"
   },
   {
    "duration": 7,
    "start_time": "2022-12-24T12:23:41.833Z"
   },
   {
    "duration": 1124,
    "start_time": "2022-12-24T12:23:52.119Z"
   },
   {
    "duration": 3,
    "start_time": "2022-12-24T12:24:57.468Z"
   },
   {
    "duration": 6,
    "start_time": "2022-12-24T12:24:58.407Z"
   },
   {
    "duration": 1062,
    "start_time": "2022-12-24T12:25:20.274Z"
   },
   {
    "duration": 33,
    "start_time": "2022-12-24T12:25:21.338Z"
   },
   {
    "duration": 8,
    "start_time": "2022-12-24T12:25:21.372Z"
   },
   {
    "duration": 8,
    "start_time": "2022-12-24T12:25:21.381Z"
   },
   {
    "duration": 50,
    "start_time": "2022-12-24T12:25:21.390Z"
   },
   {
    "duration": 12,
    "start_time": "2022-12-24T12:25:21.441Z"
   },
   {
    "duration": 33,
    "start_time": "2022-12-24T12:25:21.455Z"
   },
   {
    "duration": 11,
    "start_time": "2022-12-24T12:25:21.490Z"
   },
   {
    "duration": 31,
    "start_time": "2022-12-24T12:25:21.503Z"
   },
   {
    "duration": 45,
    "start_time": "2022-12-24T12:25:21.536Z"
   },
   {
    "duration": 33,
    "start_time": "2022-12-24T12:25:21.589Z"
   },
   {
    "duration": 39,
    "start_time": "2022-12-24T12:25:21.624Z"
   },
   {
    "duration": 17,
    "start_time": "2022-12-24T12:25:21.665Z"
   },
   {
    "duration": 27,
    "start_time": "2022-12-24T12:25:21.686Z"
   },
   {
    "duration": 31,
    "start_time": "2022-12-24T12:25:21.714Z"
   },
   {
    "duration": 26,
    "start_time": "2022-12-24T12:25:21.746Z"
   },
   {
    "duration": 2301,
    "start_time": "2022-12-24T12:25:21.774Z"
   },
   {
    "duration": 6,
    "start_time": "2022-12-24T12:25:24.077Z"
   },
   {
    "duration": 128,
    "start_time": "2022-12-24T12:25:24.085Z"
   },
   {
    "duration": 22,
    "start_time": "2022-12-24T12:25:24.214Z"
   },
   {
    "duration": 16,
    "start_time": "2022-12-24T12:25:24.237Z"
   },
   {
    "duration": 268,
    "start_time": "2022-12-24T12:25:24.255Z"
   },
   {
    "duration": 201,
    "start_time": "2022-12-24T12:25:24.525Z"
   },
   {
    "duration": 10,
    "start_time": "2022-12-24T12:25:24.727Z"
   },
   {
    "duration": 289,
    "start_time": "2022-12-24T12:25:24.739Z"
   },
   {
    "duration": 11,
    "start_time": "2022-12-24T12:25:25.030Z"
   },
   {
    "duration": 14,
    "start_time": "2022-12-24T12:25:25.043Z"
   },
   {
    "duration": 199,
    "start_time": "2022-12-24T12:25:25.059Z"
   },
   {
    "duration": 13,
    "start_time": "2022-12-24T12:25:25.260Z"
   },
   {
    "duration": 413,
    "start_time": "2022-12-24T12:25:25.274Z"
   },
   {
    "duration": 11,
    "start_time": "2022-12-24T12:25:25.689Z"
   },
   {
    "duration": 164,
    "start_time": "2022-12-24T12:25:25.702Z"
   },
   {
    "duration": 4,
    "start_time": "2022-12-24T12:25:25.868Z"
   },
   {
    "duration": 148,
    "start_time": "2022-12-24T12:25:25.873Z"
   },
   {
    "duration": 10,
    "start_time": "2022-12-24T12:25:26.023Z"
   },
   {
    "duration": 150,
    "start_time": "2022-12-24T12:25:26.035Z"
   },
   {
    "duration": 4,
    "start_time": "2022-12-24T12:25:26.187Z"
   },
   {
    "duration": 9,
    "start_time": "2022-12-24T12:25:26.192Z"
   },
   {
    "duration": 10,
    "start_time": "2022-12-24T12:25:26.203Z"
   },
   {
    "duration": 19,
    "start_time": "2022-12-24T12:25:26.214Z"
   },
   {
    "duration": 9,
    "start_time": "2022-12-24T12:25:26.237Z"
   },
   {
    "duration": 6,
    "start_time": "2022-12-24T12:25:26.247Z"
   },
   {
    "duration": 9,
    "start_time": "2022-12-24T12:25:26.255Z"
   },
   {
    "duration": 7,
    "start_time": "2022-12-24T12:25:26.265Z"
   },
   {
    "duration": 33,
    "start_time": "2022-12-24T12:25:26.274Z"
   },
   {
    "duration": 11,
    "start_time": "2022-12-24T12:25:26.327Z"
   },
   {
    "duration": 4,
    "start_time": "2022-12-24T12:25:26.339Z"
   },
   {
    "duration": 14,
    "start_time": "2022-12-24T12:25:26.345Z"
   },
   {
    "duration": 6,
    "start_time": "2022-12-24T12:25:26.360Z"
   },
   {
    "duration": 9,
    "start_time": "2022-12-24T12:25:26.368Z"
   },
   {
    "duration": 10,
    "start_time": "2022-12-24T12:25:26.379Z"
   },
   {
    "duration": 5,
    "start_time": "2022-12-24T12:25:26.390Z"
   },
   {
    "duration": 34,
    "start_time": "2022-12-24T12:25:26.396Z"
   },
   {
    "duration": 24,
    "start_time": "2022-12-24T12:25:26.432Z"
   },
   {
    "duration": 4,
    "start_time": "2022-12-24T12:25:26.458Z"
   },
   {
    "duration": 17,
    "start_time": "2022-12-24T12:25:26.464Z"
   },
   {
    "duration": 1462,
    "start_time": "2022-12-25T10:50:18.373Z"
   },
   {
    "duration": 80,
    "start_time": "2022-12-25T10:50:19.838Z"
   },
   {
    "duration": 12,
    "start_time": "2022-12-25T10:50:19.920Z"
   },
   {
    "duration": 9,
    "start_time": "2022-12-25T10:50:19.934Z"
   },
   {
    "duration": 127,
    "start_time": "2022-12-25T10:50:19.945Z"
   },
   {
    "duration": 14,
    "start_time": "2022-12-25T10:50:20.074Z"
   },
   {
    "duration": 21,
    "start_time": "2022-12-25T10:50:20.090Z"
   },
   {
    "duration": 13,
    "start_time": "2022-12-25T10:50:20.113Z"
   },
   {
    "duration": 12,
    "start_time": "2022-12-25T10:50:20.129Z"
   },
   {
    "duration": 12,
    "start_time": "2022-12-25T10:50:20.177Z"
   },
   {
    "duration": 13,
    "start_time": "2022-12-25T10:50:20.192Z"
   },
   {
    "duration": 19,
    "start_time": "2022-12-25T10:50:20.207Z"
   },
   {
    "duration": 13,
    "start_time": "2022-12-25T10:50:20.228Z"
   },
   {
    "duration": 36,
    "start_time": "2022-12-25T10:50:20.242Z"
   },
   {
    "duration": 12,
    "start_time": "2022-12-25T10:50:20.280Z"
   },
   {
    "duration": 16,
    "start_time": "2022-12-25T10:50:20.294Z"
   },
   {
    "duration": 2579,
    "start_time": "2022-12-25T10:50:20.312Z"
   },
   {
    "duration": 8,
    "start_time": "2022-12-25T10:50:22.893Z"
   },
   {
    "duration": 148,
    "start_time": "2022-12-25T10:50:22.902Z"
   },
   {
    "duration": 26,
    "start_time": "2022-12-25T10:50:23.052Z"
   },
   {
    "duration": 6,
    "start_time": "2022-12-25T10:50:23.080Z"
   },
   {
    "duration": 328,
    "start_time": "2022-12-25T10:50:23.088Z"
   },
   {
    "duration": 246,
    "start_time": "2022-12-25T10:50:23.418Z"
   },
   {
    "duration": 14,
    "start_time": "2022-12-25T10:50:23.665Z"
   },
   {
    "duration": 388,
    "start_time": "2022-12-25T10:50:23.681Z"
   },
   {
    "duration": 15,
    "start_time": "2022-12-25T10:50:24.071Z"
   },
   {
    "duration": 21,
    "start_time": "2022-12-25T10:50:24.088Z"
   },
   {
    "duration": 229,
    "start_time": "2022-12-25T10:50:24.113Z"
   },
   {
    "duration": 14,
    "start_time": "2022-12-25T10:50:24.344Z"
   },
   {
    "duration": 455,
    "start_time": "2022-12-25T10:50:24.359Z"
   },
   {
    "duration": 10,
    "start_time": "2022-12-25T10:50:24.816Z"
   },
   {
    "duration": 187,
    "start_time": "2022-12-25T10:50:24.827Z"
   },
   {
    "duration": 5,
    "start_time": "2022-12-25T10:50:25.016Z"
   },
   {
    "duration": 192,
    "start_time": "2022-12-25T10:50:25.023Z"
   },
   {
    "duration": 8,
    "start_time": "2022-12-25T10:50:25.217Z"
   },
   {
    "duration": 164,
    "start_time": "2022-12-25T10:50:25.227Z"
   },
   {
    "duration": 5,
    "start_time": "2022-12-25T10:50:25.393Z"
   },
   {
    "duration": 22,
    "start_time": "2022-12-25T10:50:25.400Z"
   },
   {
    "duration": 68,
    "start_time": "2022-12-25T10:50:25.424Z"
   },
   {
    "duration": 28,
    "start_time": "2022-12-25T10:50:25.494Z"
   },
   {
    "duration": 55,
    "start_time": "2022-12-25T10:50:25.524Z"
   },
   {
    "duration": 7,
    "start_time": "2022-12-25T10:50:25.581Z"
   },
   {
    "duration": 23,
    "start_time": "2022-12-25T10:50:25.589Z"
   },
   {
    "duration": 64,
    "start_time": "2022-12-25T10:50:25.614Z"
   },
   {
    "duration": 46,
    "start_time": "2022-12-25T10:50:25.680Z"
   },
   {
    "duration": 55,
    "start_time": "2022-12-25T10:50:25.727Z"
   },
   {
    "duration": 5,
    "start_time": "2022-12-25T10:50:25.784Z"
   },
   {
    "duration": 13,
    "start_time": "2022-12-25T10:50:25.790Z"
   },
   {
    "duration": 12,
    "start_time": "2022-12-25T10:50:25.805Z"
   },
   {
    "duration": 15,
    "start_time": "2022-12-25T10:50:25.819Z"
   },
   {
    "duration": 45,
    "start_time": "2022-12-25T10:50:25.836Z"
   },
   {
    "duration": 7,
    "start_time": "2022-12-25T10:50:25.883Z"
   },
   {
    "duration": 18,
    "start_time": "2022-12-25T10:50:25.893Z"
   },
   {
    "duration": 37,
    "start_time": "2022-12-25T10:50:25.913Z"
   },
   {
    "duration": 27,
    "start_time": "2022-12-25T10:50:25.952Z"
   },
   {
    "duration": 11,
    "start_time": "2022-12-25T10:50:25.981Z"
   },
   {
    "duration": 11,
    "start_time": "2022-12-25T10:50:56.490Z"
   },
   {
    "duration": 51,
    "start_time": "2022-12-25T10:53:29.511Z"
   },
   {
    "duration": 47,
    "start_time": "2022-12-25T10:54:04.933Z"
   },
   {
    "duration": 1256,
    "start_time": "2023-03-16T04:06:21.092Z"
   },
   {
    "duration": 84,
    "start_time": "2023-03-16T04:06:22.350Z"
   },
   {
    "duration": 15,
    "start_time": "2023-03-16T04:06:22.435Z"
   },
   {
    "duration": 14,
    "start_time": "2023-03-16T04:06:22.454Z"
   },
   {
    "duration": 166,
    "start_time": "2023-03-16T04:06:22.469Z"
   },
   {
    "duration": 13,
    "start_time": "2023-03-16T04:06:22.637Z"
   },
   {
    "duration": 28,
    "start_time": "2023-03-16T04:06:22.652Z"
   },
   {
    "duration": 14,
    "start_time": "2023-03-16T04:06:22.682Z"
   },
   {
    "duration": 17,
    "start_time": "2023-03-16T04:06:22.699Z"
   },
   {
    "duration": 19,
    "start_time": "2023-03-16T04:06:22.720Z"
   },
   {
    "duration": 14,
    "start_time": "2023-03-16T04:06:22.741Z"
   },
   {
    "duration": 41,
    "start_time": "2023-03-16T04:06:22.757Z"
   },
   {
    "duration": 12,
    "start_time": "2023-03-16T04:06:22.800Z"
   },
   {
    "duration": 13,
    "start_time": "2023-03-16T04:06:22.813Z"
   },
   {
    "duration": 21,
    "start_time": "2023-03-16T04:06:22.828Z"
   },
   {
    "duration": 38,
    "start_time": "2023-03-16T04:06:22.851Z"
   },
   {
    "duration": 2659,
    "start_time": "2023-03-16T04:06:22.892Z"
   },
   {
    "duration": 14,
    "start_time": "2023-03-16T04:06:25.553Z"
   },
   {
    "duration": 161,
    "start_time": "2023-03-16T04:06:25.569Z"
   },
   {
    "duration": 26,
    "start_time": "2023-03-16T04:06:25.734Z"
   },
   {
    "duration": 13,
    "start_time": "2023-03-16T04:06:25.780Z"
   },
   {
    "duration": 400,
    "start_time": "2023-03-16T04:06:25.796Z"
   },
   {
    "duration": 260,
    "start_time": "2023-03-16T04:06:26.197Z"
   },
   {
    "duration": 21,
    "start_time": "2023-03-16T04:06:26.459Z"
   },
   {
    "duration": 335,
    "start_time": "2023-03-16T04:06:26.483Z"
   },
   {
    "duration": 13,
    "start_time": "2023-03-16T04:06:26.820Z"
   },
   {
    "duration": 13,
    "start_time": "2023-03-16T04:06:26.835Z"
   },
   {
    "duration": 247,
    "start_time": "2023-03-16T04:06:26.852Z"
   },
   {
    "duration": 16,
    "start_time": "2023-03-16T04:06:27.101Z"
   },
   {
    "duration": 476,
    "start_time": "2023-03-16T04:06:27.119Z"
   },
   {
    "duration": 11,
    "start_time": "2023-03-16T04:06:27.598Z"
   },
   {
    "duration": 199,
    "start_time": "2023-03-16T04:06:27.612Z"
   },
   {
    "duration": 6,
    "start_time": "2023-03-16T04:06:27.813Z"
   },
   {
    "duration": 251,
    "start_time": "2023-03-16T04:06:27.822Z"
   },
   {
    "duration": 34,
    "start_time": "2023-03-16T04:06:28.075Z"
   },
   {
    "duration": 186,
    "start_time": "2023-03-16T04:06:28.112Z"
   },
   {
    "duration": 8,
    "start_time": "2023-03-16T04:06:28.300Z"
   },
   {
    "duration": 19,
    "start_time": "2023-03-16T04:06:28.309Z"
   },
   {
    "duration": 16,
    "start_time": "2023-03-16T04:06:28.330Z"
   },
   {
    "duration": 32,
    "start_time": "2023-03-16T04:06:28.348Z"
   },
   {
    "duration": 12,
    "start_time": "2023-03-16T04:06:28.382Z"
   },
   {
    "duration": 8,
    "start_time": "2023-03-16T04:06:28.396Z"
   },
   {
    "duration": 6,
    "start_time": "2023-03-16T04:06:28.406Z"
   },
   {
    "duration": 11,
    "start_time": "2023-03-16T04:06:28.413Z"
   },
   {
    "duration": 58,
    "start_time": "2023-03-16T04:06:28.426Z"
   },
   {
    "duration": 15,
    "start_time": "2023-03-16T04:06:28.486Z"
   },
   {
    "duration": 9,
    "start_time": "2023-03-16T04:06:28.504Z"
   },
   {
    "duration": 34,
    "start_time": "2023-03-16T04:06:28.515Z"
   },
   {
    "duration": 8,
    "start_time": "2023-03-16T04:06:28.551Z"
   },
   {
    "duration": 14,
    "start_time": "2023-03-16T04:06:28.560Z"
   },
   {
    "duration": 12,
    "start_time": "2023-03-16T04:06:28.576Z"
   },
   {
    "duration": 13,
    "start_time": "2023-03-16T04:06:28.590Z"
   },
   {
    "duration": 20,
    "start_time": "2023-03-16T04:06:28.605Z"
   },
   {
    "duration": 24,
    "start_time": "2023-03-16T04:06:28.627Z"
   },
   {
    "duration": 5,
    "start_time": "2023-03-16T04:06:28.653Z"
   },
   {
    "duration": 34,
    "start_time": "2023-03-16T04:06:28.660Z"
   }
  ],
  "kernelspec": {
   "display_name": "Python 3 (ipykernel)",
   "language": "python",
   "name": "python3"
  },
  "language_info": {
   "codemirror_mode": {
    "name": "ipython",
    "version": 3
   },
   "file_extension": ".py",
   "mimetype": "text/x-python",
   "name": "python",
   "nbconvert_exporter": "python",
   "pygments_lexer": "ipython3",
   "version": "3.9.5"
  },
  "toc": {
   "base_numbering": 1,
   "nav_menu": {},
   "number_sections": true,
   "sideBar": true,
   "skip_h1_title": true,
   "title_cell": "Table of Contents",
   "title_sidebar": "Contents",
   "toc_cell": false,
   "toc_position": {},
   "toc_section_display": true,
   "toc_window_display": false
  }
 },
 "nbformat": 4,
 "nbformat_minor": 2
}
